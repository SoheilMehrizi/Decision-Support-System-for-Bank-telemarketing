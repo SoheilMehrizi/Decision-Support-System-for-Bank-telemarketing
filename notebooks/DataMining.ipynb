{
 "cells": [
  {
   "cell_type": "markdown",
   "metadata": {
    "vscode": {
     "languageId": "markdown"
    }
   },
   "source": [
    "# Data Mining\n",
    "\n",
    "This NoteBook is dedicated to:\n",
    "\n",
    "1. Data Cleaning and Preprocessing\n",
    "2. Train and evaluating 4 different data mining models to understand complex patterns within collected data\n",
    "\n",
    "the DM models as one of the critical components of a Decision support system will detect lying patterns and relations within data."
   ]
  },
  {
   "cell_type": "markdown",
   "metadata": {},
   "source": [
    "## Required Packages"
   ]
  },
  {
   "cell_type": "code",
   "execution_count": 1,
   "metadata": {},
   "outputs": [],
   "source": [
    "import sys\n",
    "\n",
    "sys.path.append(r\"h:\\Resume\\Projects\\DataScience\\Banking Telemarketing Decision Support System\\Project\")\n",
    "\n",
    "import pandas as pd\n",
    "import numpy as np\n",
    "\n",
    "import importlib\n",
    "\n",
    "from src.data_preprocessing import create_preprocessor, cleaning_pipeline_step\n",
    "\n",
    "import src.data_ingestion as load\n",
    "from src.models.model_selection import train_log_compare_models\n",
    "from configs.config_repository import ConfigRepository\n",
    "from src.models.model_repository import ModelRepository\n",
    "\n",
    "from src.models.model_utils import get_features_importance_df"
   ]
  },
  {
   "cell_type": "markdown",
   "metadata": {},
   "source": [
    "## Data Prepration"
   ]
  },
  {
   "cell_type": "markdown",
   "metadata": {},
   "source": [
    "### Loading the data"
   ]
  },
  {
   "cell_type": "code",
   "execution_count": 2,
   "metadata": {},
   "outputs": [
    {
     "name": "stdout",
     "output_type": "stream",
     "text": [
      "Dataset loaded successfully with 45211 rows and 17 columns.\n",
      "Dataset loaded successfully with 4521 rows and 17 columns.\n"
     ]
    }
   ],
   "source": [
    "df_train = load.load_csv_to_dataframe(file_path = '../data//raw/bank-full.csv')\n",
    "df_test = load.load_csv_to_dataframe(file_path = '../data/raw/bank.csv' )"
   ]
  },
  {
   "cell_type": "code",
   "execution_count": 3,
   "metadata": {},
   "outputs": [
    {
     "name": "stdout",
     "output_type": "stream",
     "text": [
      "<class 'pandas.core.frame.DataFrame'>\n",
      "RangeIndex: 45211 entries, 0 to 45210\n",
      "Data columns (total 17 columns):\n",
      " #   Column     Non-Null Count  Dtype \n",
      "---  ------     --------------  ----- \n",
      " 0   age        45211 non-null  int64 \n",
      " 1   job        45211 non-null  object\n",
      " 2   marital    45211 non-null  object\n",
      " 3   education  45211 non-null  object\n",
      " 4   default    45211 non-null  object\n",
      " 5   balance    45211 non-null  int64 \n",
      " 6   housing    45211 non-null  object\n",
      " 7   loan       45211 non-null  object\n",
      " 8   contact    45211 non-null  object\n",
      " 9   day        45211 non-null  int64 \n",
      " 10  month      45211 non-null  object\n",
      " 11  duration   45211 non-null  int64 \n",
      " 12  campaign   45211 non-null  int64 \n",
      " 13  pdays      45211 non-null  int64 \n",
      " 14  previous   45211 non-null  int64 \n",
      " 15  poutcome   45211 non-null  object\n",
      " 16  y          45211 non-null  object\n",
      "dtypes: int64(7), object(10)\n",
      "memory usage: 5.9+ MB\n"
     ]
    }
   ],
   "source": [
    "df_train.info()"
   ]
  },
  {
   "cell_type": "code",
   "execution_count": 4,
   "metadata": {},
   "outputs": [
    {
     "name": "stdout",
     "output_type": "stream",
     "text": [
      "<class 'pandas.core.frame.DataFrame'>\n",
      "RangeIndex: 4521 entries, 0 to 4520\n",
      "Data columns (total 17 columns):\n",
      " #   Column     Non-Null Count  Dtype \n",
      "---  ------     --------------  ----- \n",
      " 0   age        4521 non-null   int64 \n",
      " 1   job        4521 non-null   object\n",
      " 2   marital    4521 non-null   object\n",
      " 3   education  4521 non-null   object\n",
      " 4   default    4521 non-null   object\n",
      " 5   balance    4521 non-null   int64 \n",
      " 6   housing    4521 non-null   object\n",
      " 7   loan       4521 non-null   object\n",
      " 8   contact    4521 non-null   object\n",
      " 9   day        4521 non-null   int64 \n",
      " 10  month      4521 non-null   object\n",
      " 11  duration   4521 non-null   int64 \n",
      " 12  campaign   4521 non-null   int64 \n",
      " 13  pdays      4521 non-null   int64 \n",
      " 14  previous   4521 non-null   int64 \n",
      " 15  poutcome   4521 non-null   object\n",
      " 16  y          4521 non-null   object\n",
      "dtypes: int64(7), object(10)\n",
      "memory usage: 600.6+ KB\n"
     ]
    }
   ],
   "source": [
    "df_test.info()"
   ]
  },
  {
   "cell_type": "markdown",
   "metadata": {},
   "source": [
    "### Data Cleaning\n",
    "* Remove duplicate rows.\n",
    "* Handle missing values.\n",
    "* Correct textual inconsistencies\n",
    "* removing outliers"
   ]
  },
  {
   "cell_type": "code",
   "execution_count": 5,
   "metadata": {},
   "outputs": [
    {
     "name": "stdout",
     "output_type": "stream",
     "text": [
      "<class 'pandas.core.frame.DataFrame'>\n",
      "RangeIndex: 43836 entries, 0 to 43835\n",
      "Data columns (total 17 columns):\n",
      " #   Column     Non-Null Count  Dtype \n",
      "---  ------     --------------  ----- \n",
      " 0   age        43836 non-null  int64 \n",
      " 1   job        43836 non-null  object\n",
      " 2   marital    43836 non-null  object\n",
      " 3   education  43836 non-null  object\n",
      " 4   default    43836 non-null  object\n",
      " 5   balance    43836 non-null  int64 \n",
      " 6   housing    43836 non-null  object\n",
      " 7   loan       43836 non-null  object\n",
      " 8   contact    43836 non-null  object\n",
      " 9   day        43836 non-null  int64 \n",
      " 10  month      43836 non-null  object\n",
      " 11  duration   43836 non-null  int64 \n",
      " 12  campaign   43836 non-null  int64 \n",
      " 13  pdays      43836 non-null  int64 \n",
      " 14  previous   43836 non-null  int64 \n",
      " 15  poutcome   43836 non-null  object\n",
      " 16  y          43836 non-null  object\n",
      "dtypes: int64(7), object(10)\n",
      "memory usage: 5.7+ MB\n"
     ]
    }
   ],
   "source": [
    "df_train_cleaned = cleaning_pipeline_step(\n",
    "    df_train,\n",
    "    outlier_removal=True\n",
    ")\n",
    "\n",
    "df_train_cleaned.info()"
   ]
  },
  {
   "cell_type": "code",
   "execution_count": 6,
   "metadata": {},
   "outputs": [
    {
     "name": "stdout",
     "output_type": "stream",
     "text": [
      "<class 'pandas.core.frame.DataFrame'>\n",
      "RangeIndex: 4393 entries, 0 to 4392\n",
      "Data columns (total 17 columns):\n",
      " #   Column     Non-Null Count  Dtype \n",
      "---  ------     --------------  ----- \n",
      " 0   age        4393 non-null   int64 \n",
      " 1   job        4393 non-null   object\n",
      " 2   marital    4393 non-null   object\n",
      " 3   education  4393 non-null   object\n",
      " 4   default    4393 non-null   object\n",
      " 5   balance    4393 non-null   int64 \n",
      " 6   housing    4393 non-null   object\n",
      " 7   loan       4393 non-null   object\n",
      " 8   contact    4393 non-null   object\n",
      " 9   day        4393 non-null   int64 \n",
      " 10  month      4393 non-null   object\n",
      " 11  duration   4393 non-null   int64 \n",
      " 12  campaign   4393 non-null   int64 \n",
      " 13  pdays      4393 non-null   int64 \n",
      " 14  previous   4393 non-null   int64 \n",
      " 15  poutcome   4393 non-null   object\n",
      " 16  y          4393 non-null   object\n",
      "dtypes: int64(7), object(10)\n",
      "memory usage: 583.6+ KB\n"
     ]
    }
   ],
   "source": [
    "df_test_cleaned = cleaning_pipeline_step(\n",
    "    df_test,\n",
    "    outlier_removal=True\n",
    ")\n",
    "\n",
    "df_test_cleaned.info()"
   ]
  },
  {
   "cell_type": "markdown",
   "metadata": {},
   "source": [
    "### Seperating Xs and ys."
   ]
  },
  {
   "cell_type": "markdown",
   "metadata": {},
   "source": [
    "\n",
    "#### Loading configurations and data"
   ]
  },
  {
   "cell_type": "code",
   "execution_count": 7,
   "metadata": {},
   "outputs": [],
   "source": [
    "y_train = df_train_cleaned['y']\n",
    "X_train = df_train_cleaned.drop(columns=['y'])\n",
    " \n",
    "\n",
    "y_test = df_test_cleaned['y']\n",
    "X_test = df_test_cleaned.drop(columns=['y'])"
   ]
  },
  {
   "cell_type": "code",
   "execution_count": 8,
   "metadata": {},
   "outputs": [],
   "source": [
    "# get the name of columns\n",
    "cat_columns = X_train.select_dtypes(include='object').columns.tolist()\n",
    "num_columns = X_train.select_dtypes(include='number').columns.tolist()"
   ]
  },
  {
   "cell_type": "markdown",
   "metadata": {},
   "source": [
    "Test the config repository functionality"
   ]
  },
  {
   "cell_type": "code",
   "execution_count": 9,
   "metadata": {},
   "outputs": [],
   "source": [
    "cr = ConfigRepository(config_path=\"../configs/models_config.json\")"
   ]
  },
  {
   "cell_type": "markdown",
   "metadata": {},
   "source": [
    "#### Define The preprocessing pipeline"
   ]
  },
  {
   "cell_type": "code",
   "execution_count": 10,
   "metadata": {},
   "outputs": [],
   "source": [
    "\n",
    "preprocess_pipe = create_preprocessor(num_features=num_columns, \n",
    "                                      cat_features=cat_columns)"
   ]
  },
  {
   "cell_type": "markdown",
   "metadata": {},
   "source": [
    "Testing preprocessing pipeline functionality"
   ]
  },
  {
   "cell_type": "code",
   "execution_count": 11,
   "metadata": {},
   "outputs": [],
   "source": [
    "preprocessed_test = preprocess_pipe.fit_transform(X_test, y_test)"
   ]
  },
  {
   "cell_type": "code",
   "execution_count": 12,
   "metadata": {},
   "outputs": [
    {
     "data": {
      "text/plain": [
       "(4393, 51)"
      ]
     },
     "execution_count": 12,
     "metadata": {},
     "output_type": "execute_result"
    }
   ],
   "source": [
    "preprocessed_test.shape"
   ]
  },
  {
   "cell_type": "code",
   "execution_count": null,
   "metadata": {},
   "outputs": [
    {
     "name": "stdout",
     "output_type": "stream",
     "text": [
      "Trial 26 Complete [00h 00m 15s]\n",
      "val_auc: 0.9246830940246582\n",
      "\n",
      "Best val_auc So Far: 0.9276796579360962\n",
      "Total elapsed time: 00h 06m 07s\n",
      "\u001b[1m 93/283\u001b[0m \u001b[32m━━━━━━\u001b[0m\u001b[37m━━━━━━━━━━━━━━\u001b[0m \u001b[1m0s\u001b[0m 1ms/step"
     ]
    },
    {
     "name": "stderr",
     "output_type": "stream",
     "text": [
      "c:\\Users\\mehri\\AppData\\Local\\Programs\\Python\\Python312\\Lib\\site-packages\\keras\\src\\saving\\saving_lib.py:757: UserWarning: Skipping variable loading for optimizer 'adam', because it has 2 variables whereas the saved optimizer has 14 variables. \n",
      "  saveable.load_own_variables(weights_store.get(inner_path))\n"
     ]
    },
    {
     "name": "stdout",
     "output_type": "stream",
     "text": [
      "\u001b[1m283/283\u001b[0m \u001b[32m━━━━━━━━━━━━━━━━━━━━\u001b[0m\u001b[37m\u001b[0m \u001b[1m0s\u001b[0m 1ms/step\n",
      "\n",
      "Best Candidate's AUC: 0.9279\n",
      "Best hyperparameters: {'hidden_layers_idx': 1, 'dropout_rate': 0.3, 'learning_rate': 0.001, 'tuner/epochs': 2, 'tuner/initial_epoch': 0, 'tuner/bracket': 3, 'tuner/round': 0}\n"
     ]
    },
    {
     "data": {
      "text/html": [
       "<pre style=\"white-space:pre;overflow-x:auto;line-height:normal;font-family:Menlo,'DejaVu Sans Mono',consolas,'Courier New',monospace\"><span style=\"font-weight: bold\">Model: \"sequential\"</span>\n",
       "</pre>\n"
      ],
      "text/plain": [
       "\u001b[1mModel: \"sequential\"\u001b[0m\n"
      ]
     },
     "metadata": {},
     "output_type": "display_data"
    },
    {
     "data": {
      "text/html": [
       "<pre style=\"white-space:pre;overflow-x:auto;line-height:normal;font-family:Menlo,'DejaVu Sans Mono',consolas,'Courier New',monospace\">┏━━━━━━━━━━━━━━━━━━━━━━━━━━━━━━━━━┳━━━━━━━━━━━━━━━━━━━━━━━━┳━━━━━━━━━━━━━━━┓\n",
       "┃<span style=\"font-weight: bold\"> Layer (type)                    </span>┃<span style=\"font-weight: bold\"> Output Shape           </span>┃<span style=\"font-weight: bold\">       Param # </span>┃\n",
       "┡━━━━━━━━━━━━━━━━━━━━━━━━━━━━━━━━━╇━━━━━━━━━━━━━━━━━━━━━━━━╇━━━━━━━━━━━━━━━┩\n",
       "│ dense (<span style=\"color: #0087ff; text-decoration-color: #0087ff\">Dense</span>)                   │ (<span style=\"color: #00d7ff; text-decoration-color: #00d7ff\">None</span>, <span style=\"color: #00af00; text-decoration-color: #00af00\">128</span>)            │         <span style=\"color: #00af00; text-decoration-color: #00af00\">6,656</span> │\n",
       "├─────────────────────────────────┼────────────────────────┼───────────────┤\n",
       "│ dropout (<span style=\"color: #0087ff; text-decoration-color: #0087ff\">Dropout</span>)               │ (<span style=\"color: #00d7ff; text-decoration-color: #00d7ff\">None</span>, <span style=\"color: #00af00; text-decoration-color: #00af00\">128</span>)            │             <span style=\"color: #00af00; text-decoration-color: #00af00\">0</span> │\n",
       "├─────────────────────────────────┼────────────────────────┼───────────────┤\n",
       "│ dense_1 (<span style=\"color: #0087ff; text-decoration-color: #0087ff\">Dense</span>)                 │ (<span style=\"color: #00d7ff; text-decoration-color: #00d7ff\">None</span>, <span style=\"color: #00af00; text-decoration-color: #00af00\">64</span>)             │         <span style=\"color: #00af00; text-decoration-color: #00af00\">8,256</span> │\n",
       "├─────────────────────────────────┼────────────────────────┼───────────────┤\n",
       "│ dropout_1 (<span style=\"color: #0087ff; text-decoration-color: #0087ff\">Dropout</span>)             │ (<span style=\"color: #00d7ff; text-decoration-color: #00d7ff\">None</span>, <span style=\"color: #00af00; text-decoration-color: #00af00\">64</span>)             │             <span style=\"color: #00af00; text-decoration-color: #00af00\">0</span> │\n",
       "├─────────────────────────────────┼────────────────────────┼───────────────┤\n",
       "│ dense_2 (<span style=\"color: #0087ff; text-decoration-color: #0087ff\">Dense</span>)                 │ (<span style=\"color: #00d7ff; text-decoration-color: #00d7ff\">None</span>, <span style=\"color: #00af00; text-decoration-color: #00af00\">1</span>)              │            <span style=\"color: #00af00; text-decoration-color: #00af00\">65</span> │\n",
       "└─────────────────────────────────┴────────────────────────┴───────────────┘\n",
       "</pre>\n"
      ],
      "text/plain": [
       "┏━━━━━━━━━━━━━━━━━━━━━━━━━━━━━━━━━┳━━━━━━━━━━━━━━━━━━━━━━━━┳━━━━━━━━━━━━━━━┓\n",
       "┃\u001b[1m \u001b[0m\u001b[1mLayer (type)                   \u001b[0m\u001b[1m \u001b[0m┃\u001b[1m \u001b[0m\u001b[1mOutput Shape          \u001b[0m\u001b[1m \u001b[0m┃\u001b[1m \u001b[0m\u001b[1m      Param #\u001b[0m\u001b[1m \u001b[0m┃\n",
       "┡━━━━━━━━━━━━━━━━━━━━━━━━━━━━━━━━━╇━━━━━━━━━━━━━━━━━━━━━━━━╇━━━━━━━━━━━━━━━┩\n",
       "│ dense (\u001b[38;5;33mDense\u001b[0m)                   │ (\u001b[38;5;45mNone\u001b[0m, \u001b[38;5;34m128\u001b[0m)            │         \u001b[38;5;34m6,656\u001b[0m │\n",
       "├─────────────────────────────────┼────────────────────────┼───────────────┤\n",
       "│ dropout (\u001b[38;5;33mDropout\u001b[0m)               │ (\u001b[38;5;45mNone\u001b[0m, \u001b[38;5;34m128\u001b[0m)            │             \u001b[38;5;34m0\u001b[0m │\n",
       "├─────────────────────────────────┼────────────────────────┼───────────────┤\n",
       "│ dense_1 (\u001b[38;5;33mDense\u001b[0m)                 │ (\u001b[38;5;45mNone\u001b[0m, \u001b[38;5;34m64\u001b[0m)             │         \u001b[38;5;34m8,256\u001b[0m │\n",
       "├─────────────────────────────────┼────────────────────────┼───────────────┤\n",
       "│ dropout_1 (\u001b[38;5;33mDropout\u001b[0m)             │ (\u001b[38;5;45mNone\u001b[0m, \u001b[38;5;34m64\u001b[0m)             │             \u001b[38;5;34m0\u001b[0m │\n",
       "├─────────────────────────────────┼────────────────────────┼───────────────┤\n",
       "│ dense_2 (\u001b[38;5;33mDense\u001b[0m)                 │ (\u001b[38;5;45mNone\u001b[0m, \u001b[38;5;34m1\u001b[0m)              │            \u001b[38;5;34m65\u001b[0m │\n",
       "└─────────────────────────────────┴────────────────────────┴───────────────┘\n"
      ]
     },
     "metadata": {},
     "output_type": "display_data"
    },
    {
     "data": {
      "text/html": [
       "<pre style=\"white-space:pre;overflow-x:auto;line-height:normal;font-family:Menlo,'DejaVu Sans Mono',consolas,'Courier New',monospace\"><span style=\"font-weight: bold\"> Total params: </span><span style=\"color: #00af00; text-decoration-color: #00af00\">14,977</span> (58.50 KB)\n",
       "</pre>\n"
      ],
      "text/plain": [
       "\u001b[1m Total params: \u001b[0m\u001b[38;5;34m14,977\u001b[0m (58.50 KB)\n"
      ]
     },
     "metadata": {},
     "output_type": "display_data"
    },
    {
     "data": {
      "text/html": [
       "<pre style=\"white-space:pre;overflow-x:auto;line-height:normal;font-family:Menlo,'DejaVu Sans Mono',consolas,'Courier New',monospace\"><span style=\"font-weight: bold\"> Trainable params: </span><span style=\"color: #00af00; text-decoration-color: #00af00\">14,977</span> (58.50 KB)\n",
       "</pre>\n"
      ],
      "text/plain": [
       "\u001b[1m Trainable params: \u001b[0m\u001b[38;5;34m14,977\u001b[0m (58.50 KB)\n"
      ]
     },
     "metadata": {},
     "output_type": "display_data"
    },
    {
     "data": {
      "text/html": [
       "<pre style=\"white-space:pre;overflow-x:auto;line-height:normal;font-family:Menlo,'DejaVu Sans Mono',consolas,'Courier New',monospace\"><span style=\"font-weight: bold\"> Non-trainable params: </span><span style=\"color: #00af00; text-decoration-color: #00af00\">0</span> (0.00 B)\n",
       "</pre>\n"
      ],
      "text/plain": [
       "\u001b[1m Non-trainable params: \u001b[0m\u001b[38;5;34m0\u001b[0m (0.00 B)\n"
      ]
     },
     "metadata": {},
     "output_type": "display_data"
    },
    {
     "name": "stdout",
     "output_type": "stream",
     "text": [
      "***** Retrain the best Estimator on the full training set *****\n",
      "Epoch 1/50\n"
     ]
    },
    {
     "name": "stderr",
     "output_type": "stream",
     "text": [
      "c:\\Users\\mehri\\AppData\\Local\\Programs\\Python\\Python312\\Lib\\site-packages\\keras\\src\\layers\\core\\dense.py:87: UserWarning: Do not pass an `input_shape`/`input_dim` argument to a layer. When using Sequential models, prefer using an `Input(shape)` object as the first layer in the model instead.\n",
      "  super().__init__(activity_regularizer=activity_regularizer, **kwargs)\n"
     ]
    },
    {
     "name": "stdout",
     "output_type": "stream",
     "text": [
      "2496/2496 - 8s - 3ms/step - auc: 0.9153 - loss: 0.3632\n",
      "Epoch 2/50\n",
      "2496/2496 - 7s - 3ms/step - auc: 0.9307 - loss: 0.3225\n",
      "Epoch 3/50\n",
      "2496/2496 - 7s - 3ms/step - auc: 0.9358 - loss: 0.3078\n",
      "Epoch 4/50\n",
      "2496/2496 - 7s - 3ms/step - auc: 0.9405 - loss: 0.2948\n",
      "Epoch 5/50\n",
      "2496/2496 - 7s - 3ms/step - auc: 0.9429 - loss: 0.2865\n",
      "Epoch 6/50\n",
      "2496/2496 - 7s - 3ms/step - auc: 0.9453 - loss: 0.2794\n",
      "Epoch 7/50\n",
      "2496/2496 - 7s - 3ms/step - auc: 0.9462 - loss: 0.2762\n",
      "Epoch 8/50\n",
      "2496/2496 - 7s - 3ms/step - auc: 0.9484 - loss: 0.2698\n",
      "Epoch 9/50\n",
      "2496/2496 - 7s - 3ms/step - auc: 0.9493 - loss: 0.2667\n",
      "Epoch 10/50\n",
      "2496/2496 - 6s - 3ms/step - auc: 0.9505 - loss: 0.2624\n",
      "Epoch 11/50\n",
      "2496/2496 - 7s - 3ms/step - auc: 0.9520 - loss: 0.2586\n",
      "Epoch 12/50\n",
      "2496/2496 - 6s - 3ms/step - auc: 0.9529 - loss: 0.2553\n",
      "Epoch 13/50\n",
      "2496/2496 - 7s - 3ms/step - auc: 0.9538 - loss: 0.2525\n",
      "Epoch 14/50\n",
      "2496/2496 - 7s - 3ms/step - auc: 0.9548 - loss: 0.2498\n",
      "Epoch 15/50\n",
      "2496/2496 - 6s - 3ms/step - auc: 0.9550 - loss: 0.2485\n",
      "Epoch 16/50\n",
      "2496/2496 - 7s - 3ms/step - auc: 0.9557 - loss: 0.2451\n",
      "Epoch 17/50\n",
      "2496/2496 - 7s - 3ms/step - auc: 0.9564 - loss: 0.2435\n",
      "Epoch 18/50\n",
      "2496/2496 - 7s - 3ms/step - auc: 0.9571 - loss: 0.2416\n",
      "Epoch 19/50\n",
      "2496/2496 - 7s - 3ms/step - auc: 0.9578 - loss: 0.2401\n",
      "Epoch 20/50\n",
      "2496/2496 - 6s - 3ms/step - auc: 0.9580 - loss: 0.2390\n",
      "Epoch 21/50\n",
      "2496/2496 - 7s - 3ms/step - auc: 0.9586 - loss: 0.2375\n",
      "Epoch 22/50\n",
      "2496/2496 - 6s - 3ms/step - auc: 0.9585 - loss: 0.2377\n",
      "Epoch 23/50\n",
      "2496/2496 - 7s - 3ms/step - auc: 0.9587 - loss: 0.2349\n",
      "Epoch 24/50\n",
      "2496/2496 - 7s - 3ms/step - auc: 0.9592 - loss: 0.2342\n",
      "Epoch 25/50\n",
      "2496/2496 - 6s - 3ms/step - auc: 0.9600 - loss: 0.2315\n",
      "Epoch 26/50\n",
      "2496/2496 - 7s - 3ms/step - auc: 0.9600 - loss: 0.2314\n",
      "Epoch 27/50\n",
      "2496/2496 - 6s - 3ms/step - auc: 0.9602 - loss: 0.2317\n",
      "Epoch 28/50\n",
      "2496/2496 - 7s - 3ms/step - auc: 0.9606 - loss: 0.2298\n",
      "Epoch 29/50\n",
      "2496/2496 - 6s - 3ms/step - auc: 0.9613 - loss: 0.2273\n",
      "Epoch 30/50\n",
      "2496/2496 - 7s - 3ms/step - auc: 0.9610 - loss: 0.2281\n",
      "Epoch 31/50\n",
      "2496/2496 - 7s - 3ms/step - auc: 0.9611 - loss: 0.2271\n",
      "Epoch 32/50\n",
      "2496/2496 - 7s - 3ms/step - auc: 0.9623 - loss: 0.2246\n",
      "Epoch 33/50\n",
      "2496/2496 - 7s - 3ms/step - auc: 0.9618 - loss: 0.2241\n",
      "Epoch 34/50\n",
      "2496/2496 - 7s - 3ms/step - auc: 0.9627 - loss: 0.2221\n",
      "Epoch 35/50\n",
      "2496/2496 - 7s - 3ms/step - auc: 0.9630 - loss: 0.2215\n",
      "Epoch 36/50\n",
      "2496/2496 - 6s - 3ms/step - auc: 0.9626 - loss: 0.2216\n",
      "Epoch 37/50\n",
      "2496/2496 - 7s - 3ms/step - auc: 0.9636 - loss: 0.2196\n",
      "Epoch 38/50\n",
      "2496/2496 - 6s - 3ms/step - auc: 0.9634 - loss: 0.2192\n",
      "Epoch 39/50\n",
      "2496/2496 - 7s - 3ms/step - auc: 0.9631 - loss: 0.2209\n",
      "Epoch 40/50\n",
      "2496/2496 - 7s - 3ms/step - auc: 0.9636 - loss: 0.2195\n",
      "Epoch 41/50\n",
      "2496/2496 - 6s - 3ms/step - auc: 0.9636 - loss: 0.2187\n",
      "Epoch 42/50\n",
      "2496/2496 - 7s - 3ms/step - auc: 0.9643 - loss: 0.2161\n",
      "Epoch 43/50\n",
      "2496/2496 - 7s - 3ms/step - auc: 0.9652 - loss: 0.2147\n",
      "Epoch 44/50\n",
      "2496/2496 - 7s - 3ms/step - auc: 0.9645 - loss: 0.2159\n",
      "Epoch 45/50\n",
      "2496/2496 - 7s - 3ms/step - auc: 0.9649 - loss: 0.2150\n",
      "Epoch 46/50\n",
      "2496/2496 - 7s - 3ms/step - auc: 0.9646 - loss: 0.2149\n",
      "Epoch 47/50\n",
      "2496/2496 - 7s - 3ms/step - auc: 0.9650 - loss: 0.2132\n",
      "Epoch 48/50\n",
      "2496/2496 - 7s - 3ms/step - auc: 0.9651 - loss: 0.2140\n",
      "Epoch 49/50\n",
      "2496/2496 - 7s - 3ms/step - auc: 0.9660 - loss: 0.2114\n",
      "Epoch 50/50\n",
      "2496/2496 - 6s - 3ms/step - auc: 0.9658 - loss: 0.2108\n"
     ]
    },
    {
     "name": "stderr",
     "output_type": "stream",
     "text": [
      "2025/06/28 21:32:26 WARNING mlflow.models.model: Model logged without a signature and input example. Please set `input_example` parameter when logging the model to auto infer the model signature.\n",
      "Registered model 'MLP' already exists. Creating a new version of this model...\n",
      "Created version '3' of model 'MLP'.\n",
      "2025-06-28 21:32:26 — INFO — Evaluating NeuralNetwork on test set…\n"
     ]
    },
    {
     "name": "stdout",
     "output_type": "stream",
     "text": [
      "Model registered: MLP\n",
      "\u001b[1m142/142\u001b[0m \u001b[32m━━━━━━━━━━━━━━━━━━━━\u001b[0m\u001b[37m\u001b[0m \u001b[1m0s\u001b[0m 1ms/step\n"
     ]
    },
    {
     "name": "stderr",
     "output_type": "stream",
     "text": [
      "c:\\Users\\mehri\\AppData\\Local\\Programs\\Python\\Python312\\Lib\\site-packages\\imblearn\\pipeline.py:65: FutureWarning: This Pipeline instance is not fitted yet. Call 'fit' with appropriate arguments before using other methods such as transform, predict, etc. This will raise an error in 0.15 instead of the current warning.\n",
      "  warnings.warn(\n",
      "Models:  75%|███████▌  | 3/4 [1:22:45<26:54, 1614.32s/model]  2025-06-28 21:32:27 — INFO — Training SVC (4/4)…\n"
     ]
    },
    {
     "name": "stdout",
     "output_type": "stream",
     "text": [
      "n_iterations: 8\n",
      "n_required_iterations: 8\n",
      "n_possible_iterations: 8\n",
      "min_resources_: 20\n",
      "max_resources_: 45211\n",
      "aggressive_elimination: False\n",
      "factor: 3\n",
      "----------\n",
      "iter: 0\n",
      "n_candidates: 2260\n",
      "n_resources: 20\n",
      "Fitting 5 folds for each of 2260 candidates, totalling 11300 fits\n"
     ]
    },
    {
     "name": "stderr",
     "output_type": "stream",
     "text": [
      "c:\\Users\\mehri\\AppData\\Local\\Programs\\Python\\Python312\\Lib\\site-packages\\sklearn\\model_selection\\_validation.py:540: FitFailedWarning: \n",
      "4520 fits failed out of a total of 11300.\n",
      "The score on these train-test partitions for these parameters will be set to nan.\n",
      "If these failures are not expected, you can try to debug them by setting error_score='raise'.\n",
      "\n",
      "Below are more details about the failures:\n",
      "--------------------------------------------------------------------------------\n",
      "4520 fits failed with the following error:\n",
      "Traceback (most recent call last):\n",
      "  File \"c:\\Users\\mehri\\AppData\\Local\\Programs\\Python\\Python312\\Lib\\site-packages\\sklearn\\model_selection\\_validation.py\", line 888, in _fit_and_score\n",
      "    estimator.fit(X_train, y_train, **fit_params)\n",
      "  File \"c:\\Users\\mehri\\AppData\\Local\\Programs\\Python\\Python312\\Lib\\site-packages\\sklearn\\base.py\", line 1473, in wrapper\n",
      "    return fit_method(estimator, *args, **kwargs)\n",
      "           ^^^^^^^^^^^^^^^^^^^^^^^^^^^^^^^^^^^^^^\n",
      "  File \"c:\\Users\\mehri\\AppData\\Local\\Programs\\Python\\Python312\\Lib\\site-packages\\imblearn\\pipeline.py\", line 518, in fit\n",
      "    Xt, yt = self._fit(X, y, routed_params, raw_params=params)\n",
      "             ^^^^^^^^^^^^^^^^^^^^^^^^^^^^^^^^^^^^^^^^^^^^^^^^^\n",
      "  File \"c:\\Users\\mehri\\AppData\\Local\\Programs\\Python\\Python312\\Lib\\site-packages\\imblearn\\pipeline.py\", line 440, in _fit\n",
      "    X, y, fitted_transformer = fit_resample_one_cached(\n",
      "                               ^^^^^^^^^^^^^^^^^^^^^^^^\n",
      "  File \"c:\\Users\\mehri\\AppData\\Local\\Programs\\Python\\Python312\\Lib\\site-packages\\joblib\\memory.py\", line 312, in __call__\n",
      "    return self.func(*args, **kwargs)\n",
      "           ^^^^^^^^^^^^^^^^^^^^^^^^^^\n",
      "  File \"c:\\Users\\mehri\\AppData\\Local\\Programs\\Python\\Python312\\Lib\\site-packages\\imblearn\\pipeline.py\", line 1336, in _fit_resample_one\n",
      "    X_res, y_res = sampler.fit_resample(X, y, **params.get(\"fit_resample\", {}))\n",
      "                   ^^^^^^^^^^^^^^^^^^^^^^^^^^^^^^^^^^^^^^^^^^^^^^^^^^^^^^^^^^^^\n",
      "  File \"c:\\Users\\mehri\\AppData\\Local\\Programs\\Python\\Python312\\Lib\\site-packages\\imblearn\\base.py\", line 202, in fit_resample\n",
      "    return super().fit_resample(X, y, **params)\n",
      "           ^^^^^^^^^^^^^^^^^^^^^^^^^^^^^^^^^^^^\n",
      "  File \"c:\\Users\\mehri\\AppData\\Local\\Programs\\Python\\Python312\\Lib\\site-packages\\sklearn\\base.py\", line 1473, in wrapper\n",
      "    return fit_method(estimator, *args, **kwargs)\n",
      "           ^^^^^^^^^^^^^^^^^^^^^^^^^^^^^^^^^^^^^^\n",
      "  File \"c:\\Users\\mehri\\AppData\\Local\\Programs\\Python\\Python312\\Lib\\site-packages\\imblearn\\base.py\", line 101, in fit_resample\n",
      "    self.sampling_strategy_ = check_sampling_strategy(\n",
      "                              ^^^^^^^^^^^^^^^^^^^^^^^^\n",
      "  File \"c:\\Users\\mehri\\AppData\\Local\\Programs\\Python\\Python312\\Lib\\site-packages\\imblearn\\utils\\_validation.py\", line 537, in check_sampling_strategy\n",
      "    raise ValueError(\n",
      "ValueError: The target 'y' needs to have more than 1 class. Got 1 class instead\n",
      "\n",
      "  warnings.warn(some_fits_failed_message, FitFailedWarning)\n",
      "c:\\Users\\mehri\\AppData\\Local\\Programs\\Python\\Python312\\Lib\\site-packages\\sklearn\\model_selection\\_search.py:1103: UserWarning: One or more of the test scores are non-finite: [nan nan nan ... nan nan nan]\n",
      "  warnings.warn(\n",
      "c:\\Users\\mehri\\AppData\\Local\\Programs\\Python\\Python312\\Lib\\site-packages\\sklearn\\model_selection\\_search.py:1103: UserWarning: One or more of the train scores are non-finite: [nan nan nan ... nan nan nan]\n",
      "  warnings.warn(\n"
     ]
    },
    {
     "name": "stdout",
     "output_type": "stream",
     "text": [
      "----------\n",
      "iter: 1\n",
      "n_candidates: 754\n",
      "n_resources: 60\n",
      "Fitting 5 folds for each of 754 candidates, totalling 3770 fits\n"
     ]
    },
    {
     "name": "stderr",
     "output_type": "stream",
     "text": [
      "c:\\Users\\mehri\\AppData\\Local\\Programs\\Python\\Python312\\Lib\\site-packages\\sklearn\\model_selection\\_search.py:1103: UserWarning: One or more of the test scores are non-finite: [nan nan nan ... nan nan nan]\n",
      "  warnings.warn(\n",
      "c:\\Users\\mehri\\AppData\\Local\\Programs\\Python\\Python312\\Lib\\site-packages\\sklearn\\model_selection\\_search.py:1103: UserWarning: One or more of the train scores are non-finite: [       nan        nan        nan ... 0.95214136 0.97715437 0.97715437]\n",
      "  warnings.warn(\n"
     ]
    },
    {
     "name": "stdout",
     "output_type": "stream",
     "text": [
      "----------\n",
      "iter: 2\n",
      "n_candidates: 252\n",
      "n_resources: 180\n",
      "Fitting 5 folds for each of 252 candidates, totalling 1260 fits\n"
     ]
    },
    {
     "name": "stderr",
     "output_type": "stream",
     "text": [
      "c:\\Users\\mehri\\AppData\\Local\\Programs\\Python\\Python312\\Lib\\site-packages\\sklearn\\model_selection\\_search.py:1103: UserWarning: One or more of the test scores are non-finite: [       nan        nan        nan ... 0.86887543 0.82383376 0.82383376]\n",
      "  warnings.warn(\n",
      "c:\\Users\\mehri\\AppData\\Local\\Programs\\Python\\Python312\\Lib\\site-packages\\sklearn\\model_selection\\_search.py:1103: UserWarning: One or more of the train scores are non-finite: [       nan        nan        nan ... 0.89744853 0.92864075 0.92864075]\n",
      "  warnings.warn(\n"
     ]
    },
    {
     "name": "stdout",
     "output_type": "stream",
     "text": [
      "----------\n",
      "iter: 3\n",
      "n_candidates: 84\n",
      "n_resources: 540\n",
      "Fitting 5 folds for each of 84 candidates, totalling 420 fits\n"
     ]
    },
    {
     "name": "stderr",
     "output_type": "stream",
     "text": [
      "c:\\Users\\mehri\\AppData\\Local\\Programs\\Python\\Python312\\Lib\\site-packages\\sklearn\\model_selection\\_search.py:1103: UserWarning: One or more of the test scores are non-finite: [       nan        nan        nan ... 0.91749432 0.90316818 0.90346048]\n",
      "  warnings.warn(\n",
      "c:\\Users\\mehri\\AppData\\Local\\Programs\\Python\\Python312\\Lib\\site-packages\\sklearn\\model_selection\\_search.py:1103: UserWarning: One or more of the train scores are non-finite: [       nan        nan        nan ... 0.98082609 0.95751386 0.95569626]\n",
      "  warnings.warn(\n"
     ]
    },
    {
     "name": "stdout",
     "output_type": "stream",
     "text": [
      "----------\n",
      "iter: 4\n",
      "n_candidates: 28\n",
      "n_resources: 1620\n",
      "Fitting 5 folds for each of 28 candidates, totalling 140 fits\n"
     ]
    },
    {
     "name": "stderr",
     "output_type": "stream",
     "text": [
      "c:\\Users\\mehri\\AppData\\Local\\Programs\\Python\\Python312\\Lib\\site-packages\\sklearn\\model_selection\\_search.py:1103: UserWarning: One or more of the test scores are non-finite: [       nan        nan        nan ... 0.90030791 0.90043967 0.90031556]\n",
      "  warnings.warn(\n",
      "c:\\Users\\mehri\\AppData\\Local\\Programs\\Python\\Python312\\Lib\\site-packages\\sklearn\\model_selection\\_search.py:1103: UserWarning: One or more of the train scores are non-finite: [       nan        nan        nan ... 0.96014607 0.96149878 0.96285779]\n",
      "  warnings.warn(\n"
     ]
    },
    {
     "name": "stdout",
     "output_type": "stream",
     "text": [
      "----------\n",
      "iter: 5\n",
      "n_candidates: 10\n",
      "n_resources: 4860\n",
      "Fitting 5 folds for each of 10 candidates, totalling 50 fits\n"
     ]
    },
    {
     "name": "stderr",
     "output_type": "stream",
     "text": [
      "c:\\Users\\mehri\\AppData\\Local\\Programs\\Python\\Python312\\Lib\\site-packages\\sklearn\\model_selection\\_search.py:1103: UserWarning: One or more of the test scores are non-finite: [       nan        nan        nan ... 0.92007948 0.91922006 0.91767365]\n",
      "  warnings.warn(\n",
      "c:\\Users\\mehri\\AppData\\Local\\Programs\\Python\\Python312\\Lib\\site-packages\\sklearn\\model_selection\\_search.py:1103: UserWarning: One or more of the train scores are non-finite: [       nan        nan        nan ... 0.93972808 0.93665816 0.93214369]\n",
      "  warnings.warn(\n"
     ]
    },
    {
     "name": "stdout",
     "output_type": "stream",
     "text": [
      "----------\n",
      "iter: 6\n",
      "n_candidates: 4\n",
      "n_resources: 14580\n",
      "Fitting 5 folds for each of 4 candidates, totalling 20 fits\n"
     ]
    },
    {
     "name": "stderr",
     "output_type": "stream",
     "text": [
      "c:\\Users\\mehri\\AppData\\Local\\Programs\\Python\\Python312\\Lib\\site-packages\\sklearn\\model_selection\\_search.py:1103: UserWarning: One or more of the test scores are non-finite: [       nan        nan        nan ... 0.91675605 0.91838418 0.91725027]\n",
      "  warnings.warn(\n",
      "c:\\Users\\mehri\\AppData\\Local\\Programs\\Python\\Python312\\Lib\\site-packages\\sklearn\\model_selection\\_search.py:1103: UserWarning: One or more of the train scores are non-finite: [       nan        nan        nan ... 0.9305029  0.93626913 0.93239183]\n",
      "  warnings.warn(\n"
     ]
    },
    {
     "name": "stdout",
     "output_type": "stream",
     "text": [
      "----------\n",
      "iter: 7\n",
      "n_candidates: 2\n",
      "n_resources: 43740\n",
      "Fitting 5 folds for each of 2 candidates, totalling 10 fits\n"
     ]
    },
    {
     "name": "stderr",
     "output_type": "stream",
     "text": [
      "c:\\Users\\mehri\\AppData\\Local\\Programs\\Python\\Python312\\Lib\\site-packages\\sklearn\\model_selection\\_search.py:1103: UserWarning: One or more of the test scores are non-finite: [       nan        nan        nan ... 0.91725027 0.92604783 0.92629548]\n",
      "  warnings.warn(\n",
      "c:\\Users\\mehri\\AppData\\Local\\Programs\\Python\\Python312\\Lib\\site-packages\\sklearn\\model_selection\\_search.py:1103: UserWarning: One or more of the train scores are non-finite: [       nan        nan        nan ... 0.93239183 0.93372634 0.93458348]\n",
      "  warnings.warn(\n",
      "2025/06/28 23:58:34 WARNING mlflow.models.model: Model logged without a signature and input example. Please set `input_example` parameter when logging the model to auto infer the model signature.\n",
      "Successfully registered model 'BankMarketing_SVC'.\n",
      "Created version '1' of model 'BankMarketing_SVC'.\n",
      "2025-06-28 23:58:34 — INFO — Evaluating SVC on test set…\n"
     ]
    },
    {
     "name": "stdout",
     "output_type": "stream",
     "text": [
      "Model registered: BankMarketing_SVC\n"
     ]
    },
    {
     "name": "stderr",
     "output_type": "stream",
     "text": [
      "Models: 100%|██████████| 4/4 [3:49:01<00:00, 3435.36s/model]\n",
      "2025-06-28 23:58:43 — INFO — === Test set performance summary ===\n",
      "2025-06-28 23:58:43 — INFO — LogisticRegression    AUC=0.901  ALIFT=5.636\n",
      "2025-06-28 23:58:43 — INFO — RandomForest          AUC=0.986  ALIFT=8.678\n",
      "2025-06-28 23:58:43 — INFO — NeuralNetwork         AUC=0.976  ALIFT=8.250\n",
      "2025-06-28 23:58:43 — INFO — SVC                   AUC=0.929  ALIFT=5.883\n"
     ]
    },
    {
     "data": {
      "image/png": "[encoded data removed]",
      "text/plain": [
       "<Figure size 1000x800 with 8 Axes>"
      ]
     },
     "metadata": {},
     "output_type": "display_data"
    },
    {
     "data": {
      "text/plain": [
       "{'LogisticRegression': {'model': Pipeline(steps=[('preprocess',\n",
       "                   FunctionTransformer(func=<bound method Pipeline.transform of Pipeline(steps=[('cleaning', DataCleaningTransformer()),\n",
       "                  ('column_transformer',\n",
       "                   ColumnTransformer(transformers=[('num',\n",
       "                                                    Pipeline(steps=[('scaler',\n",
       "                                                                     StandardScaler())]),\n",
       "                                                    ['age', 'balance', 'day',\n",
       "                                                     'duration', 'campaign',\n",
       "                                                     'pdays', 'previous']),\n",
       "                                                   ('cat',\n",
       "                                                    Pipeline(steps=[('onehot',\n",
       "                                                                     OneHotEncoder(handle_unknown='ignore'))]),\n",
       "                                                    ['job', 'marital',\n",
       "                                                     'education', 'default',\n",
       "                                                     'housing', 'loan', 'contact',\n",
       "                                                     'month', 'poutcome'])]))])>)),\n",
       "                  ('clf',\n",
       "                   LogisticRegression(C=np.float64(0.08014246998577547),\n",
       "                                      random_state=42, solver='liblinear'))]),\n",
       "  'params': {'clf__C': np.float64(0.08014246998577547),\n",
       "   'clf__max_iter': 100,\n",
       "   'clf__penalty': 'l2',\n",
       "   'clf__solver': 'liblinear'},\n",
       "  'auc_train': {'cv_roc_auc': np.float64(0.9101423061163529)},\n",
       "  'auc_test': np.float64(0.9010575815738964),\n",
       "  'alift': np.float64(5.63634814429476)},\n",
       " 'RandomForest': {'model': Pipeline(steps=[('preprocess',\n",
       "                   FunctionTransformer(func=<bound method Pipeline.transform of Pipeline(steps=[('cleaning', DataCleaningTransformer()),\n",
       "                  ('column_transformer',\n",
       "                   ColumnTransformer(transformers=[('num',\n",
       "                                                    Pipeline(steps=[('scaler',\n",
       "                                                                     StandardScaler())]),\n",
       "                                                    ['age', 'balance', 'day',\n",
       "                                                     'duration', 'campaign',\n",
       "                                                     'pdays', 'previous']),\n",
       "                                                   ('cat',\n",
       "                                                    Pipeline(steps=[('onehot',\n",
       "                                                                     OneHotEncoder(handle_unknown='ignore'))]),\n",
       "                                                    ['job', 'marital',\n",
       "                                                     'education', 'default',\n",
       "                                                     'housing', 'loan', 'contact',\n",
       "                                                     'month', 'poutcome'])]))])>)),\n",
       "                  ('clf',\n",
       "                   RandomForestClassifier(class_weight='balanced', max_depth=19,\n",
       "                                          min_samples_leaf=6, min_samples_split=8,\n",
       "                                          n_estimators=260, random_state=42))]),\n",
       "  'params': {'clf__class_weight': 'balanced',\n",
       "   'clf__max_depth': 19,\n",
       "   'clf__min_samples_leaf': 6,\n",
       "   'clf__min_samples_split': 8,\n",
       "   'clf__n_estimators': 260},\n",
       "  'auc_train': {'cv_roc_auc': np.float64(0.9322342626138876)},\n",
       "  'auc_test': np.float64(0.9857538387715931),\n",
       "  'alift': np.float64(8.677543186180422)},\n",
       " 'NeuralNetwork': {'model': Pipeline(steps=[('preprocess',\n",
       "                   FunctionTransformer(func=<bound method Pipeline.transform of Pipeline(steps=[('cleaning', DataCleaningTransformer()),\n",
       "                  ('column_transformer',\n",
       "                   ColumnTransformer(transformers=[('num',\n",
       "                                                    Pipeline(steps=[('scaler',\n",
       "                                                                     StandardScaler())]),\n",
       "                                                    ['age', 'balance', 'day',\n",
       "                                                     'duration', 'campaign',\n",
       "                                                     'pdays', 'previous']),\n",
       "                                                   ('cat',\n",
       "                                                    Pipeline(steps=[('onehot',\n",
       "                                                                     OneHotEncoder(handle_unknown='ignore'))]),\n",
       "                                                    ['job', 'marital',\n",
       "                                                     'education', 'default',\n",
       "                                                     'housing', 'loan', 'contact',\n",
       "                                                     'month', 'poutcome'])]))])>)),\n",
       "                  ('clf', <Sequential name=sequential_1, built=True>)]),\n",
       "  'params': <keras_tuner.src.engine.hyperparameters.hyperparameters.HyperParameters at 0x2cdcc588620>,\n",
       "  'auc_train': np.float64(0.9278917346205611),\n",
       "  'auc_test': np.float64(0.976447216890595),\n",
       "  'alift': np.float64(8.24977697277716)},\n",
       " 'SVC': {'model': Pipeline(steps=[('preprocess',\n",
       "                   FunctionTransformer(func=<bound method Pipeline.transform of Pipeline(steps=[('cleaning', DataCleaningTransformer()),\n",
       "                  ('column_transformer',\n",
       "                   ColumnTransformer(transformers=[('num',\n",
       "                                                    Pipeline(steps=[('scaler',\n",
       "                                                                     StandardScaler())]),\n",
       "                                                    ['age', 'balance', 'day',\n",
       "                                                     'duration', 'campaign',\n",
       "                                                     'pdays', 'previous']),\n",
       "                                                   ('cat',\n",
       "                                                    Pipeline(steps=[('onehot',\n",
       "                                                                     OneHotEncoder(handle_unknown='ignore'))]),\n",
       "                                                    ['job', 'marital',\n",
       "                                                     'education', 'default',\n",
       "                                                     'housing', 'loan', 'contact',\n",
       "                                                     'month', 'poutcome'])]))])>)),\n",
       "                  ('clf',\n",
       "                   SVC(C=np.float64(0.0001231456223180122), degree=2,\n",
       "                       gamma=np.float64(3.6307247298858902), kernel='poly',\n",
       "                       probability=True, random_state=42))]),\n",
       "  'params': {'clf__C': np.float64(0.0001231456223180122),\n",
       "   'clf__degree': 2,\n",
       "   'clf__gamma': np.float64(3.6307247298858902),\n",
       "   'clf__kernel': 'poly'},\n",
       "  'auc_train': {'cv_roc_auc': np.float64(0.9262954835715215)},\n",
       "  'auc_test': np.float64(0.9285686180422265),\n",
       "  'alift': np.float64(5.883080126224015)}}"
      ]
     },
     "execution_count": 12,
     "metadata": {},
     "output_type": "execute_result"
    }
   ],
   "source": [
    "train_log_compare_models(\n",
    "                X_train=X_train,\n",
    "                y_train=y_train,\n",
    "                X_test=X_test,\n",
    "                y_test=y_test,\n",
    "                num_columns= num_columns,\n",
    "                cat_columns=cat_columns,\n",
    "                models_name=[\"LogisticRegression\",\n",
    "                            \"RandomForest\", \"NeuralNetwork\",\"SVC\"],\n",
    "                visualize = True,\n",
    "                )\n"
   ]
  },
  {
   "cell_type": "markdown",
   "metadata": {},
   "source": [
    "the best performance on the test set is belong to Random Forest Classifier which is an ensemble method .\n",
    "after that the multi layered preceptron.\n",
    "\n",
    "I'll use "
   ]
  },
  {
   "cell_type": "code",
   "execution_count": 27,
   "metadata": {},
   "outputs": [
    {
     "name": "stdout",
     "output_type": "stream",
     "text": [
      "Trial 19 Complete [00h 00m 15s]\n",
      "val_auc: 0.9215103387832642\n",
      "\n",
      "Best val_auc So Far: 0.9268555045127869\n",
      "Total elapsed time: 00h 04m 55s\n",
      "\u001b[1m 35/283\u001b[0m \u001b[32m━━\u001b[0m\u001b[37m━━━━━━━━━━━━━━━━━━\u001b[0m \u001b[1m0s\u001b[0m 1ms/step  "
     ]
    },
    {
     "name": "stderr",
     "output_type": "stream",
     "text": [
      "c:\\Users\\mehri\\AppData\\Local\\Programs\\Python\\Python312\\Lib\\site-packages\\keras\\src\\saving\\saving_lib.py:757: UserWarning: Skipping variable loading for optimizer 'adam', because it has 2 variables whereas the saved optimizer has 14 variables. \n",
      "  saveable.load_own_variables(weights_store.get(inner_path))\n"
     ]
    },
    {
     "name": "stdout",
     "output_type": "stream",
     "text": [
      "\u001b[1m283/283\u001b[0m \u001b[32m━━━━━━━━━━━━━━━━━━━━\u001b[0m\u001b[37m\u001b[0m \u001b[1m1s\u001b[0m 2ms/step\n",
      "\n",
      "Best Candidate's AUC: 0.9271\n",
      "Best hyperparameters: {'hidden_layers_idx': 1, 'dropout_rate': 0.0, 'learning_rate': 0.001, 'tuner/epochs': 2, 'tuner/initial_epoch': 0, 'tuner/bracket': 3, 'tuner/round': 0}\n"
     ]
    },
    {
     "data": {
      "text/html": [
       "<pre style=\"white-space:pre;overflow-x:auto;line-height:normal;font-family:Menlo,'DejaVu Sans Mono',consolas,'Courier New',monospace\"><span style=\"font-weight: bold\">Model: \"sequential\"</span>\n",
       "</pre>\n"
      ],
      "text/plain": [
       "\u001b[1mModel: \"sequential\"\u001b[0m\n"
      ]
     },
     "metadata": {},
     "output_type": "display_data"
    },
    {
     "data": {
      "text/html": [
       "<pre style=\"white-space:pre;overflow-x:auto;line-height:normal;font-family:Menlo,'DejaVu Sans Mono',consolas,'Courier New',monospace\">┏━━━━━━━━━━━━━━━━━━━━━━━━━━━━━━━━━┳━━━━━━━━━━━━━━━━━━━━━━━━┳━━━━━━━━━━━━━━━┓\n",
       "┃<span style=\"font-weight: bold\"> Layer (type)                    </span>┃<span style=\"font-weight: bold\"> Output Shape           </span>┃<span style=\"font-weight: bold\">       Param # </span>┃\n",
       "┡━━━━━━━━━━━━━━━━━━━━━━━━━━━━━━━━━╇━━━━━━━━━━━━━━━━━━━━━━━━╇━━━━━━━━━━━━━━━┩\n",
       "│ dense (<span style=\"color: #0087ff; text-decoration-color: #0087ff\">Dense</span>)                   │ (<span style=\"color: #00d7ff; text-decoration-color: #00d7ff\">None</span>, <span style=\"color: #00af00; text-decoration-color: #00af00\">128</span>)            │         <span style=\"color: #00af00; text-decoration-color: #00af00\">6,656</span> │\n",
       "├─────────────────────────────────┼────────────────────────┼───────────────┤\n",
       "│ dense_1 (<span style=\"color: #0087ff; text-decoration-color: #0087ff\">Dense</span>)                 │ (<span style=\"color: #00d7ff; text-decoration-color: #00d7ff\">None</span>, <span style=\"color: #00af00; text-decoration-color: #00af00\">64</span>)             │         <span style=\"color: #00af00; text-decoration-color: #00af00\">8,256</span> │\n",
       "├─────────────────────────────────┼────────────────────────┼───────────────┤\n",
       "│ dense_2 (<span style=\"color: #0087ff; text-decoration-color: #0087ff\">Dense</span>)                 │ (<span style=\"color: #00d7ff; text-decoration-color: #00d7ff\">None</span>, <span style=\"color: #00af00; text-decoration-color: #00af00\">1</span>)              │            <span style=\"color: #00af00; text-decoration-color: #00af00\">65</span> │\n",
       "└─────────────────────────────────┴────────────────────────┴───────────────┘\n",
       "</pre>\n"
      ],
      "text/plain": [
       "┏━━━━━━━━━━━━━━━━━━━━━━━━━━━━━━━━━┳━━━━━━━━━━━━━━━━━━━━━━━━┳━━━━━━━━━━━━━━━┓\n",
       "┃\u001b[1m \u001b[0m\u001b[1mLayer (type)                   \u001b[0m\u001b[1m \u001b[0m┃\u001b[1m \u001b[0m\u001b[1mOutput Shape          \u001b[0m\u001b[1m \u001b[0m┃\u001b[1m \u001b[0m\u001b[1m      Param #\u001b[0m\u001b[1m \u001b[0m┃\n",
       "┡━━━━━━━━━━━━━━━━━━━━━━━━━━━━━━━━━╇━━━━━━━━━━━━━━━━━━━━━━━━╇━━━━━━━━━━━━━━━┩\n",
       "│ dense (\u001b[38;5;33mDense\u001b[0m)                   │ (\u001b[38;5;45mNone\u001b[0m, \u001b[38;5;34m128\u001b[0m)            │         \u001b[38;5;34m6,656\u001b[0m │\n",
       "├─────────────────────────────────┼────────────────────────┼───────────────┤\n",
       "│ dense_1 (\u001b[38;5;33mDense\u001b[0m)                 │ (\u001b[38;5;45mNone\u001b[0m, \u001b[38;5;34m64\u001b[0m)             │         \u001b[38;5;34m8,256\u001b[0m │\n",
       "├─────────────────────────────────┼────────────────────────┼───────────────┤\n",
       "│ dense_2 (\u001b[38;5;33mDense\u001b[0m)                 │ (\u001b[38;5;45mNone\u001b[0m, \u001b[38;5;34m1\u001b[0m)              │            \u001b[38;5;34m65\u001b[0m │\n",
       "└─────────────────────────────────┴────────────────────────┴───────────────┘\n"
      ]
     },
     "metadata": {},
     "output_type": "display_data"
    },
    {
     "data": {
      "text/html": [
       "<pre style=\"white-space:pre;overflow-x:auto;line-height:normal;font-family:Menlo,'DejaVu Sans Mono',consolas,'Courier New',monospace\"><span style=\"font-weight: bold\"> Total params: </span><span style=\"color: #00af00; text-decoration-color: #00af00\">14,977</span> (58.50 KB)\n",
       "</pre>\n"
      ],
      "text/plain": [
       "\u001b[1m Total params: \u001b[0m\u001b[38;5;34m14,977\u001b[0m (58.50 KB)\n"
      ]
     },
     "metadata": {},
     "output_type": "display_data"
    },
    {
     "data": {
      "text/html": [
       "<pre style=\"white-space:pre;overflow-x:auto;line-height:normal;font-family:Menlo,'DejaVu Sans Mono',consolas,'Courier New',monospace\"><span style=\"font-weight: bold\"> Trainable params: </span><span style=\"color: #00af00; text-decoration-color: #00af00\">14,977</span> (58.50 KB)\n",
       "</pre>\n"
      ],
      "text/plain": [
       "\u001b[1m Trainable params: \u001b[0m\u001b[38;5;34m14,977\u001b[0m (58.50 KB)\n"
      ]
     },
     "metadata": {},
     "output_type": "display_data"
    },
    {
     "data": {
      "text/html": [
       "<pre style=\"white-space:pre;overflow-x:auto;line-height:normal;font-family:Menlo,'DejaVu Sans Mono',consolas,'Courier New',monospace\"><span style=\"font-weight: bold\"> Non-trainable params: </span><span style=\"color: #00af00; text-decoration-color: #00af00\">0</span> (0.00 B)\n",
       "</pre>\n"
      ],
      "text/plain": [
       "\u001b[1m Non-trainable params: \u001b[0m\u001b[38;5;34m0\u001b[0m (0.00 B)\n"
      ]
     },
     "metadata": {},
     "output_type": "display_data"
    },
    {
     "name": "stdout",
     "output_type": "stream",
     "text": [
      "***** Retrain the best Estimator on the full training set *****\n",
      "Epoch 1/50\n"
     ]
    },
    {
     "name": "stderr",
     "output_type": "stream",
     "text": [
      "c:\\Users\\mehri\\AppData\\Local\\Programs\\Python\\Python312\\Lib\\site-packages\\keras\\src\\layers\\core\\dense.py:87: UserWarning: Do not pass an `input_shape`/`input_dim` argument to a layer. When using Sequential models, prefer using an `Input(shape)` object as the first layer in the model instead.\n",
      "  super().__init__(activity_regularizer=activity_regularizer, **kwargs)\n"
     ]
    },
    {
     "name": "stdout",
     "output_type": "stream",
     "text": [
      "2496/2496 - 8s - 3ms/step - auc: 0.9248 - loss: 0.3393\n",
      "Epoch 2/50\n",
      "2496/2496 - 7s - 3ms/step - auc: 0.9409 - loss: 0.2934\n",
      "Epoch 3/50\n",
      "2496/2496 - 7s - 3ms/step - auc: 0.9473 - loss: 0.2736\n",
      "Epoch 4/50\n",
      "2496/2496 - 7s - 3ms/step - auc: 0.9522 - loss: 0.2573\n",
      "Epoch 5/50\n",
      "2496/2496 - 7s - 3ms/step - auc: 0.9561 - loss: 0.2432\n",
      "Epoch 6/50\n",
      "2496/2496 - 7s - 3ms/step - auc: 0.9601 - loss: 0.2299\n",
      "Epoch 7/50\n",
      "2496/2496 - 7s - 3ms/step - auc: 0.9639 - loss: 0.2166\n",
      "Epoch 8/50\n",
      "2496/2496 - 6s - 3ms/step - auc: 0.9671 - loss: 0.2047\n",
      "Epoch 9/50\n",
      "2496/2496 - 7s - 3ms/step - auc: 0.9703 - loss: 0.1927\n",
      "Epoch 10/50\n",
      "2496/2496 - 7s - 3ms/step - auc: 0.9730 - loss: 0.1823\n",
      "Epoch 11/50\n",
      "2496/2496 - 6s - 3ms/step - auc: 0.9757 - loss: 0.1720\n",
      "Epoch 12/50\n",
      "2496/2496 - 7s - 3ms/step - auc: 0.9780 - loss: 0.1627\n",
      "Epoch 13/50\n",
      "2496/2496 - 6s - 3ms/step - auc: 0.9798 - loss: 0.1541\n",
      "Epoch 14/50\n",
      "2496/2496 - 7s - 3ms/step - auc: 0.9819 - loss: 0.1461\n",
      "Epoch 15/50\n",
      "2496/2496 - 7s - 3ms/step - auc: 0.9832 - loss: 0.1398\n",
      "Epoch 16/50\n",
      "2496/2496 - 6s - 3ms/step - auc: 0.9846 - loss: 0.1337\n",
      "Epoch 17/50\n",
      "2496/2496 - 7s - 3ms/step - auc: 0.9859 - loss: 0.1277\n",
      "Epoch 18/50\n",
      "2496/2496 - 6s - 3ms/step - auc: 0.9869 - loss: 0.1222\n",
      "Epoch 19/50\n",
      "2496/2496 - 7s - 3ms/step - auc: 0.9885 - loss: 0.1142\n",
      "Epoch 20/50\n",
      "2496/2496 - 7s - 3ms/step - auc: 0.9894 - loss: 0.1100\n",
      "Epoch 21/50\n",
      "2496/2496 - 7s - 3ms/step - auc: 0.9897 - loss: 0.1071\n",
      "Epoch 22/50\n",
      "2496/2496 - 7s - 3ms/step - auc: 0.9905 - loss: 0.1036\n",
      "Epoch 23/50\n",
      "2496/2496 - 7s - 3ms/step - auc: 0.9915 - loss: 0.0967\n",
      "Epoch 24/50\n",
      "2496/2496 - 7s - 3ms/step - auc: 0.9919 - loss: 0.0950\n",
      "Epoch 25/50\n",
      "2496/2496 - 7s - 3ms/step - auc: 0.9924 - loss: 0.0920\n",
      "Epoch 26/50\n",
      "2496/2496 - 6s - 3ms/step - auc: 0.9931 - loss: 0.0876\n",
      "Epoch 27/50\n",
      "2496/2496 - 7s - 3ms/step - auc: 0.9934 - loss: 0.0854\n",
      "Epoch 28/50\n",
      "2496/2496 - 7s - 3ms/step - auc: 0.9937 - loss: 0.0821\n",
      "Epoch 29/50\n",
      "2496/2496 - 7s - 3ms/step - auc: 0.9941 - loss: 0.0797\n",
      "Epoch 30/50\n",
      "2496/2496 - 7s - 3ms/step - auc: 0.9946 - loss: 0.0759\n",
      "Epoch 31/50\n",
      "2496/2496 - 6s - 3ms/step - auc: 0.9949 - loss: 0.0744\n",
      "Epoch 32/50\n",
      "2496/2496 - 7s - 3ms/step - auc: 0.9950 - loss: 0.0727\n",
      "Epoch 33/50\n",
      "2496/2496 - 7s - 3ms/step - auc: 0.9956 - loss: 0.0689\n",
      "Epoch 34/50\n",
      "2496/2496 - 7s - 3ms/step - auc: 0.9959 - loss: 0.0664\n",
      "Epoch 35/50\n",
      "2496/2496 - 7s - 3ms/step - auc: 0.9960 - loss: 0.0663\n",
      "Epoch 36/50\n",
      "2496/2496 - 7s - 3ms/step - auc: 0.9962 - loss: 0.0637\n",
      "Epoch 37/50\n",
      "2496/2496 - 7s - 3ms/step - auc: 0.9964 - loss: 0.0609\n",
      "Epoch 38/50\n",
      "2496/2496 - 7s - 3ms/step - auc: 0.9965 - loss: 0.0618\n",
      "Epoch 39/50\n",
      "2496/2496 - 7s - 3ms/step - auc: 0.9967 - loss: 0.0600\n",
      "Epoch 40/50\n",
      "2496/2496 - 7s - 3ms/step - auc: 0.9968 - loss: 0.0581\n",
      "Epoch 41/50\n",
      "2496/2496 - 7s - 3ms/step - auc: 0.9971 - loss: 0.0547\n",
      "Epoch 42/50\n",
      "2496/2496 - 6s - 3ms/step - auc: 0.9971 - loss: 0.0557\n",
      "Epoch 43/50\n",
      "2496/2496 - 7s - 3ms/step - auc: 0.9973 - loss: 0.0534\n",
      "Epoch 44/50\n",
      "2496/2496 - 6s - 3ms/step - auc: 0.9976 - loss: 0.0505\n",
      "Epoch 45/50\n",
      "2496/2496 - 7s - 3ms/step - auc: 0.9975 - loss: 0.0505\n",
      "Epoch 46/50\n",
      "2496/2496 - 7s - 3ms/step - auc: 0.9975 - loss: 0.0506\n",
      "Epoch 47/50\n",
      "2496/2496 - 6s - 3ms/step - auc: 0.9975 - loss: 0.0503\n",
      "Epoch 48/50\n",
      "2496/2496 - 6s - 3ms/step - auc: 0.9978 - loss: 0.0478\n",
      "Epoch 49/50\n",
      "2496/2496 - 7s - 3ms/step - auc: 0.9980 - loss: 0.0458\n",
      "Epoch 50/50\n",
      "2496/2496 - 7s - 3ms/step - auc: 0.9980 - loss: 0.0452\n"
     ]
    },
    {
     "name": "stderr",
     "output_type": "stream",
     "text": [
      "2025/07/01 17:07:33 WARNING mlflow.models.model: Model logged without a signature and input example. Please set `input_example` parameter when logging the model to auto infer the model signature.\n",
      "Registered model 'MLP' already exists. Creating a new version of this model...\n",
      "Created version '4' of model 'MLP'.\n",
      "2025-07-01 17:07:33 — INFO — Evaluating NeuralNetwork on test set…\n"
     ]
    },
    {
     "name": "stdout",
     "output_type": "stream",
     "text": [
      "Model registered: MLP\n",
      "\u001b[1m142/142\u001b[0m \u001b[32m━━━━━━━━━━━━━━━━━━━━\u001b[0m\u001b[37m\u001b[0m \u001b[1m0s\u001b[0m 2ms/step\n"
     ]
    },
    {
     "name": "stderr",
     "output_type": "stream",
     "text": [
      "c:\\Users\\mehri\\AppData\\Local\\Programs\\Python\\Python312\\Lib\\site-packages\\imblearn\\pipeline.py:65: FutureWarning: This Pipeline instance is not fitted yet. Call 'fit' with appropriate arguments before using other methods such as transform, predict, etc. This will raise an error in 0.15 instead of the current warning.\n",
      "  warnings.warn(\n",
      "Models: 100%|██████████| 2/2 [1:13:53<00:00, 2216.51s/model]  \n",
      "2025-07-01 17:07:34 — INFO — === Test set performance summary ===\n",
      "2025-07-01 17:07:34 — INFO — RandomForest          AUC=0.986  ALIFT=8.678\n",
      "2025-07-01 17:07:34 — INFO — NeuralNetwork         AUC=0.998  ALIFT=8.429\n"
     ]
    },
    {
     "data": {
      "image/png": "[encoded data removed]",
      "text/plain": [
       "<Figure size 1000x800 with 4 Axes>"
      ]
     },
     "metadata": {},
     "output_type": "display_data"
    },
    {
     "data": {
      "text/plain": [
       "{'RandomForest': {'model': Pipeline(steps=[('preprocess',\n",
       "                   Pipeline(steps=[('cleaning', DataCleaningTransformer()),\n",
       "                                   ('column_transformer',\n",
       "                                    ColumnTransformer(transformers=[('num',\n",
       "                                                                     Pipeline(steps=[('scaler',\n",
       "                                                                                      StandardScaler())]),\n",
       "                                                                     ['age',\n",
       "                                                                      'balance',\n",
       "                                                                      'day',\n",
       "                                                                      'duration',\n",
       "                                                                      'campaign',\n",
       "                                                                      'pdays',\n",
       "                                                                      'previous']),\n",
       "                                                                    ('cat',\n",
       "                                                                     Pipeline(steps=[('onehot',\n",
       "                                                                                      OneHotEncoder(handle_unknown='ignore'))]),\n",
       "                                                                     ['job',\n",
       "                                                                      'marital',\n",
       "                                                                      'education',\n",
       "                                                                      'default',\n",
       "                                                                      'housing',\n",
       "                                                                      'loan',\n",
       "                                                                      'contact',\n",
       "                                                                      'month',\n",
       "                                                                      'poutcome'])]))])),\n",
       "                  ('clf',\n",
       "                   RandomForestClassifier(class_weight='balanced', max_depth=19,\n",
       "                                          min_samples_leaf=6, min_samples_split=8,\n",
       "                                          n_estimators=260, random_state=42))]),\n",
       "  'params': {'clf__class_weight': 'balanced',\n",
       "   'clf__max_depth': 19,\n",
       "   'clf__min_samples_leaf': 6,\n",
       "   'clf__min_samples_split': 8,\n",
       "   'clf__n_estimators': 260},\n",
       "  'auc_train': {'cv_roc_auc': np.float64(0.9322342626138876)},\n",
       "  'auc_test': np.float64(0.9857538387715931),\n",
       "  'alift': np.float64(8.677543186180422)},\n",
       " 'NeuralNetwork': {'model': Pipeline(steps=[('preprocess',\n",
       "                   Pipeline(steps=[('cleaning', DataCleaningTransformer()),\n",
       "                                   ('column_transformer',\n",
       "                                    ColumnTransformer(transformers=[('num',\n",
       "                                                                     Pipeline(steps=[('scaler',\n",
       "                                                                                      StandardScaler())]),\n",
       "                                                                     ['age',\n",
       "                                                                      'balance',\n",
       "                                                                      'day',\n",
       "                                                                      'duration',\n",
       "                                                                      'campaign',\n",
       "                                                                      'pdays',\n",
       "                                                                      'previous']),\n",
       "                                                                    ('cat',\n",
       "                                                                     Pipeline(steps=[('onehot',\n",
       "                                                                                      OneHotEncoder(handle_unknown='ignore'))]),\n",
       "                                                                     ['job',\n",
       "                                                                      'marital',\n",
       "                                                                      'education',\n",
       "                                                                      'default',\n",
       "                                                                      'housing',\n",
       "                                                                      'loan',\n",
       "                                                                      'contact',\n",
       "                                                                      'month',\n",
       "                                                                      'poutcome'])]))])),\n",
       "                  ('clf', <Sequential name=sequential_1, built=True>)]),\n",
       "  'params': <keras_tuner.src.engine.hyperparameters.hyperparameters.HyperParameters at 0x171a3e80350>,\n",
       "  'auc_train': np.float64(0.9270610774218674),\n",
       "  'auc_test': np.float64(0.9981041266794626),\n",
       "  'alift': np.float64(8.428518768033964)}}"
      ]
     },
     "execution_count": 27,
     "metadata": {},
     "output_type": "execute_result"
    }
   ],
   "source": [
    "train_log_compare_models(\n",
    "                X_train=X_train,\n",
    "                y_train=y_train,\n",
    "                X_test=X_test,\n",
    "                y_test=y_test,\n",
    "                preprocessing_pipeline = preprocess_pipe,\n",
    "                models_name=[\"RandomForest\", \"NeuralNetwork\"],\n",
    "                visualize = True,\n",
    "                )\n"
   ]
  },
  {
   "cell_type": "code",
   "execution_count": null,
   "metadata": {},
   "outputs": [
    {
     "name": "stderr",
     "output_type": "stream",
     "text": [
      "Models:   0%|          | 0/1 [00:00<?, ?model/s]2025-07-02 12:58:20 — INFO — Training RandomForest (1/1)…\n"
     ]
    },
    {
     "name": "stdout",
     "output_type": "stream",
     "text": [
      "n_iterations: 8\n",
      "n_required_iterations: 8\n",
      "n_possible_iterations: 8\n",
      "min_resources_: 20\n",
      "max_resources_: 43836\n",
      "aggressive_elimination: False\n",
      "factor: 3\n",
      "----------\n",
      "iter: 0\n",
      "n_candidates: 2191\n",
      "n_resources: 20\n",
      "Fitting 5 folds for each of 2191 candidates, totalling 10955 fits\n"
     ]
    }
   ],
   "source": [
    "train_log_compare_models(\n",
    "                X_train=X_train,\n",
    "                y_train=y_train,\n",
    "                X_test=X_test,\n",
    "                y_test=y_test,\n",
    "                num_columns= num_columns,\n",
    "                cat_columns=cat_columns,\n",
    "                models_name=[\"RandomForest\"],\n",
    "                visualize = True,\n",
    "                )\n"
   ]
  },
  {
   "cell_type": "markdown",
   "metadata": {},
   "source": [
    "### Feature Selection"
   ]
  },
  {
   "cell_type": "code",
   "execution_count": 11,
   "metadata": {},
   "outputs": [
    {
     "data": {
      "text/plain": [
       "[<RegisteredModel: aliases={}, creation_timestamp=1751142514114, description=None, last_updated_timestamp=1751142514139, latest_versions=[<ModelVersion: aliases=[], creation_timestamp=1751142514139, current_stage='None', description=None, last_updated_timestamp=1751142514139, name='BankMarketing_SVC', run_id='3b0252d42e0e4f6fa182f01d707cd9c6', run_link=None, source=('file:///h:/Resume/Projects/DataScience/Banking Telemarketing Decision '\n",
       "  'Support '\n",
       "  'System/Project/notebooks/../src/models/mlruns/636029484244639439/3b0252d42e0e4f6fa182f01d707cd9c6/artifacts/svm_model'), status='READY', status_message=None, tags={}, user_id=None, version=1>], name='BankMarketing_SVC', tags={}>,\n",
       " <RegisteredModel: aliases={}, creation_timestamp=1751092804033, description=None, last_updated_timestamp=1751129527351, latest_versions=[<ModelVersion: aliases=[], creation_timestamp=1751129527351, current_stage='None', description=None, last_updated_timestamp=1751129527351, name='LogReg', run_id='f59082006454451497359fff541ba645', run_link=None, source=('file:///h:/Resume/Projects/DataScience/Banking Telemarketing Decision '\n",
       "  'Support '\n",
       "  'System/Project/notebooks/../src/models/mlruns/636029484244639439/f59082006454451497359fff541ba645/artifacts/logistic_regression_model'), status='READY', status_message=None, tags={}, user_id=None, version=3>], name='LogReg', tags={}>,\n",
       " <RegisteredModel: aliases={}, creation_timestamp=1751097243412, description=None, last_updated_timestamp=1751377053598, latest_versions=[<ModelVersion: aliases=[], creation_timestamp=1751377053598, current_stage='None', description=None, last_updated_timestamp=1751377053598, name='MLP', run_id='a8e4a3f6b8644849b43813fadab25772', run_link=None, source=('file:///h:/Resume/Projects/DataScience/Banking Telemarketing Decision '\n",
       "  'Support '\n",
       "  'System/Project/notebooks/../src/models/mlruns/955962306511703283/a8e4a3f6b8644849b43813fadab25772/artifacts/MLP'), status='READY', status_message=None, tags={}, user_id=None, version=4>], name='MLP', tags={}>,\n",
       " <RegisteredModel: aliases={}, creation_timestamp=1751096310836, description=None, last_updated_timestamp=1751376402914, latest_versions=[<ModelVersion: aliases=[], creation_timestamp=1751376402914, current_stage='None', description=None, last_updated_timestamp=1751376402914, name='Random_Forest', run_id='9250c0ff423a4e3d935536af9f5b4211', run_link=None, source=('file:///h:/Resume/Projects/DataScience/Banking Telemarketing Decision '\n",
       "  'Support '\n",
       "  'System/Project/notebooks/../src/models/mlruns/636029484244639439/9250c0ff423a4e3d935536af9f5b4211/artifacts/random_forest_model'), status='READY', status_message=None, tags={}, user_id=None, version=4>], name='Random_Forest', tags={}>]"
      ]
     },
     "execution_count": 11,
     "metadata": {},
     "output_type": "execute_result"
    }
   ],
   "source": [
    "\n",
    "model_repo = ModelRepository()\n",
    "\n",
    "model_repo.list_registered_models()"
   ]
  },
  {
   "cell_type": "code",
   "execution_count": 12,
   "metadata": {},
   "outputs": [],
   "source": [
    "RF_pretrained = model_repo.load_model(registered_name='Random_Forest')\n",
    "MLP_pretrained = model_repo.load_model(registered_name='MLP')\n"
   ]
  },
  {
   "cell_type": "code",
   "execution_count": 13,
   "metadata": {},
   "outputs": [],
   "source": [
    "RandomForestClassifier = RF_pretrained.named_steps['clf']"
   ]
  },
  {
   "cell_type": "code",
   "execution_count": 14,
   "metadata": {},
   "outputs": [],
   "source": [
    "MLP_Classifier = MLP_pretrained.named_steps['clf']"
   ]
  },
  {
   "cell_type": "code",
   "execution_count": 15,
   "metadata": {},
   "outputs": [],
   "source": [
    "\n",
    "original_features_name = X_train.columns.to_list()\n",
    "df_feature_importance= get_features_importance_df(RFpipeline=RF_pretrained, original_features_name=original_features_name)"
   ]
  },
  {
   "cell_type": "code",
   "execution_count": 16,
   "metadata": {},
   "outputs": [
    {
     "data": {
      "text/html": [
       "<div>\n",
       "<style scoped>\n",
       "    .dataframe tbody tr th:only-of-type {\n",
       "        vertical-align: middle;\n",
       "    }\n",
       "\n",
       "    .dataframe tbody tr th {\n",
       "        vertical-align: top;\n",
       "    }\n",
       "\n",
       "    .dataframe thead th {\n",
       "        text-align: right;\n",
       "    }\n",
       "</style>\n",
       "<table border=\"1\" class=\"dataframe\">\n",
       "  <thead>\n",
       "    <tr style=\"text-align: right;\">\n",
       "      <th></th>\n",
       "      <th>features</th>\n",
       "      <th>importance</th>\n",
       "    </tr>\n",
       "  </thead>\n",
       "  <tbody>\n",
       "    <tr>\n",
       "      <th>11</th>\n",
       "      <td>duration</td>\n",
       "      <td>0.42</td>\n",
       "    </tr>\n",
       "    <tr>\n",
       "      <th>10</th>\n",
       "      <td>month</td>\n",
       "      <td>0.11</td>\n",
       "    </tr>\n",
       "    <tr>\n",
       "      <th>15</th>\n",
       "      <td>poutcome</td>\n",
       "      <td>0.08</td>\n",
       "    </tr>\n",
       "    <tr>\n",
       "      <th>8</th>\n",
       "      <td>contact</td>\n",
       "      <td>0.06</td>\n",
       "    </tr>\n",
       "    <tr>\n",
       "      <th>0</th>\n",
       "      <td>age</td>\n",
       "      <td>0.05</td>\n",
       "    </tr>\n",
       "    <tr>\n",
       "      <th>5</th>\n",
       "      <td>balance</td>\n",
       "      <td>0.04</td>\n",
       "    </tr>\n",
       "    <tr>\n",
       "      <th>6</th>\n",
       "      <td>housing</td>\n",
       "      <td>0.04</td>\n",
       "    </tr>\n",
       "    <tr>\n",
       "      <th>9</th>\n",
       "      <td>day</td>\n",
       "      <td>0.04</td>\n",
       "    </tr>\n",
       "    <tr>\n",
       "      <th>13</th>\n",
       "      <td>pdays</td>\n",
       "      <td>0.03</td>\n",
       "    </tr>\n",
       "    <tr>\n",
       "      <th>2</th>\n",
       "      <td>marital</td>\n",
       "      <td>0.02</td>\n",
       "    </tr>\n",
       "    <tr>\n",
       "      <th>12</th>\n",
       "      <td>campaign</td>\n",
       "      <td>0.02</td>\n",
       "    </tr>\n",
       "    <tr>\n",
       "      <th>7</th>\n",
       "      <td>loan</td>\n",
       "      <td>0.02</td>\n",
       "    </tr>\n",
       "    <tr>\n",
       "      <th>14</th>\n",
       "      <td>previous</td>\n",
       "      <td>0.02</td>\n",
       "    </tr>\n",
       "    <tr>\n",
       "      <th>1</th>\n",
       "      <td>job</td>\n",
       "      <td>0.01</td>\n",
       "    </tr>\n",
       "    <tr>\n",
       "      <th>3</th>\n",
       "      <td>education</td>\n",
       "      <td>0.01</td>\n",
       "    </tr>\n",
       "    <tr>\n",
       "      <th>4</th>\n",
       "      <td>default</td>\n",
       "      <td>0.00</td>\n",
       "    </tr>\n",
       "  </tbody>\n",
       "</table>\n",
       "</div>"
      ],
      "text/plain": [
       "     features  importance\n",
       "11   duration        0.42\n",
       "10      month        0.11\n",
       "15   poutcome        0.08\n",
       "8     contact        0.06\n",
       "0         age        0.05\n",
       "5     balance        0.04\n",
       "6     housing        0.04\n",
       "9         day        0.04\n",
       "13      pdays        0.03\n",
       "2     marital        0.02\n",
       "12   campaign        0.02\n",
       "7        loan        0.02\n",
       "14   previous        0.02\n",
       "1         job        0.01\n",
       "3   education        0.01\n",
       "4     default        0.00"
      ]
     },
     "execution_count": 16,
     "metadata": {},
     "output_type": "execute_result"
    }
   ],
   "source": [
    "df_feature_importance.sort_values(by=\"importance\", ascending=False)"
   ]
  },
  {
   "cell_type": "markdown",
   "metadata": {},
   "source": [
    "As is evident, features such as default, education, and job have only a slight impact on the customer's decision to subscribe to a long-term deposit."
   ]
  },
  {
   "cell_type": "markdown",
   "metadata": {},
   "source": []
  }
 ],
 "metadata": {
  "kernelspec": {
   "display_name": "Python_ML (.env)",
   "language": "python",
   "name": "machinelearningenvironment"
  },
  "language_info": {
   "codemirror_mode": {
    "name": "ipython",
    "version": 3
   },
   "file_extension": ".py",
   "mimetype": "text/x-python",
   "name": "python",
   "nbconvert_exporter": "python",
   "pygments_lexer": "ipython3",
   "version": "3.12.5"
  }
 },
 "nbformat": 4,
 "nbformat_minor": 2
}
