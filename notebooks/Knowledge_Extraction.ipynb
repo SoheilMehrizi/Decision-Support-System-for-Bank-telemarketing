{
 "cells": [
  {
   "cell_type": "markdown",
   "id": "478f6ff6",
   "metadata": {},
   "source": [
    "# Knowledge Extraction\n",
    "\n",
    "This notebook demonstrates a fine-grained knowledge extraction pipeline to translate complex relations learned within a deep neural network into human-readable rules and insights."
   ]
  },
  {
   "cell_type": "markdown",
   "id": "99d2ef16",
   "metadata": {},
   "source": [
    "## Packages"
   ]
  },
  {
   "cell_type": "code",
   "execution_count": 1,
   "id": "47b18c44",
   "metadata": {},
   "outputs": [],
   "source": [
    "import sys\n",
    "sys.path.append(r\"h:\\Resume\\Projects\\DataScience\\Banking Telemarketing Decision Support System\\Project\")\n",
    "\n",
    "\n",
    "import pandas as pd\n",
    "import numpy as np\n",
    "\n",
    "import matplotlib.pyplot as plt\n",
    "import seaborn as sns\n",
    "\n",
    "from src.data_ingestion import load_csv_to_dataframe\n",
    "\n",
    "from src.models.model_repository import ModelRepository\n",
    "from configs.config_repository import ConfigRepository\n",
    "\n",
    "from src.data_preprocessing import process_dataset\n",
    "\n",
    "from src.models.model_utils import evaluate_model_on_test\n",
    "\n",
    "from src.knowledge_extraction import REMDExtractor"
   ]
  },
  {
   "cell_type": "markdown",
   "id": "1febbc6e",
   "metadata": {},
   "source": [
    "## Load the data"
   ]
  },
  {
   "cell_type": "code",
   "execution_count": 2,
   "id": "bc0262b8",
   "metadata": {},
   "outputs": [
    {
     "name": "stdout",
     "output_type": "stream",
     "text": [
      "Dataset loaded successfully with 45211 rows and 17 columns.\n",
      "Dataset loaded successfully with 4521 rows and 17 columns.\n"
     ]
    }
   ],
   "source": [
    "df_train = load_csv_to_dataframe(file_path = '../data//raw/bank-full.csv')\n",
    "df_test = load_csv_to_dataframe(file_path = '../data/raw/bank.csv' )"
   ]
  },
  {
   "cell_type": "code",
   "execution_count": 3,
   "id": "08a60577",
   "metadata": {},
   "outputs": [
    {
     "name": "stdout",
     "output_type": "stream",
     "text": [
      "<class 'pandas.core.frame.DataFrame'>\n",
      "RangeIndex: 4521 entries, 0 to 4520\n",
      "Data columns (total 17 columns):\n",
      " #   Column     Non-Null Count  Dtype \n",
      "---  ------     --------------  ----- \n",
      " 0   age        4521 non-null   int64 \n",
      " 1   job        4521 non-null   object\n",
      " 2   marital    4521 non-null   object\n",
      " 3   education  4521 non-null   object\n",
      " 4   default    4521 non-null   object\n",
      " 5   balance    4521 non-null   int64 \n",
      " 6   housing    4521 non-null   object\n",
      " 7   loan       4521 non-null   object\n",
      " 8   contact    4521 non-null   object\n",
      " 9   day        4521 non-null   int64 \n",
      " 10  month      4521 non-null   object\n",
      " 11  duration   4521 non-null   int64 \n",
      " 12  campaign   4521 non-null   int64 \n",
      " 13  pdays      4521 non-null   int64 \n",
      " 14  previous   4521 non-null   int64 \n",
      " 15  poutcome   4521 non-null   object\n",
      " 16  y          4521 non-null   object\n",
      "dtypes: int64(7), object(10)\n",
      "memory usage: 600.6+ KB\n"
     ]
    }
   ],
   "source": [
    "df_test.info()"
   ]
  },
  {
   "cell_type": "code",
   "execution_count": 139,
   "id": "3296cea6",
   "metadata": {},
   "outputs": [
    {
     "data": {
      "text/plain": [
       "0    oct\n",
       "1    may\n",
       "2    apr\n",
       "3    jun\n",
       "4    may\n",
       "Name: month, dtype: object"
      ]
     },
     "execution_count": 139,
     "metadata": {},
     "output_type": "execute_result"
    }
   ],
   "source": [
    "df_test['month'].head()"
   ]
  },
  {
   "cell_type": "markdown",
   "id": "fd3048ea",
   "metadata": {},
   "source": [
    "## Load the pretrained Multi layer preceptron model "
   ]
  },
  {
   "cell_type": "code",
   "execution_count": 4,
   "id": "8ae689b2",
   "metadata": {},
   "outputs": [
    {
     "data": {
      "text/plain": [
       "[<RegisteredModel: aliases={}, creation_timestamp=1745958323864, description=None, last_updated_timestamp=1745958323923, latest_versions=[<ModelVersion: aliases=[], creation_timestamp=1745958323923, current_stage='None', description=None, last_updated_timestamp=1745958323923, name='BankMarketing_DT', run_id='efc55130af2f4605af0efafe8673394c', run_link=None, source=('file:///h:/Resume/Projects/DataScience/Banking Telemarketing Decision '\n",
       "  'Support '\n",
       "  'System/Project/notebooks/../src/models/mlruns/428291184944362037/efc55130af2f4605af0efafe8673394c/artifacts/Decision_Tree_model'), status='READY', status_message=None, tags={}, user_id=None, version=1>], name='BankMarketing_DT', tags={}>,\n",
       " <RegisteredModel: aliases={}, creation_timestamp=1745954512323, description=None, last_updated_timestamp=1745954512357, latest_versions=[<ModelVersion: aliases=[], creation_timestamp=1745954512357, current_stage='None', description=None, last_updated_timestamp=1745954512357, name='BankMarketing_LogReg', run_id='a79d27d1d2464246b678e5022d2f9a5f', run_link=None, source=('file:///h:/Resume/Projects/DataScience/Banking Telemarketing Decision '\n",
       "  'Support '\n",
       "  'System/Project/notebooks/../src/models/mlruns/428291184944362037/a79d27d1d2464246b678e5022d2f9a5f/artifacts/logistic_regression_model'), status='READY', status_message=None, tags={}, user_id=None, version=1>], name='BankMarketing_LogReg', tags={}>,\n",
       " <RegisteredModel: aliases={}, creation_timestamp=1745970745346, description=None, last_updated_timestamp=1745970745413, latest_versions=[<ModelVersion: aliases=[], creation_timestamp=1745970745413, current_stage='None', description=None, last_updated_timestamp=1745970745413, name='BankMarketing_SVM', run_id='e170a5038cd8429c95def73fbf49a257', run_link=None, source=('file:///h:/Resume/Projects/DataScience/Banking Telemarketing Decision '\n",
       "  'Support '\n",
       "  'System/Project/notebooks/../src/models/mlruns/428291184944362037/e170a5038cd8429c95def73fbf49a257/artifacts/svm_model'), status='READY', status_message=None, tags={}, user_id=None, version=1>], name='BankMarketing_SVM', tags={}>,\n",
       " <RegisteredModel: aliases={}, creation_timestamp=1745971290938, description=None, last_updated_timestamp=1745971290959, latest_versions=[<ModelVersion: aliases=[], creation_timestamp=1745971290959, current_stage='None', description=None, last_updated_timestamp=1745971290959, name='MLP', run_id='ee7e3dfaa7e844be99b707c397ff47df', run_link=None, source=('file:///h:/Resume/Projects/DataScience/Banking Telemarketing Decision '\n",
       "  'Support '\n",
       "  'System/Project/notebooks/../src/models/mlruns/881043748118622715/ee7e3dfaa7e844be99b707c397ff47df/artifacts/MLP'), status='READY', status_message=None, tags={}, user_id=None, version=1>], name='MLP', tags={}>]"
      ]
     },
     "execution_count": 4,
     "metadata": {},
     "output_type": "execute_result"
    }
   ],
   "source": [
    "model_repo = ModelRepository()\n",
    "\n",
    "model_repo.list_registered_models()"
   ]
  },
  {
   "cell_type": "code",
   "execution_count": 5,
   "id": "1cded116",
   "metadata": {},
   "outputs": [],
   "source": [
    "mlp_pretrain = model_repo.load_model(registered_name='MLP')"
   ]
  },
  {
   "cell_type": "code",
   "execution_count": 6,
   "id": "c75253fc",
   "metadata": {},
   "outputs": [
    {
     "name": "stdout",
     "output_type": "stream",
     "text": [
      "<Sequential name=sequential_1, built=True>\n"
     ]
    }
   ],
   "source": [
    "print(mlp_pretrain)"
   ]
  },
  {
   "cell_type": "markdown",
   "id": "bdefda58",
   "metadata": {},
   "source": [
    "## Data Preprocessing"
   ]
  },
  {
   "cell_type": "markdown",
   "id": "5d60ffda",
   "metadata": {},
   "source": [
    "load configs"
   ]
  },
  {
   "cell_type": "code",
   "execution_count": 7,
   "id": "3ff9b37e",
   "metadata": {},
   "outputs": [],
   "source": [
    "cr = ConfigRepository(config_path=\"../configs/models_config.json\")\n",
    "fe_config = cr.get_config(\"fe_config\")"
   ]
  },
  {
   "cell_type": "code",
   "execution_count": 16,
   "id": "c2c07aeb",
   "metadata": {},
   "outputs": [
    {
     "name": "stdout",
     "output_type": "stream",
     "text": [
      "<class 'pandas.core.frame.DataFrame'>\n",
      "RangeIndex: 44709 entries, 0 to 44708\n",
      "Data columns (total 60 columns):\n",
      " #   Column                         Non-Null Count  Dtype  \n",
      "---  ------                         --------------  -----  \n",
      " 0   num__balance                   44709 non-null  float64\n",
      " 1   num__day                       44709 non-null  float64\n",
      " 2   num__duration                  44709 non-null  float64\n",
      " 3   num__campaign                  44709 non-null  float64\n",
      " 4   cat__job_admin.                44709 non-null  float64\n",
      " 5   cat__job_blue-collar           44709 non-null  float64\n",
      " 6   cat__job_entrepreneur          44709 non-null  float64\n",
      " 7   cat__job_housemaid             44709 non-null  float64\n",
      " 8   cat__job_management            44709 non-null  float64\n",
      " 9   cat__job_retired               44709 non-null  float64\n",
      " 10  cat__job_self-employed         44709 non-null  float64\n",
      " 11  cat__job_services              44709 non-null  float64\n",
      " 12  cat__job_student               44709 non-null  float64\n",
      " 13  cat__job_technician            44709 non-null  float64\n",
      " 14  cat__job_unemployed            44709 non-null  float64\n",
      " 15  cat__job_unknown               44709 non-null  float64\n",
      " 16  cat__marital_divorced          44709 non-null  float64\n",
      " 17  cat__marital_married           44709 non-null  float64\n",
      " 18  cat__marital_single            44709 non-null  float64\n",
      " 19  cat__education_primary         44709 non-null  float64\n",
      " 20  cat__education_secondary       44709 non-null  float64\n",
      " 21  cat__education_tertiary        44709 non-null  float64\n",
      " 22  cat__education_unknown         44709 non-null  float64\n",
      " 23  cat__default_no                44709 non-null  float64\n",
      " 24  cat__default_yes               44709 non-null  float64\n",
      " 25  cat__housing_no                44709 non-null  float64\n",
      " 26  cat__housing_yes               44709 non-null  float64\n",
      " 27  cat__loan_no                   44709 non-null  float64\n",
      " 28  cat__loan_yes                  44709 non-null  float64\n",
      " 29  cat__contact_cellular          44709 non-null  float64\n",
      " 30  cat__contact_telephone         44709 non-null  float64\n",
      " 31  cat__contact_unknown           44709 non-null  float64\n",
      " 32  cat__month_apr                 44709 non-null  float64\n",
      " 33  cat__month_aug                 44709 non-null  float64\n",
      " 34  cat__month_dec                 44709 non-null  float64\n",
      " 35  cat__month_feb                 44709 non-null  float64\n",
      " 36  cat__month_jan                 44709 non-null  float64\n",
      " 37  cat__month_jul                 44709 non-null  float64\n",
      " 38  cat__month_jun                 44709 non-null  float64\n",
      " 39  cat__month_mar                 44709 non-null  float64\n",
      " 40  cat__month_may                 44709 non-null  float64\n",
      " 41  cat__month_nov                 44709 non-null  float64\n",
      " 42  cat__month_oct                 44709 non-null  float64\n",
      " 43  cat__month_sep                 44709 non-null  float64\n",
      " 44  cat__poutcome_failure          44709 non-null  float64\n",
      " 45  cat__poutcome_other            44709 non-null  float64\n",
      " 46  cat__poutcome_success          44709 non-null  float64\n",
      " 47  cat__poutcome_unknown          44709 non-null  float64\n",
      " 48  cat__pdays_category_(1, 14]    44709 non-null  float64\n",
      " 49  cat__pdays_category_(14, 30]   44709 non-null  float64\n",
      " 50  cat__pdays_category_[0, 1]     44709 non-null  float64\n",
      " 51  cat__pdays_category_nan        44709 non-null  float64\n",
      " 52  cat__age_category_middle-aged  44709 non-null  float64\n",
      " 53  cat__age_category_senior       44709 non-null  float64\n",
      " 54  cat__age_category_young        44709 non-null  float64\n",
      " 55  cat__previous_category_0       44709 non-null  float64\n",
      " 56  cat__previous_category_>5      44709 non-null  float64\n",
      " 57  cat__previous_category_[1,3]   44709 non-null  float64\n",
      " 58  cat__previous_category_[4,5]   44709 non-null  float64\n",
      " 59  y                              44709 non-null  int64  \n",
      "dtypes: float64(59), int64(1)\n",
      "memory usage: 20.5 MB\n"
     ]
    }
   ],
   "source": [
    "data_train_prep = process_dataset(\n",
    "    df_=df_train,\n",
    "    target_column='y',\n",
    "    missing_method='drop',  # or 'fill'\n",
    "    fill_value=None,\n",
    "    fill_method=None,\n",
    "    missing_threshold=0.5,\n",
    "    outlier_removal=False,\n",
    "    add_new_features=True,\n",
    "    fe_config=fe_config,\n",
    "    return_dataframe=True,\n",
    ")\n",
    "\n",
    "data_train_prep.info()"
   ]
  },
  {
   "cell_type": "code",
   "execution_count": 17,
   "id": "64b1a4c9",
   "metadata": {},
   "outputs": [],
   "source": [
    "X_train = data_train_prep.drop(columns = ['y'])\n",
    "\n",
    "y_train = data_train_prep['y']"
   ]
  },
  {
   "cell_type": "code",
   "execution_count": 8,
   "id": "c5522528",
   "metadata": {},
   "outputs": [
    {
     "name": "stdout",
     "output_type": "stream",
     "text": [
      "<class 'pandas.core.frame.DataFrame'>\n",
      "RangeIndex: 4461 entries, 0 to 4460\n",
      "Data columns (total 60 columns):\n",
      " #   Column                         Non-Null Count  Dtype  \n",
      "---  ------                         --------------  -----  \n",
      " 0   num__balance                   4461 non-null   float64\n",
      " 1   num__day                       4461 non-null   float64\n",
      " 2   num__duration                  4461 non-null   float64\n",
      " 3   num__campaign                  4461 non-null   float64\n",
      " 4   cat__job_admin.                4461 non-null   float64\n",
      " 5   cat__job_blue-collar           4461 non-null   float64\n",
      " 6   cat__job_entrepreneur          4461 non-null   float64\n",
      " 7   cat__job_housemaid             4461 non-null   float64\n",
      " 8   cat__job_management            4461 non-null   float64\n",
      " 9   cat__job_retired               4461 non-null   float64\n",
      " 10  cat__job_self-employed         4461 non-null   float64\n",
      " 11  cat__job_services              4461 non-null   float64\n",
      " 12  cat__job_student               4461 non-null   float64\n",
      " 13  cat__job_technician            4461 non-null   float64\n",
      " 14  cat__job_unemployed            4461 non-null   float64\n",
      " 15  cat__job_unknown               4461 non-null   float64\n",
      " 16  cat__marital_divorced          4461 non-null   float64\n",
      " 17  cat__marital_married           4461 non-null   float64\n",
      " 18  cat__marital_single            4461 non-null   float64\n",
      " 19  cat__education_primary         4461 non-null   float64\n",
      " 20  cat__education_secondary       4461 non-null   float64\n",
      " 21  cat__education_tertiary        4461 non-null   float64\n",
      " 22  cat__education_unknown         4461 non-null   float64\n",
      " 23  cat__default_no                4461 non-null   float64\n",
      " 24  cat__default_yes               4461 non-null   float64\n",
      " 25  cat__housing_no                4461 non-null   float64\n",
      " 26  cat__housing_yes               4461 non-null   float64\n",
      " 27  cat__loan_no                   4461 non-null   float64\n",
      " 28  cat__loan_yes                  4461 non-null   float64\n",
      " 29  cat__contact_cellular          4461 non-null   float64\n",
      " 30  cat__contact_telephone         4461 non-null   float64\n",
      " 31  cat__contact_unknown           4461 non-null   float64\n",
      " 32  cat__month_apr                 4461 non-null   float64\n",
      " 33  cat__month_aug                 4461 non-null   float64\n",
      " 34  cat__month_dec                 4461 non-null   float64\n",
      " 35  cat__month_feb                 4461 non-null   float64\n",
      " 36  cat__month_jan                 4461 non-null   float64\n",
      " 37  cat__month_jul                 4461 non-null   float64\n",
      " 38  cat__month_jun                 4461 non-null   float64\n",
      " 39  cat__month_mar                 4461 non-null   float64\n",
      " 40  cat__month_may                 4461 non-null   float64\n",
      " 41  cat__month_nov                 4461 non-null   float64\n",
      " 42  cat__month_oct                 4461 non-null   float64\n",
      " 43  cat__month_sep                 4461 non-null   float64\n",
      " 44  cat__poutcome_failure          4461 non-null   float64\n",
      " 45  cat__poutcome_other            4461 non-null   float64\n",
      " 46  cat__poutcome_success          4461 non-null   float64\n",
      " 47  cat__poutcome_unknown          4461 non-null   float64\n",
      " 48  cat__pdays_category_(1, 14]    4461 non-null   float64\n",
      " 49  cat__pdays_category_(14, 30]   4461 non-null   float64\n",
      " 50  cat__pdays_category_[0, 1]     4461 non-null   float64\n",
      " 51  cat__pdays_category_nan        4461 non-null   float64\n",
      " 52  cat__age_category_middle-aged  4461 non-null   float64\n",
      " 53  cat__age_category_senior       4461 non-null   float64\n",
      " 54  cat__age_category_young        4461 non-null   float64\n",
      " 55  cat__previous_category_0       4461 non-null   float64\n",
      " 56  cat__previous_category_>5      4461 non-null   float64\n",
      " 57  cat__previous_category_[1,3]   4461 non-null   float64\n",
      " 58  cat__previous_category_[4,5]   4461 non-null   float64\n",
      " 59  y                              4461 non-null   int64  \n",
      "dtypes: float64(59), int64(1)\n",
      "memory usage: 2.0 MB\n"
     ]
    }
   ],
   "source": [
    "data_test_prep = process_dataset(\n",
    "    df_=df_test,\n",
    "    target_column='y',\n",
    "    missing_method='drop',  # or 'fill'\n",
    "    fill_value=None,\n",
    "    fill_method=None,\n",
    "    missing_threshold=0.5,\n",
    "    outlier_removal=False,\n",
    "    add_new_features=True,\n",
    "    fe_config=fe_config,\n",
    "    return_dataframe=True,\n",
    ")\n",
    "\n",
    "data_test_prep.info()"
   ]
  },
  {
   "cell_type": "code",
   "execution_count": 9,
   "id": "ede0010a",
   "metadata": {},
   "outputs": [],
   "source": [
    "X_test = data_test_prep.drop(columns = ['y'])\n",
    "\n",
    "y_test = data_test_prep['y']"
   ]
  },
  {
   "cell_type": "markdown",
   "id": "7a8c23c5",
   "metadata": {},
   "source": [
    "## Re-evaluation of the model"
   ]
  },
  {
   "cell_type": "code",
   "execution_count": 10,
   "id": "22117505",
   "metadata": {},
   "outputs": [
    {
     "name": "stdout",
     "output_type": "stream",
     "text": [
      "\u001b[1m140/140\u001b[0m \u001b[32m━━━━━━━━━━━━━━━━━━━━\u001b[0m\u001b[37m\u001b[0m \u001b[1m0s\u001b[0m 1ms/step\n",
      "y_test_proba: (4461,)\n"
     ]
    },
    {
     "data": {
      "image/png": "[encoded data removed]",
      "text/plain": [
       "<Figure size 1000x800 with 2 Axes>"
      ]
     },
     "metadata": {},
     "output_type": "display_data"
    }
   ],
   "source": [
    "fig_, axes_   = plt.subplots(2, 1, figsize=(10, 8))\n",
    "axes = axes_.ravel()\n",
    "test_auc_val, alift = evaluate_model_on_test(estimator=mlp_pretrain, estimator_name=\"NeuralNetwork\", \n",
    "                       X_test=X_test, y_test=y_test, ax_lift=axes[0], ax_roc=axes[1])"
   ]
  },
  {
   "cell_type": "code",
   "execution_count": 11,
   "id": "ee4b9346",
   "metadata": {},
   "outputs": [
    {
     "name": "stdout",
     "output_type": "stream",
     "text": [
      "=== Test set performance summary ===\n",
      "Test AUC: 0.982, ALIFT: 0.103\n"
     ]
    }
   ],
   "source": [
    "print(\"=== Test set performance summary ===\")\n",
    "\n",
    "print(f\"Test AUC: {test_auc_val:.3f}, ALIFT: {alift:.3f}\")"
   ]
  },
  {
   "cell_type": "markdown",
   "id": "d05e1b4f",
   "metadata": {},
   "source": [
    "## Knowledge Extraction"
   ]
  },
  {
   "cell_type": "code",
   "execution_count": 120,
   "id": "6e3379b1",
   "metadata": {},
   "outputs": [],
   "source": [
    "import numpy as np\n",
    "import tensorflow as tf\n",
    "from tensorflow.keras.layers import Input, Dense\n",
    "from tensorflow.keras.models import Model\n",
    "from sklearn.tree import DecisionTreeClassifier, _tree\n",
    "\n",
    "class REMDExtractor:\n",
    "    def __init__(self, model, feature_names, max_depth=4, input_dim=None, threshold=0.5):\n",
    "        \"\"\"\n",
    "        model: tf.keras Sequential or Functional\n",
    "        feature_names: list of input feature names\n",
    "        max_depth: max depth for trees\n",
    "        input_dim: number of features if model.input undefined\n",
    "        threshold: cutoff for binary preds\n",
    "        \"\"\"\n",
    "        self.model = model\n",
    "        self.feature_names = feature_names\n",
    "        self.max_depth = max_depth\n",
    "        self.threshold = threshold\n",
    "\n",
    "        # Determine input_dim\n",
    "        if input_dim is None:\n",
    "            try:\n",
    "                input_dim = model.layers[0].input_shape[1]\n",
    "            except Exception:\n",
    "                raise ValueError(\"Provide input_dim when model.input is undefined.\")\n",
    "        self.input_dim = input_dim\n",
    "\n",
    "        # Build extraction sub-model with explicit Input\n",
    "        inp = Input(shape=(self.input_dim,), name='extraction_input')\n",
    "        x = inp\n",
    "        hidden_outputs = []\n",
    "        for idx, layer in enumerate(self.model.layers):\n",
    "            x = layer(x)\n",
    "            # capture hidden Dense layers (exclude final layer)\n",
    "            if isinstance(layer, Dense) and idx < len(self.model.layers) - 1:\n",
    "                hidden_outputs.append(x)\n",
    "        self.activation_model = Model(inputs=inp, outputs=hidden_outputs)\n",
    "\n",
    "    def get_activations(self, X):\n",
    "        \"\"\"Return activations for each hidden layer.\"\"\"\n",
    "        return self.activation_model.predict(X, verbose=0)\n",
    "\n",
    "    def binarize_preds(self, X):\n",
    "        \"\"\"Convert single-output model probabilities to binary labels.\"\"\"\n",
    "        probs = self.model.predict(X, verbose=0).reshape(-1)\n",
    "        return (probs >= self.threshold).astype(int)\n",
    "\n",
    "    def extract_tree_rules(self, tree, feature_labels):\n",
    "        \"\"\"Traverse a decision tree to extract IF–THEN rules.\"\"\"\n",
    "        tree_ = tree.tree_\n",
    "        rules = []\n",
    "\n",
    "        def recurse(node, conds):\n",
    "            if tree_.feature[node] != _tree.TREE_UNDEFINED:\n",
    "                idx = tree_.feature[node]\n",
    "                # Safely get feature name\n",
    "                try:\n",
    "                    name = feature_labels[idx]\n",
    "                except IndexError:\n",
    "                    name = f\"feature_{idx}\"\n",
    "                thr = tree_.threshold[node]\n",
    "                recurse(tree_.children_left[node], conds + [(name, '<=', thr)])\n",
    "                recurse(tree_.children_right[node], conds + [(name, '>', thr)])\n",
    "            else:\n",
    "                val = np.argmax(tree_.value[node])\n",
    "                rules.append((conds, val))\n",
    "\n",
    "        recurse(0, [])\n",
    "        text_rules = []\n",
    "        for conds, val in rules:\n",
    "            antecedent = ' & '.join(f\"{n} {op} {thr:.4f}\" for n, op, thr in conds)\n",
    "            text_rules.append({'if': antecedent, 'then': int(val)})\n",
    "        return text_rules\n",
    "\n",
    "    def train_tree(self, activations, targets):\n",
    "        \"\"\"Train a decision tree on activations and binary targets.\"\"\"\n",
    "        dt = DecisionTreeClassifier(max_depth=self.max_depth)\n",
    "        dt.fit(activations, targets)\n",
    "        return dt\n",
    "\n",
    "    def substitute_rules(self, tree, preds, layer_idx):\n",
    "        \"\"\"Extract rules from one layer's tree and update preds.\"\"\"\n",
    "        # Align feature labels to tree input dimension\n",
    "        n_feats = tree.n_features_in_\n",
    "        labels = [f\"h{layer_idx}_n{i}\" for i in range(n_feats)]\n",
    "        # Extract and keep only positive-class rules\n",
    "        rules = [r for r in self.extract_tree_rules(tree, labels) if r['then'] == 1]\n",
    "        # Update preds based on this tree\n",
    "        new_preds = tree.predict(self.current_activations[layer_idx])\n",
    "        return new_preds, rules\n",
    "\n",
    "    def translate_to_input(self, X, preds):\n",
    "        \"\"\"Train a final tree on original inputs to map preds to input features.\"\"\"\n",
    "        tree = self.train_tree(X, preds)\n",
    "        # Use sklearn's feature_names_in_ if available\n",
    "        try:\n",
    "            feature_labels = list(tree.feature_names_in_)\n",
    "        except AttributeError:\n",
    "            feature_labels = self.feature_names\n",
    "        # Extract rules and keep only positive-class ones\n",
    "        rules = self.extract_tree_rules(tree, feature_labels)\n",
    "        return [r for r in rules if r['then'] == 1]\n",
    "\n",
    "    def extract(self, X):\n",
    "        \"\"\"Full REM-D pipeline: predict → activations → backward extraction → input translation.\"\"\"\n",
    "        # Initial binary predictions\n",
    "        preds = self.binarize_preds(X)\n",
    "        # Hidden-layer activations\n",
    "        activations = self.get_activations(X)\n",
    "        self.current_activations = activations\n",
    "        rules = []\n",
    "        # Backward pass through hidden layers\n",
    "        for i in reversed(range(len(activations))):\n",
    "            tree = self.train_tree(activations[i], preds)\n",
    "            preds, rules = self.substitute_rules(tree, preds, layer_idx=i)\n",
    "        # Final translation to input-level rules\n",
    "        return self.translate_to_input(X, preds)\n",
    "\n"
   ]
  },
  {
   "cell_type": "code",
   "execution_count": 121,
   "id": "4abdf19c",
   "metadata": {},
   "outputs": [
    {
     "name": "stdout",
     "output_type": "stream",
     "text": [
      "<class 'pandas.core.frame.DataFrame'>\n",
      "RangeIndex: 4521 entries, 0 to 4520\n",
      "Data columns (total 17 columns):\n",
      " #   Column     Non-Null Count  Dtype \n",
      "---  ------     --------------  ----- \n",
      " 0   age        4521 non-null   int64 \n",
      " 1   job        4521 non-null   object\n",
      " 2   marital    4521 non-null   object\n",
      " 3   education  4521 non-null   object\n",
      " 4   default    4521 non-null   object\n",
      " 5   balance    4521 non-null   int64 \n",
      " 6   housing    4521 non-null   object\n",
      " 7   loan       4521 non-null   object\n",
      " 8   contact    4521 non-null   object\n",
      " 9   day        4521 non-null   int64 \n",
      " 10  month      4521 non-null   object\n",
      " 11  duration   4521 non-null   int64 \n",
      " 12  campaign   4521 non-null   int64 \n",
      " 13  pdays      4521 non-null   int64 \n",
      " 14  previous   4521 non-null   int64 \n",
      " 15  poutcome   4521 non-null   object\n",
      " 16  y          4521 non-null   object\n",
      "dtypes: int64(7), object(10)\n",
      "memory usage: 600.6+ KB\n"
     ]
    }
   ],
   "source": [
    "df_test.info()"
   ]
  },
  {
   "cell_type": "code",
   "execution_count": 122,
   "id": "5bf911f9",
   "metadata": {},
   "outputs": [],
   "source": [
    "feature_names = df_test.columns.tolist()\n",
    "feature_names.remove('y')"
   ]
  },
  {
   "cell_type": "code",
   "execution_count": 123,
   "id": "706c740b",
   "metadata": {},
   "outputs": [
    {
     "data": {
      "text/plain": [
       "['age',\n",
       " 'job',\n",
       " 'marital',\n",
       " 'education',\n",
       " 'default',\n",
       " 'balance',\n",
       " 'housing',\n",
       " 'loan',\n",
       " 'contact',\n",
       " 'day',\n",
       " 'month',\n",
       " 'duration',\n",
       " 'campaign',\n",
       " 'pdays',\n",
       " 'previous',\n",
       " 'poutcome']"
      ]
     },
     "execution_count": 123,
     "metadata": {},
     "output_type": "execute_result"
    }
   ],
   "source": [
    "feature_names"
   ]
  },
  {
   "cell_type": "code",
   "execution_count": 135,
   "id": "31a606e1",
   "metadata": {},
   "outputs": [],
   "source": [
    "extractor = REMDExtractor(\n",
    "    model=mlp_pretrain,\n",
    "    feature_names=feature_names,\n",
    "    max_depth=6,\n",
    "    input_dim=X_test.shape[1]  # only needed if mlp.input is undefined\n",
    ")"
   ]
  },
  {
   "cell_type": "code",
   "execution_count": 136,
   "id": "b1c9a4ef",
   "metadata": {},
   "outputs": [],
   "source": [
    "rules = extractor.extract(X_train)"
   ]
  },
  {
   "cell_type": "code",
   "execution_count": 137,
   "id": "5e44a1b5",
   "metadata": {},
   "outputs": [
    {
     "name": "stdout",
     "output_type": "stream",
     "text": [
      "IF cat__poutcome_success <= 0.5000 & num__duration <= 3.5144 & num__duration > 1.5899 & cat__poutcome_unknown <= 0.5000 & cat__education_tertiary > 0.5000 & num__day <= -0.2777 THEN class=1\n",
      "IF cat__poutcome_success <= 0.5000 & num__duration > 3.5144 & cat__education_tertiary <= 0.5000 & num__duration <= 6.7509 & cat__previous_category_0 <= 0.5000 & num__balance > -0.1825 THEN class=1\n",
      "IF cat__poutcome_success <= 0.5000 & num__duration > 3.5144 & cat__education_tertiary <= 0.5000 & num__duration > 6.7509 & cat__marital_married <= 0.5000 & cat__month_jan <= 0.5000 THEN class=1\n",
      "IF cat__poutcome_success <= 0.5000 & num__duration > 3.5144 & cat__education_tertiary <= 0.5000 & num__duration > 6.7509 & cat__marital_married > 0.5000 & num__duration > 9.5819 THEN class=1\n",
      "IF cat__poutcome_success <= 0.5000 & num__duration > 3.5144 & cat__education_tertiary > 0.5000 & num__duration <= 4.1108 & cat__marital_single <= 0.5000 & num__duration <= 3.5581 THEN class=1\n",
      "IF cat__poutcome_success <= 0.5000 & num__duration > 3.5144 & cat__education_tertiary > 0.5000 & num__duration <= 4.1108 & cat__marital_single > 0.5000 & cat__contact_unknown <= 0.5000 THEN class=1\n",
      "IF cat__poutcome_success <= 0.5000 & num__duration > 3.5144 & cat__education_tertiary > 0.5000 & num__duration > 4.1108 & num__balance <= 3.5913 & cat__age_category_middle-aged <= 0.5000 THEN class=1\n",
      "IF cat__poutcome_success <= 0.5000 & num__duration > 3.5144 & cat__education_tertiary > 0.5000 & num__duration > 4.1108 & num__balance <= 3.5913 & cat__age_category_middle-aged > 0.5000 THEN class=1\n",
      "IF cat__poutcome_success > 0.5000 & cat__month_sep <= 0.5000 & num__duration <= 0.5899 & cat__month_jun <= 0.5000 & cat__month_mar > 0.5000 & num__campaign <= 0.2357 THEN class=1\n",
      "IF cat__poutcome_success > 0.5000 & cat__month_sep <= 0.5000 & num__duration <= 0.5899 & cat__month_jun > 0.5000 & num__duration > -0.3643 & num__day <= -0.1575 THEN class=1\n",
      "IF cat__poutcome_success > 0.5000 & cat__month_sep <= 0.5000 & num__duration <= 0.5899 & cat__month_jun > 0.5000 & num__duration > -0.3643 & num__day > -0.1575 THEN class=1\n",
      "IF cat__poutcome_success > 0.5000 & cat__month_sep <= 0.5000 & num__duration > 0.5899 & num__duration <= 2.3613 & cat__job_management <= 0.5000 & cat__month_jun > 0.5000 THEN class=1\n",
      "IF cat__poutcome_success > 0.5000 & cat__month_sep <= 0.5000 & num__duration > 0.5899 & num__duration <= 2.3613 & cat__job_management > 0.5000 & cat__previous_category_>5 <= 0.5000 THEN class=1\n",
      "IF cat__poutcome_success > 0.5000 & cat__month_sep <= 0.5000 & num__duration > 0.5899 & num__duration > 2.3613 & cat__month_aug <= 0.5000 & num__duration <= 5.4408 THEN class=1\n",
      "IF cat__poutcome_success > 0.5000 & cat__month_sep <= 0.5000 & num__duration > 0.5899 & num__duration > 2.3613 & cat__month_aug > 0.5000 & cat__marital_divorced > 0.5000 THEN class=1\n",
      "IF cat__poutcome_success > 0.5000 & cat__month_sep > 0.5000 & num__duration <= -0.5194 & num__day > -0.6383 & num__duration > -0.6824 & cat__age_category_senior <= 0.5000 THEN class=1\n",
      "IF cat__poutcome_success > 0.5000 & cat__month_sep > 0.5000 & num__duration > -0.5194 & num__day <= 0.8041 & cat__previous_category_[4,5] <= 0.5000 & cat__contact_cellular <= 0.5000 THEN class=1\n",
      "IF cat__poutcome_success > 0.5000 & cat__month_sep > 0.5000 & num__duration > -0.5194 & num__day <= 0.8041 & cat__previous_category_[4,5] <= 0.5000 & cat__contact_cellular > 0.5000 THEN class=1\n",
      "IF cat__poutcome_success > 0.5000 & cat__month_sep > 0.5000 & num__duration > -0.5194 & num__day <= 0.8041 & cat__previous_category_[4,5] > 0.5000 & num__duration > 0.3156 THEN class=1\n",
      "IF cat__poutcome_success > 0.5000 & cat__month_sep > 0.5000 & num__duration > -0.5194 & num__day > 0.8041 & cat__housing_no <= 0.5000 THEN class=1\n",
      "IF cat__poutcome_success > 0.5000 & cat__month_sep > 0.5000 & num__duration > -0.5194 & num__day > 0.8041 & cat__housing_no > 0.5000 & num__duration <= -0.0622 THEN class=1\n"
     ]
    }
   ],
   "source": [
    "\n",
    "for r in rules:\n",
    "    print(f\"IF {r['if']} THEN class={r['then']}\")"
   ]
  },
  {
   "cell_type": "markdown",
   "id": "f9c2e76f",
   "metadata": {},
   "source": []
  },
  {
   "cell_type": "code",
   "execution_count": 140,
   "id": "11309821",
   "metadata": {},
   "outputs": [],
   "source": [
    "# TODO: Remove month and campaign features from the data\n",
    "# TODO: Integrate the preprocessing step with the model"
   ]
  },
  {
   "cell_type": "code",
   "execution_count": null,
   "id": "c94978e5",
   "metadata": {},
   "outputs": [],
   "source": []
  }
 ],
 "metadata": {
  "kernelspec": {
   "display_name": "Python_ML (.env)",
   "language": "python",
   "name": "machinelearningenvironment"
  },
  "language_info": {
   "codemirror_mode": {
    "name": "ipython",
    "version": 3
   },
   "file_extension": ".py",
   "mimetype": "text/x-python",
   "name": "python",
   "nbconvert_exporter": "python",
   "pygments_lexer": "ipython3",
   "version": "3.12.5"
  }
 },
 "nbformat": 4,
 "nbformat_minor": 5
}
