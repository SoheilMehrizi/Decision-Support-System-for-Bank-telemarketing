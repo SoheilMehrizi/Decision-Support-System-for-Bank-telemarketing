{
 "cells": [
  {
   "cell_type": "markdown",
   "metadata": {
    "vscode": {
     "languageId": "markdown"
    }
   },
   "source": [
    "# Data Mining\n",
    "\n",
    "This NoteBook is dedicated to:\n",
    "\n",
    "1. Data Cleaning and Preprocessing\n",
    "2. Train and evaluating 4 different data mining models to understand complex patterns within collected data\n",
    "\n",
    "the DM models as one of the critical components of a Decision support system will detect lying patterns and relations within data."
   ]
  },
  {
   "cell_type": "markdown",
   "metadata": {},
   "source": [
    "## Required Packages"
   ]
  },
  {
   "cell_type": "code",
   "execution_count": 69,
   "metadata": {},
   "outputs": [],
   "source": [
    "import sys\n",
    "\n",
    "sys.path.append(r\"h:\\Resume\\Projects\\DataScience\\Banking Telemarketing Decision Support System\\Project\")\n",
    "\n",
    "import pandas as pd\n",
    "import numpy as np\n",
    "\n",
    "import importlib\n",
    "\n",
    "from src.data_preprocessing import create_preprocessor, cleaning_pipeline_step\n",
    "\n",
    "import src.data_ingestion as load\n",
    "from src.models.model_selection import train_log_compare_models\n",
    "from configs.config_repository import ConfigRepository\n",
    "from src.models.model_repository import ModelRepository\n",
    "\n",
    "from src.models.model_utils import get_features_importance_df\n",
    "\n",
    "# from src.knowledge_extraction import extract_rules_from_tree, train_surrogate_model"
   ]
  },
  {
   "cell_type": "markdown",
   "metadata": {},
   "source": [
    "## Data Prepration"
   ]
  },
  {
   "cell_type": "markdown",
   "metadata": {},
   "source": [
    "### Loading the data"
   ]
  },
  {
   "cell_type": "code",
   "execution_count": 70,
   "metadata": {},
   "outputs": [
    {
     "name": "stdout",
     "output_type": "stream",
     "text": [
      "Dataset loaded successfully with 45211 rows and 17 columns.\n",
      "Dataset loaded successfully with 4521 rows and 17 columns.\n"
     ]
    }
   ],
   "source": [
    "df_train = load.load_csv_to_dataframe(file_path = '../data//raw/bank-full.csv')\n",
    "df_test = load.load_csv_to_dataframe(file_path = '../data/raw/bank.csv' )"
   ]
  },
  {
   "cell_type": "code",
   "execution_count": 71,
   "metadata": {},
   "outputs": [
    {
     "name": "stdout",
     "output_type": "stream",
     "text": [
      "<class 'pandas.core.frame.DataFrame'>\n",
      "RangeIndex: 45211 entries, 0 to 45210\n",
      "Data columns (total 17 columns):\n",
      " #   Column     Non-Null Count  Dtype \n",
      "---  ------     --------------  ----- \n",
      " 0   age        45211 non-null  int64 \n",
      " 1   job        45211 non-null  object\n",
      " 2   marital    45211 non-null  object\n",
      " 3   education  45211 non-null  object\n",
      " 4   default    45211 non-null  object\n",
      " 5   balance    45211 non-null  int64 \n",
      " 6   housing    45211 non-null  object\n",
      " 7   loan       45211 non-null  object\n",
      " 8   contact    45211 non-null  object\n",
      " 9   day        45211 non-null  int64 \n",
      " 10  month      45211 non-null  object\n",
      " 11  duration   45211 non-null  int64 \n",
      " 12  campaign   45211 non-null  int64 \n",
      " 13  pdays      45211 non-null  int64 \n",
      " 14  previous   45211 non-null  int64 \n",
      " 15  poutcome   45211 non-null  object\n",
      " 16  y          45211 non-null  object\n",
      "dtypes: int64(7), object(10)\n",
      "memory usage: 5.9+ MB\n"
     ]
    }
   ],
   "source": [
    "df_train.info()"
   ]
  },
  {
   "cell_type": "code",
   "execution_count": 72,
   "metadata": {},
   "outputs": [
    {
     "name": "stdout",
     "output_type": "stream",
     "text": [
      "<class 'pandas.core.frame.DataFrame'>\n",
      "RangeIndex: 4521 entries, 0 to 4520\n",
      "Data columns (total 17 columns):\n",
      " #   Column     Non-Null Count  Dtype \n",
      "---  ------     --------------  ----- \n",
      " 0   age        4521 non-null   int64 \n",
      " 1   job        4521 non-null   object\n",
      " 2   marital    4521 non-null   object\n",
      " 3   education  4521 non-null   object\n",
      " 4   default    4521 non-null   object\n",
      " 5   balance    4521 non-null   int64 \n",
      " 6   housing    4521 non-null   object\n",
      " 7   loan       4521 non-null   object\n",
      " 8   contact    4521 non-null   object\n",
      " 9   day        4521 non-null   int64 \n",
      " 10  month      4521 non-null   object\n",
      " 11  duration   4521 non-null   int64 \n",
      " 12  campaign   4521 non-null   int64 \n",
      " 13  pdays      4521 non-null   int64 \n",
      " 14  previous   4521 non-null   int64 \n",
      " 15  poutcome   4521 non-null   object\n",
      " 16  y          4521 non-null   object\n",
      "dtypes: int64(7), object(10)\n",
      "memory usage: 600.6+ KB\n"
     ]
    }
   ],
   "source": [
    "df_test.info()"
   ]
  },
  {
   "cell_type": "markdown",
   "metadata": {},
   "source": [
    "### Data Cleaning\n",
    "* Remove duplicate rows.\n",
    "* Handle missing values.\n",
    "* Correct textual inconsistencies\n",
    "* removing outliers"
   ]
  },
  {
   "cell_type": "code",
   "execution_count": 73,
   "metadata": {},
   "outputs": [
    {
     "name": "stdout",
     "output_type": "stream",
     "text": [
      "<class 'pandas.core.frame.DataFrame'>\n",
      "RangeIndex: 43836 entries, 0 to 43835\n",
      "Data columns (total 17 columns):\n",
      " #   Column     Non-Null Count  Dtype \n",
      "---  ------     --------------  ----- \n",
      " 0   age        43836 non-null  int64 \n",
      " 1   job        43836 non-null  object\n",
      " 2   marital    43836 non-null  object\n",
      " 3   education  43836 non-null  object\n",
      " 4   default    43836 non-null  object\n",
      " 5   balance    43836 non-null  int64 \n",
      " 6   housing    43836 non-null  object\n",
      " 7   loan       43836 non-null  object\n",
      " 8   contact    43836 non-null  object\n",
      " 9   day        43836 non-null  int64 \n",
      " 10  month      43836 non-null  object\n",
      " 11  duration   43836 non-null  int64 \n",
      " 12  campaign   43836 non-null  int64 \n",
      " 13  pdays      43836 non-null  int64 \n",
      " 14  previous   43836 non-null  int64 \n",
      " 15  poutcome   43836 non-null  object\n",
      " 16  y          43836 non-null  object\n",
      "dtypes: int64(7), object(10)\n",
      "memory usage: 5.7+ MB\n"
     ]
    }
   ],
   "source": [
    "df_train_cleaned = cleaning_pipeline_step(\n",
    "    df_train,\n",
    "    outlier_removal=True\n",
    ")\n",
    "\n",
    "df_train_cleaned.info()"
   ]
  },
  {
   "cell_type": "code",
   "execution_count": 74,
   "metadata": {},
   "outputs": [
    {
     "name": "stdout",
     "output_type": "stream",
     "text": [
      "<class 'pandas.core.frame.DataFrame'>\n",
      "RangeIndex: 4393 entries, 0 to 4392\n",
      "Data columns (total 17 columns):\n",
      " #   Column     Non-Null Count  Dtype \n",
      "---  ------     --------------  ----- \n",
      " 0   age        4393 non-null   int64 \n",
      " 1   job        4393 non-null   object\n",
      " 2   marital    4393 non-null   object\n",
      " 3   education  4393 non-null   object\n",
      " 4   default    4393 non-null   object\n",
      " 5   balance    4393 non-null   int64 \n",
      " 6   housing    4393 non-null   object\n",
      " 7   loan       4393 non-null   object\n",
      " 8   contact    4393 non-null   object\n",
      " 9   day        4393 non-null   int64 \n",
      " 10  month      4393 non-null   object\n",
      " 11  duration   4393 non-null   int64 \n",
      " 12  campaign   4393 non-null   int64 \n",
      " 13  pdays      4393 non-null   int64 \n",
      " 14  previous   4393 non-null   int64 \n",
      " 15  poutcome   4393 non-null   object\n",
      " 16  y          4393 non-null   object\n",
      "dtypes: int64(7), object(10)\n",
      "memory usage: 583.6+ KB\n"
     ]
    }
   ],
   "source": [
    "df_test_cleaned = cleaning_pipeline_step(\n",
    "    df_test,\n",
    "    outlier_removal=True\n",
    ")\n",
    "\n",
    "df_test_cleaned.info()"
   ]
  },
  {
   "cell_type": "markdown",
   "metadata": {},
   "source": [
    "### Seperating Xs and ys."
   ]
  },
  {
   "cell_type": "markdown",
   "metadata": {},
   "source": [
    "\n",
    "#### Loading configurations and data"
   ]
  },
  {
   "cell_type": "code",
   "execution_count": 75,
   "metadata": {},
   "outputs": [],
   "source": [
    "y_train = df_train_cleaned['y']\n",
    "X_train = df_train_cleaned.drop(columns=['y'])\n",
    " \n",
    "\n",
    "y_test = df_test_cleaned['y']\n",
    "X_test = df_test_cleaned.drop(columns=['y'])"
   ]
  },
  {
   "cell_type": "code",
   "execution_count": 76,
   "metadata": {},
   "outputs": [],
   "source": [
    "# get the name of columns\n",
    "cat_columns = X_train.select_dtypes(include='object').columns.tolist()\n",
    "num_columns = X_train.select_dtypes(include='number').columns.tolist()"
   ]
  },
  {
   "cell_type": "markdown",
   "metadata": {},
   "source": [
    "Test the config repository functionality"
   ]
  },
  {
   "cell_type": "code",
   "execution_count": 77,
   "metadata": {},
   "outputs": [],
   "source": [
    "cr = ConfigRepository(config_path=\"../configs/models_config.json\")"
   ]
  },
  {
   "cell_type": "markdown",
   "metadata": {},
   "source": [
    "#### Define The preprocessing pipeline"
   ]
  },
  {
   "cell_type": "code",
   "execution_count": 78,
   "metadata": {},
   "outputs": [],
   "source": [
    "\n",
    "preprocess_pipe = create_preprocessor(num_features=num_columns, \n",
    "                                      cat_features=cat_columns)"
   ]
  },
  {
   "cell_type": "markdown",
   "metadata": {},
   "source": [
    "Testing preprocessing pipeline functionality"
   ]
  },
  {
   "cell_type": "code",
   "execution_count": 79,
   "metadata": {},
   "outputs": [],
   "source": [
    "preprocessed_test = preprocess_pipe.fit_transform(X_test, y_test)"
   ]
  },
  {
   "cell_type": "code",
   "execution_count": 80,
   "metadata": {},
   "outputs": [
    {
     "data": {
      "text/plain": [
       "(4393, 51)"
      ]
     },
     "execution_count": 80,
     "metadata": {},
     "output_type": "execute_result"
    }
   ],
   "source": [
    "preprocessed_test.shape"
   ]
  },
  {
   "cell_type": "code",
   "execution_count": null,
   "metadata": {},
   "outputs": [
    {
     "name": "stdout",
     "output_type": "stream",
     "text": [
      "Trial 26 Complete [00h 00m 15s]\n",
      "val_auc: 0.9246830940246582\n",
      "\n",
      "Best val_auc So Far: 0.9276796579360962\n",
      "Total elapsed time: 00h 06m 07s\n",
      "\u001b[1m 93/283\u001b[0m \u001b[32m━━━━━━\u001b[0m\u001b[37m━━━━━━━━━━━━━━\u001b[0m \u001b[1m0s\u001b[0m 1ms/step"
     ]
    },
    {
     "name": "stderr",
     "output_type": "stream",
     "text": [
      "c:\\Users\\mehri\\AppData\\Local\\Programs\\Python\\Python312\\Lib\\site-packages\\keras\\src\\saving\\saving_lib.py:757: UserWarning: Skipping variable loading for optimizer 'adam', because it has 2 variables whereas the saved optimizer has 14 variables. \n",
      "  saveable.load_own_variables(weights_store.get(inner_path))\n"
     ]
    },
    {
     "name": "stdout",
     "output_type": "stream",
     "text": [
      "\u001b[1m283/283\u001b[0m \u001b[32m━━━━━━━━━━━━━━━━━━━━\u001b[0m\u001b[37m\u001b[0m \u001b[1m0s\u001b[0m 1ms/step\n",
      "\n",
      "Best Candidate's AUC: 0.9279\n",
      "Best hyperparameters: {'hidden_layers_idx': 1, 'dropout_rate': 0.3, 'learning_rate': 0.001, 'tuner/epochs': 2, 'tuner/initial_epoch': 0, 'tuner/bracket': 3, 'tuner/round': 0}\n"
     ]
    },
    {
     "data": {
      "text/html": [
       "<pre style=\"white-space:pre;overflow-x:auto;line-height:normal;font-family:Menlo,'DejaVu Sans Mono',consolas,'Courier New',monospace\"><span style=\"font-weight: bold\">Model: \"sequential\"</span>\n",
       "</pre>\n"
      ],
      "text/plain": [
       "\u001b[1mModel: \"sequential\"\u001b[0m\n"
      ]
     },
     "metadata": {},
     "output_type": "display_data"
    },
    {
     "data": {
      "text/html": [
       "<pre style=\"white-space:pre;overflow-x:auto;line-height:normal;font-family:Menlo,'DejaVu Sans Mono',consolas,'Courier New',monospace\">┏━━━━━━━━━━━━━━━━━━━━━━━━━━━━━━━━━┳━━━━━━━━━━━━━━━━━━━━━━━━┳━━━━━━━━━━━━━━━┓\n",
       "┃<span style=\"font-weight: bold\"> Layer (type)                    </span>┃<span style=\"font-weight: bold\"> Output Shape           </span>┃<span style=\"font-weight: bold\">       Param # </span>┃\n",
       "┡━━━━━━━━━━━━━━━━━━━━━━━━━━━━━━━━━╇━━━━━━━━━━━━━━━━━━━━━━━━╇━━━━━━━━━━━━━━━┩\n",
       "│ dense (<span style=\"color: #0087ff; text-decoration-color: #0087ff\">Dense</span>)                   │ (<span style=\"color: #00d7ff; text-decoration-color: #00d7ff\">None</span>, <span style=\"color: #00af00; text-decoration-color: #00af00\">128</span>)            │         <span style=\"color: #00af00; text-decoration-color: #00af00\">6,656</span> │\n",
       "├─────────────────────────────────┼────────────────────────┼───────────────┤\n",
       "│ dropout (<span style=\"color: #0087ff; text-decoration-color: #0087ff\">Dropout</span>)               │ (<span style=\"color: #00d7ff; text-decoration-color: #00d7ff\">None</span>, <span style=\"color: #00af00; text-decoration-color: #00af00\">128</span>)            │             <span style=\"color: #00af00; text-decoration-color: #00af00\">0</span> │\n",
       "├─────────────────────────────────┼────────────────────────┼───────────────┤\n",
       "│ dense_1 (<span style=\"color: #0087ff; text-decoration-color: #0087ff\">Dense</span>)                 │ (<span style=\"color: #00d7ff; text-decoration-color: #00d7ff\">None</span>, <span style=\"color: #00af00; text-decoration-color: #00af00\">64</span>)             │         <span style=\"color: #00af00; text-decoration-color: #00af00\">8,256</span> │\n",
       "├─────────────────────────────────┼────────────────────────┼───────────────┤\n",
       "│ dropout_1 (<span style=\"color: #0087ff; text-decoration-color: #0087ff\">Dropout</span>)             │ (<span style=\"color: #00d7ff; text-decoration-color: #00d7ff\">None</span>, <span style=\"color: #00af00; text-decoration-color: #00af00\">64</span>)             │             <span style=\"color: #00af00; text-decoration-color: #00af00\">0</span> │\n",
       "├─────────────────────────────────┼────────────────────────┼───────────────┤\n",
       "│ dense_2 (<span style=\"color: #0087ff; text-decoration-color: #0087ff\">Dense</span>)                 │ (<span style=\"color: #00d7ff; text-decoration-color: #00d7ff\">None</span>, <span style=\"color: #00af00; text-decoration-color: #00af00\">1</span>)              │            <span style=\"color: #00af00; text-decoration-color: #00af00\">65</span> │\n",
       "└─────────────────────────────────┴────────────────────────┴───────────────┘\n",
       "</pre>\n"
      ],
      "text/plain": [
       "┏━━━━━━━━━━━━━━━━━━━━━━━━━━━━━━━━━┳━━━━━━━━━━━━━━━━━━━━━━━━┳━━━━━━━━━━━━━━━┓\n",
       "┃\u001b[1m \u001b[0m\u001b[1mLayer (type)                   \u001b[0m\u001b[1m \u001b[0m┃\u001b[1m \u001b[0m\u001b[1mOutput Shape          \u001b[0m\u001b[1m \u001b[0m┃\u001b[1m \u001b[0m\u001b[1m      Param #\u001b[0m\u001b[1m \u001b[0m┃\n",
       "┡━━━━━━━━━━━━━━━━━━━━━━━━━━━━━━━━━╇━━━━━━━━━━━━━━━━━━━━━━━━╇━━━━━━━━━━━━━━━┩\n",
       "│ dense (\u001b[38;5;33mDense\u001b[0m)                   │ (\u001b[38;5;45mNone\u001b[0m, \u001b[38;5;34m128\u001b[0m)            │         \u001b[38;5;34m6,656\u001b[0m │\n",
       "├─────────────────────────────────┼────────────────────────┼───────────────┤\n",
       "│ dropout (\u001b[38;5;33mDropout\u001b[0m)               │ (\u001b[38;5;45mNone\u001b[0m, \u001b[38;5;34m128\u001b[0m)            │             \u001b[38;5;34m0\u001b[0m │\n",
       "├─────────────────────────────────┼────────────────────────┼───────────────┤\n",
       "│ dense_1 (\u001b[38;5;33mDense\u001b[0m)                 │ (\u001b[38;5;45mNone\u001b[0m, \u001b[38;5;34m64\u001b[0m)             │         \u001b[38;5;34m8,256\u001b[0m │\n",
       "├─────────────────────────────────┼────────────────────────┼───────────────┤\n",
       "│ dropout_1 (\u001b[38;5;33mDropout\u001b[0m)             │ (\u001b[38;5;45mNone\u001b[0m, \u001b[38;5;34m64\u001b[0m)             │             \u001b[38;5;34m0\u001b[0m │\n",
       "├─────────────────────────────────┼────────────────────────┼───────────────┤\n",
       "│ dense_2 (\u001b[38;5;33mDense\u001b[0m)                 │ (\u001b[38;5;45mNone\u001b[0m, \u001b[38;5;34m1\u001b[0m)              │            \u001b[38;5;34m65\u001b[0m │\n",
       "└─────────────────────────────────┴────────────────────────┴───────────────┘\n"
      ]
     },
     "metadata": {},
     "output_type": "display_data"
    },
    {
     "data": {
      "text/html": [
       "<pre style=\"white-space:pre;overflow-x:auto;line-height:normal;font-family:Menlo,'DejaVu Sans Mono',consolas,'Courier New',monospace\"><span style=\"font-weight: bold\"> Total params: </span><span style=\"color: #00af00; text-decoration-color: #00af00\">14,977</span> (58.50 KB)\n",
       "</pre>\n"
      ],
      "text/plain": [
       "\u001b[1m Total params: \u001b[0m\u001b[38;5;34m14,977\u001b[0m (58.50 KB)\n"
      ]
     },
     "metadata": {},
     "output_type": "display_data"
    },
    {
     "data": {
      "text/html": [
       "<pre style=\"white-space:pre;overflow-x:auto;line-height:normal;font-family:Menlo,'DejaVu Sans Mono',consolas,'Courier New',monospace\"><span style=\"font-weight: bold\"> Trainable params: </span><span style=\"color: #00af00; text-decoration-color: #00af00\">14,977</span> (58.50 KB)\n",
       "</pre>\n"
      ],
      "text/plain": [
       "\u001b[1m Trainable params: \u001b[0m\u001b[38;5;34m14,977\u001b[0m (58.50 KB)\n"
      ]
     },
     "metadata": {},
     "output_type": "display_data"
    },
    {
     "data": {
      "text/html": [
       "<pre style=\"white-space:pre;overflow-x:auto;line-height:normal;font-family:Menlo,'DejaVu Sans Mono',consolas,'Courier New',monospace\"><span style=\"font-weight: bold\"> Non-trainable params: </span><span style=\"color: #00af00; text-decoration-color: #00af00\">0</span> (0.00 B)\n",
       "</pre>\n"
      ],
      "text/plain": [
       "\u001b[1m Non-trainable params: \u001b[0m\u001b[38;5;34m0\u001b[0m (0.00 B)\n"
      ]
     },
     "metadata": {},
     "output_type": "display_data"
    },
    {
     "name": "stdout",
     "output_type": "stream",
     "text": [
      "***** Retrain the best Estimator on the full training set *****\n",
      "Epoch 1/50\n"
     ]
    },
    {
     "name": "stderr",
     "output_type": "stream",
     "text": [
      "c:\\Users\\mehri\\AppData\\Local\\Programs\\Python\\Python312\\Lib\\site-packages\\keras\\src\\layers\\core\\dense.py:87: UserWarning: Do not pass an `input_shape`/`input_dim` argument to a layer. When using Sequential models, prefer using an `Input(shape)` object as the first layer in the model instead.\n",
      "  super().__init__(activity_regularizer=activity_regularizer, **kwargs)\n"
     ]
    },
    {
     "name": "stdout",
     "output_type": "stream",
     "text": [
      "2496/2496 - 8s - 3ms/step - auc: 0.9153 - loss: 0.3632\n",
      "Epoch 2/50\n",
      "2496/2496 - 7s - 3ms/step - auc: 0.9307 - loss: 0.3225\n",
      "Epoch 3/50\n",
      "2496/2496 - 7s - 3ms/step - auc: 0.9358 - loss: 0.3078\n",
      "Epoch 4/50\n",
      "2496/2496 - 7s - 3ms/step - auc: 0.9405 - loss: 0.2948\n",
      "Epoch 5/50\n",
      "2496/2496 - 7s - 3ms/step - auc: 0.9429 - loss: 0.2865\n",
      "Epoch 6/50\n",
      "2496/2496 - 7s - 3ms/step - auc: 0.9453 - loss: 0.2794\n",
      "Epoch 7/50\n",
      "2496/2496 - 7s - 3ms/step - auc: 0.9462 - loss: 0.2762\n",
      "Epoch 8/50\n",
      "2496/2496 - 7s - 3ms/step - auc: 0.9484 - loss: 0.2698\n",
      "Epoch 9/50\n",
      "2496/2496 - 7s - 3ms/step - auc: 0.9493 - loss: 0.2667\n",
      "Epoch 10/50\n",
      "2496/2496 - 6s - 3ms/step - auc: 0.9505 - loss: 0.2624\n",
      "Epoch 11/50\n",
      "2496/2496 - 7s - 3ms/step - auc: 0.9520 - loss: 0.2586\n",
      "Epoch 12/50\n",
      "2496/2496 - 6s - 3ms/step - auc: 0.9529 - loss: 0.2553\n",
      "Epoch 13/50\n",
      "2496/2496 - 7s - 3ms/step - auc: 0.9538 - loss: 0.2525\n",
      "Epoch 14/50\n",
      "2496/2496 - 7s - 3ms/step - auc: 0.9548 - loss: 0.2498\n",
      "Epoch 15/50\n",
      "2496/2496 - 6s - 3ms/step - auc: 0.9550 - loss: 0.2485\n",
      "Epoch 16/50\n",
      "2496/2496 - 7s - 3ms/step - auc: 0.9557 - loss: 0.2451\n",
      "Epoch 17/50\n",
      "2496/2496 - 7s - 3ms/step - auc: 0.9564 - loss: 0.2435\n",
      "Epoch 18/50\n",
      "2496/2496 - 7s - 3ms/step - auc: 0.9571 - loss: 0.2416\n",
      "Epoch 19/50\n",
      "2496/2496 - 7s - 3ms/step - auc: 0.9578 - loss: 0.2401\n",
      "Epoch 20/50\n",
      "2496/2496 - 6s - 3ms/step - auc: 0.9580 - loss: 0.2390\n",
      "Epoch 21/50\n",
      "2496/2496 - 7s - 3ms/step - auc: 0.9586 - loss: 0.2375\n",
      "Epoch 22/50\n",
      "2496/2496 - 6s - 3ms/step - auc: 0.9585 - loss: 0.2377\n",
      "Epoch 23/50\n",
      "2496/2496 - 7s - 3ms/step - auc: 0.9587 - loss: 0.2349\n",
      "Epoch 24/50\n",
      "2496/2496 - 7s - 3ms/step - auc: 0.9592 - loss: 0.2342\n",
      "Epoch 25/50\n",
      "2496/2496 - 6s - 3ms/step - auc: 0.9600 - loss: 0.2315\n",
      "Epoch 26/50\n",
      "2496/2496 - 7s - 3ms/step - auc: 0.9600 - loss: 0.2314\n",
      "Epoch 27/50\n",
      "2496/2496 - 6s - 3ms/step - auc: 0.9602 - loss: 0.2317\n",
      "Epoch 28/50\n",
      "2496/2496 - 7s - 3ms/step - auc: 0.9606 - loss: 0.2298\n",
      "Epoch 29/50\n",
      "2496/2496 - 6s - 3ms/step - auc: 0.9613 - loss: 0.2273\n",
      "Epoch 30/50\n",
      "2496/2496 - 7s - 3ms/step - auc: 0.9610 - loss: 0.2281\n",
      "Epoch 31/50\n",
      "2496/2496 - 7s - 3ms/step - auc: 0.9611 - loss: 0.2271\n",
      "Epoch 32/50\n",
      "2496/2496 - 7s - 3ms/step - auc: 0.9623 - loss: 0.2246\n",
      "Epoch 33/50\n",
      "2496/2496 - 7s - 3ms/step - auc: 0.9618 - loss: 0.2241\n",
      "Epoch 34/50\n",
      "2496/2496 - 7s - 3ms/step - auc: 0.9627 - loss: 0.2221\n",
      "Epoch 35/50\n",
      "2496/2496 - 7s - 3ms/step - auc: 0.9630 - loss: 0.2215\n",
      "Epoch 36/50\n",
      "2496/2496 - 6s - 3ms/step - auc: 0.9626 - loss: 0.2216\n",
      "Epoch 37/50\n",
      "2496/2496 - 7s - 3ms/step - auc: 0.9636 - loss: 0.2196\n",
      "Epoch 38/50\n",
      "2496/2496 - 6s - 3ms/step - auc: 0.9634 - loss: 0.2192\n",
      "Epoch 39/50\n",
      "2496/2496 - 7s - 3ms/step - auc: 0.9631 - loss: 0.2209\n",
      "Epoch 40/50\n",
      "2496/2496 - 7s - 3ms/step - auc: 0.9636 - loss: 0.2195\n",
      "Epoch 41/50\n",
      "2496/2496 - 6s - 3ms/step - auc: 0.9636 - loss: 0.2187\n",
      "Epoch 42/50\n",
      "2496/2496 - 7s - 3ms/step - auc: 0.9643 - loss: 0.2161\n",
      "Epoch 43/50\n",
      "2496/2496 - 7s - 3ms/step - auc: 0.9652 - loss: 0.2147\n",
      "Epoch 44/50\n",
      "2496/2496 - 7s - 3ms/step - auc: 0.9645 - loss: 0.2159\n",
      "Epoch 45/50\n",
      "2496/2496 - 7s - 3ms/step - auc: 0.9649 - loss: 0.2150\n",
      "Epoch 46/50\n",
      "2496/2496 - 7s - 3ms/step - auc: 0.9646 - loss: 0.2149\n",
      "Epoch 47/50\n",
      "2496/2496 - 7s - 3ms/step - auc: 0.9650 - loss: 0.2132\n",
      "Epoch 48/50\n",
      "2496/2496 - 7s - 3ms/step - auc: 0.9651 - loss: 0.2140\n",
      "Epoch 49/50\n",
      "2496/2496 - 7s - 3ms/step - auc: 0.9660 - loss: 0.2114\n",
      "Epoch 50/50\n",
      "2496/2496 - 6s - 3ms/step - auc: 0.9658 - loss: 0.2108\n"
     ]
    },
    {
     "name": "stderr",
     "output_type": "stream",
     "text": [
      "2025/06/28 21:32:26 WARNING mlflow.models.model: Model logged without a signature and input example. Please set `input_example` parameter when logging the model to auto infer the model signature.\n",
      "Registered model 'MLP' already exists. Creating a new version of this model...\n",
      "Created version '3' of model 'MLP'.\n",
      "2025-06-28 21:32:26 — INFO — Evaluating NeuralNetwork on test set…\n"
     ]
    },
    {
     "name": "stdout",
     "output_type": "stream",
     "text": [
      "Model registered: MLP\n",
      "\u001b[1m142/142\u001b[0m \u001b[32m━━━━━━━━━━━━━━━━━━━━\u001b[0m\u001b[37m\u001b[0m \u001b[1m0s\u001b[0m 1ms/step\n"
     ]
    },
    {
     "name": "stderr",
     "output_type": "stream",
     "text": [
      "c:\\Users\\mehri\\AppData\\Local\\Programs\\Python\\Python312\\Lib\\site-packages\\imblearn\\pipeline.py:65: FutureWarning: This Pipeline instance is not fitted yet. Call 'fit' with appropriate arguments before using other methods such as transform, predict, etc. This will raise an error in 0.15 instead of the current warning.\n",
      "  warnings.warn(\n",
      "Models:  75%|███████▌  | 3/4 [1:22:45<26:54, 1614.32s/model]  2025-06-28 21:32:27 — INFO — Training SVC (4/4)…\n"
     ]
    },
    {
     "name": "stdout",
     "output_type": "stream",
     "text": [
      "n_iterations: 8\n",
      "n_required_iterations: 8\n",
      "n_possible_iterations: 8\n",
      "min_resources_: 20\n",
      "max_resources_: 45211\n",
      "aggressive_elimination: False\n",
      "factor: 3\n",
      "----------\n",
      "iter: 0\n",
      "n_candidates: 2260\n",
      "n_resources: 20\n",
      "Fitting 5 folds for each of 2260 candidates, totalling 11300 fits\n"
     ]
    },
    {
     "name": "stderr",
     "output_type": "stream",
     "text": [
      "c:\\Users\\mehri\\AppData\\Local\\Programs\\Python\\Python312\\Lib\\site-packages\\sklearn\\model_selection\\_validation.py:540: FitFailedWarning: \n",
      "4520 fits failed out of a total of 11300.\n",
      "The score on these train-test partitions for these parameters will be set to nan.\n",
      "If these failures are not expected, you can try to debug them by setting error_score='raise'.\n",
      "\n",
      "Below are more details about the failures:\n",
      "--------------------------------------------------------------------------------\n",
      "4520 fits failed with the following error:\n",
      "Traceback (most recent call last):\n",
      "  File \"c:\\Users\\mehri\\AppData\\Local\\Programs\\Python\\Python312\\Lib\\site-packages\\sklearn\\model_selection\\_validation.py\", line 888, in _fit_and_score\n",
      "    estimator.fit(X_train, y_train, **fit_params)\n",
      "  File \"c:\\Users\\mehri\\AppData\\Local\\Programs\\Python\\Python312\\Lib\\site-packages\\sklearn\\base.py\", line 1473, in wrapper\n",
      "    return fit_method(estimator, *args, **kwargs)\n",
      "           ^^^^^^^^^^^^^^^^^^^^^^^^^^^^^^^^^^^^^^\n",
      "  File \"c:\\Users\\mehri\\AppData\\Local\\Programs\\Python\\Python312\\Lib\\site-packages\\imblearn\\pipeline.py\", line 518, in fit\n",
      "    Xt, yt = self._fit(X, y, routed_params, raw_params=params)\n",
      "             ^^^^^^^^^^^^^^^^^^^^^^^^^^^^^^^^^^^^^^^^^^^^^^^^^\n",
      "  File \"c:\\Users\\mehri\\AppData\\Local\\Programs\\Python\\Python312\\Lib\\site-packages\\imblearn\\pipeline.py\", line 440, in _fit\n",
      "    X, y, fitted_transformer = fit_resample_one_cached(\n",
      "                               ^^^^^^^^^^^^^^^^^^^^^^^^\n",
      "  File \"c:\\Users\\mehri\\AppData\\Local\\Programs\\Python\\Python312\\Lib\\site-packages\\joblib\\memory.py\", line 312, in __call__\n",
      "    return self.func(*args, **kwargs)\n",
      "           ^^^^^^^^^^^^^^^^^^^^^^^^^^\n",
      "  File \"c:\\Users\\mehri\\AppData\\Local\\Programs\\Python\\Python312\\Lib\\site-packages\\imblearn\\pipeline.py\", line 1336, in _fit_resample_one\n",
      "    X_res, y_res = sampler.fit_resample(X, y, **params.get(\"fit_resample\", {}))\n",
      "                   ^^^^^^^^^^^^^^^^^^^^^^^^^^^^^^^^^^^^^^^^^^^^^^^^^^^^^^^^^^^^\n",
      "  File \"c:\\Users\\mehri\\AppData\\Local\\Programs\\Python\\Python312\\Lib\\site-packages\\imblearn\\base.py\", line 202, in fit_resample\n",
      "    return super().fit_resample(X, y, **params)\n",
      "           ^^^^^^^^^^^^^^^^^^^^^^^^^^^^^^^^^^^^\n",
      "  File \"c:\\Users\\mehri\\AppData\\Local\\Programs\\Python\\Python312\\Lib\\site-packages\\sklearn\\base.py\", line 1473, in wrapper\n",
      "    return fit_method(estimator, *args, **kwargs)\n",
      "           ^^^^^^^^^^^^^^^^^^^^^^^^^^^^^^^^^^^^^^\n",
      "  File \"c:\\Users\\mehri\\AppData\\Local\\Programs\\Python\\Python312\\Lib\\site-packages\\imblearn\\base.py\", line 101, in fit_resample\n",
      "    self.sampling_strategy_ = check_sampling_strategy(\n",
      "                              ^^^^^^^^^^^^^^^^^^^^^^^^\n",
      "  File \"c:\\Users\\mehri\\AppData\\Local\\Programs\\Python\\Python312\\Lib\\site-packages\\imblearn\\utils\\_validation.py\", line 537, in check_sampling_strategy\n",
      "    raise ValueError(\n",
      "ValueError: The target 'y' needs to have more than 1 class. Got 1 class instead\n",
      "\n",
      "  warnings.warn(some_fits_failed_message, FitFailedWarning)\n",
      "c:\\Users\\mehri\\AppData\\Local\\Programs\\Python\\Python312\\Lib\\site-packages\\sklearn\\model_selection\\_search.py:1103: UserWarning: One or more of the test scores are non-finite: [nan nan nan ... nan nan nan]\n",
      "  warnings.warn(\n",
      "c:\\Users\\mehri\\AppData\\Local\\Programs\\Python\\Python312\\Lib\\site-packages\\sklearn\\model_selection\\_search.py:1103: UserWarning: One or more of the train scores are non-finite: [nan nan nan ... nan nan nan]\n",
      "  warnings.warn(\n"
     ]
    },
    {
     "name": "stdout",
     "output_type": "stream",
     "text": [
      "----------\n",
      "iter: 1\n",
      "n_candidates: 754\n",
      "n_resources: 60\n",
      "Fitting 5 folds for each of 754 candidates, totalling 3770 fits\n"
     ]
    },
    {
     "name": "stderr",
     "output_type": "stream",
     "text": [
      "c:\\Users\\mehri\\AppData\\Local\\Programs\\Python\\Python312\\Lib\\site-packages\\sklearn\\model_selection\\_search.py:1103: UserWarning: One or more of the test scores are non-finite: [nan nan nan ... nan nan nan]\n",
      "  warnings.warn(\n",
      "c:\\Users\\mehri\\AppData\\Local\\Programs\\Python\\Python312\\Lib\\site-packages\\sklearn\\model_selection\\_search.py:1103: UserWarning: One or more of the train scores are non-finite: [       nan        nan        nan ... 0.95214136 0.97715437 0.97715437]\n",
      "  warnings.warn(\n"
     ]
    },
    {
     "name": "stdout",
     "output_type": "stream",
     "text": [
      "----------\n",
      "iter: 2\n",
      "n_candidates: 252\n",
      "n_resources: 180\n",
      "Fitting 5 folds for each of 252 candidates, totalling 1260 fits\n"
     ]
    },
    {
     "name": "stderr",
     "output_type": "stream",
     "text": [
      "c:\\Users\\mehri\\AppData\\Local\\Programs\\Python\\Python312\\Lib\\site-packages\\sklearn\\model_selection\\_search.py:1103: UserWarning: One or more of the test scores are non-finite: [       nan        nan        nan ... 0.86887543 0.82383376 0.82383376]\n",
      "  warnings.warn(\n",
      "c:\\Users\\mehri\\AppData\\Local\\Programs\\Python\\Python312\\Lib\\site-packages\\sklearn\\model_selection\\_search.py:1103: UserWarning: One or more of the train scores are non-finite: [       nan        nan        nan ... 0.89744853 0.92864075 0.92864075]\n",
      "  warnings.warn(\n"
     ]
    },
    {
     "name": "stdout",
     "output_type": "stream",
     "text": [
      "----------\n",
      "iter: 3\n",
      "n_candidates: 84\n",
      "n_resources: 540\n",
      "Fitting 5 folds for each of 84 candidates, totalling 420 fits\n"
     ]
    },
    {
     "name": "stderr",
     "output_type": "stream",
     "text": [
      "c:\\Users\\mehri\\AppData\\Local\\Programs\\Python\\Python312\\Lib\\site-packages\\sklearn\\model_selection\\_search.py:1103: UserWarning: One or more of the test scores are non-finite: [       nan        nan        nan ... 0.91749432 0.90316818 0.90346048]\n",
      "  warnings.warn(\n",
      "c:\\Users\\mehri\\AppData\\Local\\Programs\\Python\\Python312\\Lib\\site-packages\\sklearn\\model_selection\\_search.py:1103: UserWarning: One or more of the train scores are non-finite: [       nan        nan        nan ... 0.98082609 0.95751386 0.95569626]\n",
      "  warnings.warn(\n"
     ]
    },
    {
     "name": "stdout",
     "output_type": "stream",
     "text": [
      "----------\n",
      "iter: 4\n",
      "n_candidates: 28\n",
      "n_resources: 1620\n",
      "Fitting 5 folds for each of 28 candidates, totalling 140 fits\n"
     ]
    },
    {
     "name": "stderr",
     "output_type": "stream",
     "text": [
      "c:\\Users\\mehri\\AppData\\Local\\Programs\\Python\\Python312\\Lib\\site-packages\\sklearn\\model_selection\\_search.py:1103: UserWarning: One or more of the test scores are non-finite: [       nan        nan        nan ... 0.90030791 0.90043967 0.90031556]\n",
      "  warnings.warn(\n",
      "c:\\Users\\mehri\\AppData\\Local\\Programs\\Python\\Python312\\Lib\\site-packages\\sklearn\\model_selection\\_search.py:1103: UserWarning: One or more of the train scores are non-finite: [       nan        nan        nan ... 0.96014607 0.96149878 0.96285779]\n",
      "  warnings.warn(\n"
     ]
    },
    {
     "name": "stdout",
     "output_type": "stream",
     "text": [
      "----------\n",
      "iter: 5\n",
      "n_candidates: 10\n",
      "n_resources: 4860\n",
      "Fitting 5 folds for each of 10 candidates, totalling 50 fits\n"
     ]
    },
    {
     "name": "stderr",
     "output_type": "stream",
     "text": [
      "c:\\Users\\mehri\\AppData\\Local\\Programs\\Python\\Python312\\Lib\\site-packages\\sklearn\\model_selection\\_search.py:1103: UserWarning: One or more of the test scores are non-finite: [       nan        nan        nan ... 0.92007948 0.91922006 0.91767365]\n",
      "  warnings.warn(\n",
      "c:\\Users\\mehri\\AppData\\Local\\Programs\\Python\\Python312\\Lib\\site-packages\\sklearn\\model_selection\\_search.py:1103: UserWarning: One or more of the train scores are non-finite: [       nan        nan        nan ... 0.93972808 0.93665816 0.93214369]\n",
      "  warnings.warn(\n"
     ]
    },
    {
     "name": "stdout",
     "output_type": "stream",
     "text": [
      "----------\n",
      "iter: 6\n",
      "n_candidates: 4\n",
      "n_resources: 14580\n",
      "Fitting 5 folds for each of 4 candidates, totalling 20 fits\n"
     ]
    },
    {
     "name": "stderr",
     "output_type": "stream",
     "text": [
      "c:\\Users\\mehri\\AppData\\Local\\Programs\\Python\\Python312\\Lib\\site-packages\\sklearn\\model_selection\\_search.py:1103: UserWarning: One or more of the test scores are non-finite: [       nan        nan        nan ... 0.91675605 0.91838418 0.91725027]\n",
      "  warnings.warn(\n",
      "c:\\Users\\mehri\\AppData\\Local\\Programs\\Python\\Python312\\Lib\\site-packages\\sklearn\\model_selection\\_search.py:1103: UserWarning: One or more of the train scores are non-finite: [       nan        nan        nan ... 0.9305029  0.93626913 0.93239183]\n",
      "  warnings.warn(\n"
     ]
    },
    {
     "name": "stdout",
     "output_type": "stream",
     "text": [
      "----------\n",
      "iter: 7\n",
      "n_candidates: 2\n",
      "n_resources: 43740\n",
      "Fitting 5 folds for each of 2 candidates, totalling 10 fits\n"
     ]
    },
    {
     "name": "stderr",
     "output_type": "stream",
     "text": [
      "c:\\Users\\mehri\\AppData\\Local\\Programs\\Python\\Python312\\Lib\\site-packages\\sklearn\\model_selection\\_search.py:1103: UserWarning: One or more of the test scores are non-finite: [       nan        nan        nan ... 0.91725027 0.92604783 0.92629548]\n",
      "  warnings.warn(\n",
      "c:\\Users\\mehri\\AppData\\Local\\Programs\\Python\\Python312\\Lib\\site-packages\\sklearn\\model_selection\\_search.py:1103: UserWarning: One or more of the train scores are non-finite: [       nan        nan        nan ... 0.93239183 0.93372634 0.93458348]\n",
      "  warnings.warn(\n",
      "2025/06/28 23:58:34 WARNING mlflow.models.model: Model logged without a signature and input example. Please set `input_example` parameter when logging the model to auto infer the model signature.\n",
      "Successfully registered model 'BankMarketing_SVC'.\n",
      "Created version '1' of model 'BankMarketing_SVC'.\n",
      "2025-06-28 23:58:34 — INFO — Evaluating SVC on test set…\n"
     ]
    },
    {
     "name": "stdout",
     "output_type": "stream",
     "text": [
      "Model registered: BankMarketing_SVC\n"
     ]
    },
    {
     "name": "stderr",
     "output_type": "stream",
     "text": [
      "Models: 100%|██████████| 4/4 [3:49:01<00:00, 3435.36s/model]\n",
      "2025-06-28 23:58:43 — INFO — === Test set performance summary ===\n",
      "2025-06-28 23:58:43 — INFO — LogisticRegression    AUC=0.901  ALIFT=5.636\n",
      "2025-06-28 23:58:43 — INFO — RandomForest          AUC=0.986  ALIFT=8.678\n",
      "2025-06-28 23:58:43 — INFO — NeuralNetwork         AUC=0.976  ALIFT=8.250\n",
      "2025-06-28 23:58:43 — INFO — SVC                   AUC=0.929  ALIFT=5.883\n"
     ]
    },
    {
     "data": {
      "image/png": "[encoded data removed]",
      "text/plain": [
       "<Figure size 1000x800 with 8 Axes>"
      ]
     },
     "metadata": {},
     "output_type": "display_data"
    },
    {
     "data": {
      "text/plain": [
       "{'LogisticRegression': {'model': Pipeline(steps=[('preprocess',\n",
       "                   FunctionTransformer(func=<bound method Pipeline.transform of Pipeline(steps=[('cleaning', DataCleaningTransformer()),\n",
       "                  ('column_transformer',\n",
       "                   ColumnTransformer(transformers=[('num',\n",
       "                                                    Pipeline(steps=[('scaler',\n",
       "                                                                     StandardScaler())]),\n",
       "                                                    ['age', 'balance', 'day',\n",
       "                                                     'duration', 'campaign',\n",
       "                                                     'pdays', 'previous']),\n",
       "                                                   ('cat',\n",
       "                                                    Pipeline(steps=[('onehot',\n",
       "                                                                     OneHotEncoder(handle_unknown='ignore'))]),\n",
       "                                                    ['job', 'marital',\n",
       "                                                     'education', 'default',\n",
       "                                                     'housing', 'loan', 'contact',\n",
       "                                                     'month', 'poutcome'])]))])>)),\n",
       "                  ('clf',\n",
       "                   LogisticRegression(C=np.float64(0.08014246998577547),\n",
       "                                      random_state=42, solver='liblinear'))]),\n",
       "  'params': {'clf__C': np.float64(0.08014246998577547),\n",
       "   'clf__max_iter': 100,\n",
       "   'clf__penalty': 'l2',\n",
       "   'clf__solver': 'liblinear'},\n",
       "  'auc_train': {'cv_roc_auc': np.float64(0.9101423061163529)},\n",
       "  'auc_test': np.float64(0.9010575815738964),\n",
       "  'alift': np.float64(5.63634814429476)},\n",
       " 'RandomForest': {'model': Pipeline(steps=[('preprocess',\n",
       "                   FunctionTransformer(func=<bound method Pipeline.transform of Pipeline(steps=[('cleaning', DataCleaningTransformer()),\n",
       "                  ('column_transformer',\n",
       "                   ColumnTransformer(transformers=[('num',\n",
       "                                                    Pipeline(steps=[('scaler',\n",
       "                                                                     StandardScaler())]),\n",
       "                                                    ['age', 'balance', 'day',\n",
       "                                                     'duration', 'campaign',\n",
       "                                                     'pdays', 'previous']),\n",
       "                                                   ('cat',\n",
       "                                                    Pipeline(steps=[('onehot',\n",
       "                                                                     OneHotEncoder(handle_unknown='ignore'))]),\n",
       "                                                    ['job', 'marital',\n",
       "                                                     'education', 'default',\n",
       "                                                     'housing', 'loan', 'contact',\n",
       "                                                     'month', 'poutcome'])]))])>)),\n",
       "                  ('clf',\n",
       "                   RandomForestClassifier(class_weight='balanced', max_depth=19,\n",
       "                                          min_samples_leaf=6, min_samples_split=8,\n",
       "                                          n_estimators=260, random_state=42))]),\n",
       "  'params': {'clf__class_weight': 'balanced',\n",
       "   'clf__max_depth': 19,\n",
       "   'clf__min_samples_leaf': 6,\n",
       "   'clf__min_samples_split': 8,\n",
       "   'clf__n_estimators': 260},\n",
       "  'auc_train': {'cv_roc_auc': np.float64(0.9322342626138876)},\n",
       "  'auc_test': np.float64(0.9857538387715931),\n",
       "  'alift': np.float64(8.677543186180422)},\n",
       " 'NeuralNetwork': {'model': Pipeline(steps=[('preprocess',\n",
       "                   FunctionTransformer(func=<bound method Pipeline.transform of Pipeline(steps=[('cleaning', DataCleaningTransformer()),\n",
       "                  ('column_transformer',\n",
       "                   ColumnTransformer(transformers=[('num',\n",
       "                                                    Pipeline(steps=[('scaler',\n",
       "                                                                     StandardScaler())]),\n",
       "                                                    ['age', 'balance', 'day',\n",
       "                                                     'duration', 'campaign',\n",
       "                                                     'pdays', 'previous']),\n",
       "                                                   ('cat',\n",
       "                                                    Pipeline(steps=[('onehot',\n",
       "                                                                     OneHotEncoder(handle_unknown='ignore'))]),\n",
       "                                                    ['job', 'marital',\n",
       "                                                     'education', 'default',\n",
       "                                                     'housing', 'loan', 'contact',\n",
       "                                                     'month', 'poutcome'])]))])>)),\n",
       "                  ('clf', <Sequential name=sequential_1, built=True>)]),\n",
       "  'params': <keras_tuner.src.engine.hyperparameters.hyperparameters.HyperParameters at 0x2cdcc588620>,\n",
       "  'auc_train': np.float64(0.9278917346205611),\n",
       "  'auc_test': np.float64(0.976447216890595),\n",
       "  'alift': np.float64(8.24977697277716)},\n",
       " 'SVC': {'model': Pipeline(steps=[('preprocess',\n",
       "                   FunctionTransformer(func=<bound method Pipeline.transform of Pipeline(steps=[('cleaning', DataCleaningTransformer()),\n",
       "                  ('column_transformer',\n",
       "                   ColumnTransformer(transformers=[('num',\n",
       "                                                    Pipeline(steps=[('scaler',\n",
       "                                                                     StandardScaler())]),\n",
       "                                                    ['age', 'balance', 'day',\n",
       "                                                     'duration', 'campaign',\n",
       "                                                     'pdays', 'previous']),\n",
       "                                                   ('cat',\n",
       "                                                    Pipeline(steps=[('onehot',\n",
       "                                                                     OneHotEncoder(handle_unknown='ignore'))]),\n",
       "                                                    ['job', 'marital',\n",
       "                                                     'education', 'default',\n",
       "                                                     'housing', 'loan', 'contact',\n",
       "                                                     'month', 'poutcome'])]))])>)),\n",
       "                  ('clf',\n",
       "                   SVC(C=np.float64(0.0001231456223180122), degree=2,\n",
       "                       gamma=np.float64(3.6307247298858902), kernel='poly',\n",
       "                       probability=True, random_state=42))]),\n",
       "  'params': {'clf__C': np.float64(0.0001231456223180122),\n",
       "   'clf__degree': 2,\n",
       "   'clf__gamma': np.float64(3.6307247298858902),\n",
       "   'clf__kernel': 'poly'},\n",
       "  'auc_train': {'cv_roc_auc': np.float64(0.9262954835715215)},\n",
       "  'auc_test': np.float64(0.9285686180422265),\n",
       "  'alift': np.float64(5.883080126224015)}}"
      ]
     },
     "execution_count": 12,
     "metadata": {},
     "output_type": "execute_result"
    }
   ],
   "source": [
    "train_log_compare_models(\n",
    "                X_train=X_train,\n",
    "                y_train=y_train,\n",
    "                X_test=X_test,\n",
    "                y_test=y_test,\n",
    "                num_columns= num_columns,\n",
    "                cat_columns=cat_columns,\n",
    "                models_name=[\"LogisticRegression\",\n",
    "                            \"RandomForest\", \"NeuralNetwork\",\"SVC\"],\n",
    "                visualize = True,\n",
    "                )\n"
   ]
  },
  {
   "cell_type": "markdown",
   "metadata": {},
   "source": [
    "the best performance on the test set is belong to Random Forest Classifier which is an ensemble method .\n",
    "after that the multi layered preceptron.\n",
    "\n",
    "I'll use "
   ]
  },
  {
   "cell_type": "code",
   "execution_count": 14,
   "metadata": {},
   "outputs": [
    {
     "name": "stdout",
     "output_type": "stream",
     "text": [
      "Trial 27 Complete [00h 00m 16s]\n",
      "val_auc: 0.9185624718666077\n",
      "\n",
      "Best val_auc So Far: 0.9288508892059326\n",
      "Total elapsed time: 00h 06m 31s\n",
      "\u001b[1m 49/274\u001b[0m \u001b[32m━━━\u001b[0m\u001b[37m━━━━━━━━━━━━━━━━━\u001b[0m \u001b[1m0s\u001b[0m 1ms/step  "
     ]
    },
    {
     "name": "stderr",
     "output_type": "stream",
     "text": [
      "c:\\Users\\mehri\\AppData\\Local\\Programs\\Python\\Python312\\Lib\\site-packages\\keras\\src\\saving\\saving_lib.py:757: UserWarning: Skipping variable loading for optimizer 'adam', because it has 2 variables whereas the saved optimizer has 14 variables. \n",
      "  saveable.load_own_variables(weights_store.get(inner_path))\n"
     ]
    },
    {
     "name": "stdout",
     "output_type": "stream",
     "text": [
      "\u001b[1m274/274\u001b[0m \u001b[32m━━━━━━━━━━━━━━━━━━━━\u001b[0m\u001b[37m\u001b[0m \u001b[1m0s\u001b[0m 1ms/step\n",
      "\n",
      "Best Candidate's AUC: 0.9291\n",
      "Best hyperparameters: {'hidden_layers_idx': 0, 'dropout_rate': 0.3, 'learning_rate': 0.01, 'tuner/epochs': 2, 'tuner/initial_epoch': 0, 'tuner/bracket': 3, 'tuner/round': 0}\n"
     ]
    },
    {
     "data": {
      "text/html": [
       "<pre style=\"white-space:pre;overflow-x:auto;line-height:normal;font-family:Menlo,'DejaVu Sans Mono',consolas,'Courier New',monospace\"><span style=\"font-weight: bold\">Model: \"sequential\"</span>\n",
       "</pre>\n"
      ],
      "text/plain": [
       "\u001b[1mModel: \"sequential\"\u001b[0m\n"
      ]
     },
     "metadata": {},
     "output_type": "display_data"
    },
    {
     "data": {
      "text/html": [
       "<pre style=\"white-space:pre;overflow-x:auto;line-height:normal;font-family:Menlo,'DejaVu Sans Mono',consolas,'Courier New',monospace\">┏━━━━━━━━━━━━━━━━━━━━━━━━━━━━━━━━━┳━━━━━━━━━━━━━━━━━━━━━━━━┳━━━━━━━━━━━━━━━┓\n",
       "┃<span style=\"font-weight: bold\"> Layer (type)                    </span>┃<span style=\"font-weight: bold\"> Output Shape           </span>┃<span style=\"font-weight: bold\">       Param # </span>┃\n",
       "┡━━━━━━━━━━━━━━━━━━━━━━━━━━━━━━━━━╇━━━━━━━━━━━━━━━━━━━━━━━━╇━━━━━━━━━━━━━━━┩\n",
       "│ dense (<span style=\"color: #0087ff; text-decoration-color: #0087ff\">Dense</span>)                   │ (<span style=\"color: #00d7ff; text-decoration-color: #00d7ff\">None</span>, <span style=\"color: #00af00; text-decoration-color: #00af00\">64</span>)             │         <span style=\"color: #00af00; text-decoration-color: #00af00\">3,328</span> │\n",
       "├─────────────────────────────────┼────────────────────────┼───────────────┤\n",
       "│ dropout (<span style=\"color: #0087ff; text-decoration-color: #0087ff\">Dropout</span>)               │ (<span style=\"color: #00d7ff; text-decoration-color: #00d7ff\">None</span>, <span style=\"color: #00af00; text-decoration-color: #00af00\">64</span>)             │             <span style=\"color: #00af00; text-decoration-color: #00af00\">0</span> │\n",
       "├─────────────────────────────────┼────────────────────────┼───────────────┤\n",
       "│ dense_1 (<span style=\"color: #0087ff; text-decoration-color: #0087ff\">Dense</span>)                 │ (<span style=\"color: #00d7ff; text-decoration-color: #00d7ff\">None</span>, <span style=\"color: #00af00; text-decoration-color: #00af00\">32</span>)             │         <span style=\"color: #00af00; text-decoration-color: #00af00\">2,080</span> │\n",
       "├─────────────────────────────────┼────────────────────────┼───────────────┤\n",
       "│ dropout_1 (<span style=\"color: #0087ff; text-decoration-color: #0087ff\">Dropout</span>)             │ (<span style=\"color: #00d7ff; text-decoration-color: #00d7ff\">None</span>, <span style=\"color: #00af00; text-decoration-color: #00af00\">32</span>)             │             <span style=\"color: #00af00; text-decoration-color: #00af00\">0</span> │\n",
       "├─────────────────────────────────┼────────────────────────┼───────────────┤\n",
       "│ dense_2 (<span style=\"color: #0087ff; text-decoration-color: #0087ff\">Dense</span>)                 │ (<span style=\"color: #00d7ff; text-decoration-color: #00d7ff\">None</span>, <span style=\"color: #00af00; text-decoration-color: #00af00\">1</span>)              │            <span style=\"color: #00af00; text-decoration-color: #00af00\">33</span> │\n",
       "└─────────────────────────────────┴────────────────────────┴───────────────┘\n",
       "</pre>\n"
      ],
      "text/plain": [
       "┏━━━━━━━━━━━━━━━━━━━━━━━━━━━━━━━━━┳━━━━━━━━━━━━━━━━━━━━━━━━┳━━━━━━━━━━━━━━━┓\n",
       "┃\u001b[1m \u001b[0m\u001b[1mLayer (type)                   \u001b[0m\u001b[1m \u001b[0m┃\u001b[1m \u001b[0m\u001b[1mOutput Shape          \u001b[0m\u001b[1m \u001b[0m┃\u001b[1m \u001b[0m\u001b[1m      Param #\u001b[0m\u001b[1m \u001b[0m┃\n",
       "┡━━━━━━━━━━━━━━━━━━━━━━━━━━━━━━━━━╇━━━━━━━━━━━━━━━━━━━━━━━━╇━━━━━━━━━━━━━━━┩\n",
       "│ dense (\u001b[38;5;33mDense\u001b[0m)                   │ (\u001b[38;5;45mNone\u001b[0m, \u001b[38;5;34m64\u001b[0m)             │         \u001b[38;5;34m3,328\u001b[0m │\n",
       "├─────────────────────────────────┼────────────────────────┼───────────────┤\n",
       "│ dropout (\u001b[38;5;33mDropout\u001b[0m)               │ (\u001b[38;5;45mNone\u001b[0m, \u001b[38;5;34m64\u001b[0m)             │             \u001b[38;5;34m0\u001b[0m │\n",
       "├─────────────────────────────────┼────────────────────────┼───────────────┤\n",
       "│ dense_1 (\u001b[38;5;33mDense\u001b[0m)                 │ (\u001b[38;5;45mNone\u001b[0m, \u001b[38;5;34m32\u001b[0m)             │         \u001b[38;5;34m2,080\u001b[0m │\n",
       "├─────────────────────────────────┼────────────────────────┼───────────────┤\n",
       "│ dropout_1 (\u001b[38;5;33mDropout\u001b[0m)             │ (\u001b[38;5;45mNone\u001b[0m, \u001b[38;5;34m32\u001b[0m)             │             \u001b[38;5;34m0\u001b[0m │\n",
       "├─────────────────────────────────┼────────────────────────┼───────────────┤\n",
       "│ dense_2 (\u001b[38;5;33mDense\u001b[0m)                 │ (\u001b[38;5;45mNone\u001b[0m, \u001b[38;5;34m1\u001b[0m)              │            \u001b[38;5;34m33\u001b[0m │\n",
       "└─────────────────────────────────┴────────────────────────┴───────────────┘\n"
      ]
     },
     "metadata": {},
     "output_type": "display_data"
    },
    {
     "data": {
      "text/html": [
       "<pre style=\"white-space:pre;overflow-x:auto;line-height:normal;font-family:Menlo,'DejaVu Sans Mono',consolas,'Courier New',monospace\"><span style=\"font-weight: bold\"> Total params: </span><span style=\"color: #00af00; text-decoration-color: #00af00\">5,441</span> (21.25 KB)\n",
       "</pre>\n"
      ],
      "text/plain": [
       "\u001b[1m Total params: \u001b[0m\u001b[38;5;34m5,441\u001b[0m (21.25 KB)\n"
      ]
     },
     "metadata": {},
     "output_type": "display_data"
    },
    {
     "data": {
      "text/html": [
       "<pre style=\"white-space:pre;overflow-x:auto;line-height:normal;font-family:Menlo,'DejaVu Sans Mono',consolas,'Courier New',monospace\"><span style=\"font-weight: bold\"> Trainable params: </span><span style=\"color: #00af00; text-decoration-color: #00af00\">5,441</span> (21.25 KB)\n",
       "</pre>\n"
      ],
      "text/plain": [
       "\u001b[1m Trainable params: \u001b[0m\u001b[38;5;34m5,441\u001b[0m (21.25 KB)\n"
      ]
     },
     "metadata": {},
     "output_type": "display_data"
    },
    {
     "data": {
      "text/html": [
       "<pre style=\"white-space:pre;overflow-x:auto;line-height:normal;font-family:Menlo,'DejaVu Sans Mono',consolas,'Courier New',monospace\"><span style=\"font-weight: bold\"> Non-trainable params: </span><span style=\"color: #00af00; text-decoration-color: #00af00\">0</span> (0.00 B)\n",
       "</pre>\n"
      ],
      "text/plain": [
       "\u001b[1m Non-trainable params: \u001b[0m\u001b[38;5;34m0\u001b[0m (0.00 B)\n"
      ]
     },
     "metadata": {},
     "output_type": "display_data"
    },
    {
     "name": "stdout",
     "output_type": "stream",
     "text": [
      "***** Retrain the best Estimator on the full training set *****\n",
      "Epoch 1/50\n"
     ]
    },
    {
     "name": "stderr",
     "output_type": "stream",
     "text": [
      "c:\\Users\\mehri\\AppData\\Local\\Programs\\Python\\Python312\\Lib\\site-packages\\keras\\src\\layers\\core\\dense.py:87: UserWarning: Do not pass an `input_shape`/`input_dim` argument to a layer. When using Sequential models, prefer using an `Input(shape)` object as the first layer in the model instead.\n",
      "  super().__init__(activity_regularizer=activity_regularizer, **kwargs)\n"
     ]
    },
    {
     "name": "stdout",
     "output_type": "stream",
     "text": [
      "2425/2425 - 8s - 3ms/step - auc: 0.9143 - loss: 0.3677\n",
      "Epoch 2/50\n",
      "2425/2425 - 7s - 3ms/step - auc: 0.9247 - loss: 0.3400\n",
      "Epoch 3/50\n",
      "2425/2425 - 6s - 3ms/step - auc: 0.9285 - loss: 0.3306\n",
      "Epoch 4/50\n",
      "2425/2425 - 7s - 3ms/step - auc: 0.9302 - loss: 0.3262\n",
      "Epoch 5/50\n",
      "2425/2425 - 6s - 3ms/step - auc: 0.9311 - loss: 0.3225\n",
      "Epoch 6/50\n",
      "2425/2425 - 6s - 3ms/step - auc: 0.9326 - loss: 0.3182\n",
      "Epoch 7/50\n",
      "2425/2425 - 6s - 3ms/step - auc: 0.9347 - loss: 0.3135\n",
      "Epoch 8/50\n",
      "2425/2425 - 7s - 3ms/step - auc: 0.9349 - loss: 0.3123\n",
      "Epoch 9/50\n",
      "2425/2425 - 7s - 3ms/step - auc: 0.9348 - loss: 0.3106\n",
      "Epoch 10/50\n",
      "2425/2425 - 6s - 3ms/step - auc: 0.9353 - loss: 0.3097\n",
      "Epoch 11/50\n",
      "2425/2425 - 6s - 3ms/step - auc: 0.9359 - loss: 0.3070\n",
      "Epoch 12/50\n",
      "2425/2425 - 7s - 3ms/step - auc: 0.9367 - loss: 0.3048\n",
      "Epoch 13/50\n",
      "2425/2425 - 7s - 3ms/step - auc: 0.9363 - loss: 0.3047\n",
      "Epoch 14/50\n",
      "2425/2425 - 6s - 3ms/step - auc: 0.9370 - loss: 0.3028\n",
      "Epoch 15/50\n",
      "2425/2425 - 7s - 3ms/step - auc: 0.9382 - loss: 0.2996\n",
      "Epoch 16/50\n",
      "2425/2425 - 6s - 3ms/step - auc: 0.9380 - loss: 0.3000\n",
      "Epoch 17/50\n",
      "2425/2425 - 7s - 3ms/step - auc: 0.9383 - loss: 0.2986\n",
      "Epoch 18/50\n",
      "2425/2425 - 7s - 3ms/step - auc: 0.9387 - loss: 0.2955\n",
      "Epoch 19/50\n",
      "2425/2425 - 6s - 3ms/step - auc: 0.9391 - loss: 0.2958\n",
      "Epoch 20/50\n",
      "2425/2425 - 7s - 3ms/step - auc: 0.9398 - loss: 0.2932\n",
      "Epoch 21/50\n",
      "2425/2425 - 6s - 3ms/step - auc: 0.9390 - loss: 0.2961\n",
      "Epoch 22/50\n",
      "2425/2425 - 7s - 3ms/step - auc: 0.9391 - loss: 0.2955\n",
      "Epoch 23/50\n",
      "2425/2425 - 6s - 3ms/step - auc: 0.9399 - loss: 0.2921\n",
      "Epoch 24/50\n",
      "2425/2425 - 6s - 3ms/step - auc: 0.9398 - loss: 0.2922\n",
      "Epoch 25/50\n",
      "2425/2425 - 6s - 3ms/step - auc: 0.9400 - loss: 0.2920\n",
      "Epoch 26/50\n",
      "2425/2425 - 7s - 3ms/step - auc: 0.9403 - loss: 0.2921\n",
      "Epoch 27/50\n",
      "2425/2425 - 7s - 3ms/step - auc: 0.9408 - loss: 0.2905\n",
      "Epoch 28/50\n",
      "2425/2425 - 6s - 3ms/step - auc: 0.9408 - loss: 0.2895\n",
      "Epoch 29/50\n",
      "2425/2425 - 6s - 3ms/step - auc: 0.9403 - loss: 0.2901\n",
      "Epoch 30/50\n",
      "2425/2425 - 7s - 3ms/step - auc: 0.9404 - loss: 0.2895\n",
      "Epoch 31/50\n",
      "2425/2425 - 6s - 3ms/step - auc: 0.9405 - loss: 0.2880\n",
      "Epoch 32/50\n",
      "2425/2425 - 7s - 3ms/step - auc: 0.9418 - loss: 0.2865\n",
      "Epoch 33/50\n",
      "2425/2425 - 6s - 3ms/step - auc: 0.9411 - loss: 0.2884\n",
      "Epoch 34/50\n",
      "2425/2425 - 6s - 3ms/step - auc: 0.9419 - loss: 0.2878\n",
      "Epoch 35/50\n",
      "2425/2425 - 6s - 3ms/step - auc: 0.9414 - loss: 0.2884\n",
      "Epoch 36/50\n",
      "2425/2425 - 6s - 3ms/step - auc: 0.9418 - loss: 0.2868\n",
      "Epoch 37/50\n",
      "2425/2425 - 7s - 3ms/step - auc: 0.9422 - loss: 0.2834\n",
      "Epoch 38/50\n",
      "2425/2425 - 6s - 3ms/step - auc: 0.9418 - loss: 0.2854\n",
      "Epoch 39/50\n",
      "2425/2425 - 7s - 3ms/step - auc: 0.9409 - loss: 0.2865\n",
      "Epoch 40/50\n",
      "2425/2425 - 6s - 3ms/step - auc: 0.9412 - loss: 0.2860\n",
      "Epoch 41/50\n",
      "2425/2425 - 7s - 3ms/step - auc: 0.9412 - loss: 0.2866\n",
      "Epoch 42/50\n",
      "2425/2425 - 6s - 3ms/step - auc: 0.9425 - loss: 0.2834\n",
      "Epoch 43/50\n",
      "2425/2425 - 6s - 3ms/step - auc: 0.9430 - loss: 0.2825\n",
      "Epoch 44/50\n",
      "2425/2425 - 7s - 3ms/step - auc: 0.9414 - loss: 0.2857\n",
      "Epoch 45/50\n",
      "2425/2425 - 6s - 3ms/step - auc: 0.9420 - loss: 0.2834\n",
      "Epoch 46/50\n",
      "2425/2425 - 6s - 3ms/step - auc: 0.9431 - loss: 0.2809\n",
      "Epoch 47/50\n",
      "2425/2425 - 7s - 3ms/step - auc: 0.9423 - loss: 0.2836\n",
      "Epoch 48/50\n",
      "2425/2425 - 6s - 3ms/step - auc: 0.9420 - loss: 0.2808\n",
      "Epoch 49/50\n",
      "2425/2425 - 7s - 3ms/step - auc: 0.9420 - loss: 0.2837\n",
      "Epoch 50/50\n",
      "2425/2425 - 7s - 3ms/step - auc: 0.9433 - loss: 0.2795\n"
     ]
    },
    {
     "name": "stderr",
     "output_type": "stream",
     "text": [
      "2025/07/02 15:40:20 WARNING mlflow.models.model: Model logged without a signature and input example. Please set `input_example` parameter when logging the model to auto infer the model signature.\n",
      "Registered model 'MLP' already exists. Creating a new version of this model...\n",
      "Created version '2' of model 'MLP'.\n",
      "2025-07-02 15:40:20 — INFO — Evaluating NeuralNetwork on test set…\n"
     ]
    },
    {
     "name": "stdout",
     "output_type": "stream",
     "text": [
      "Model registered: MLP\n",
      "\u001b[1m138/138\u001b[0m \u001b[32m━━━━━━━━━━━━━━━━━━━━\u001b[0m\u001b[37m\u001b[0m \u001b[1m0s\u001b[0m 2ms/step\n"
     ]
    },
    {
     "name": "stderr",
     "output_type": "stream",
     "text": [
      "c:\\Users\\mehri\\AppData\\Local\\Programs\\Python\\Python312\\Lib\\site-packages\\imblearn\\pipeline.py:65: FutureWarning: This Pipeline instance is not fitted yet. Call 'fit' with appropriate arguments before using other methods such as transform, predict, etc. This will raise an error in 0.15 instead of the current warning.\n",
      "  warnings.warn(\n",
      "Models: 100%|██████████| 2/2 [1:42:37<00:00, 3078.78s/model]  \n",
      "2025-07-02 15:40:21 — INFO — === Test set performance summary ===\n",
      "2025-07-02 15:40:21 — INFO — RandomForest          AUC=0.985  ALIFT=8.786\n",
      "2025-07-02 15:40:21 — INFO — NeuralNetwork         AUC=0.950  ALIFT=7.484\n"
     ]
    },
    {
     "data": {
      "image/png": "[encoded data removed]",
      "text/plain": [
       "<Figure size 1000x800 with 4 Axes>"
      ]
     },
     "metadata": {},
     "output_type": "display_data"
    },
    {
     "data": {
      "text/plain": [
       "{'RandomForest': {'model': Pipeline(steps=[('preprocess',\n",
       "                   ColumnTransformer(transformers=[('num',\n",
       "                                                    Pipeline(steps=[('scaler',\n",
       "                                                                     StandardScaler())]),\n",
       "                                                    ['age', 'balance', 'day',\n",
       "                                                     'duration', 'campaign',\n",
       "                                                     'pdays', 'previous']),\n",
       "                                                   ('cat',\n",
       "                                                    Pipeline(steps=[('onehot',\n",
       "                                                                     OneHotEncoder(handle_unknown='ignore'))]),\n",
       "                                                    ['job', 'marital',\n",
       "                                                     'education', 'default',\n",
       "                                                     'housing', 'loan', 'contact',\n",
       "                                                     'month', 'poutcome'])])),\n",
       "                  ('clf',\n",
       "                   RandomForestClassifier(class_weight='balanced', max_depth=18,\n",
       "                                          min_samples_leaf=4,\n",
       "                                          min_samples_split=18, n_estimators=277,\n",
       "                                          random_state=42))]),\n",
       "  'params': {'clf__class_weight': 'balanced',\n",
       "   'clf__max_depth': 18,\n",
       "   'clf__min_samples_leaf': 4,\n",
       "   'clf__min_samples_split': 18,\n",
       "   'clf__n_estimators': 277},\n",
       "  'auc_train': {'cv_roc_auc': np.float64(0.9310184714338006)},\n",
       "  'auc_test': np.float64(0.984984330850244),\n",
       "  'alift': np.float64(8.786)},\n",
       " 'NeuralNetwork': {'model': Pipeline(steps=[('preprocess',\n",
       "                   ColumnTransformer(transformers=[('num',\n",
       "                                                    Pipeline(steps=[('scaler',\n",
       "                                                                     StandardScaler())]),\n",
       "                                                    ['age', 'balance', 'day',\n",
       "                                                     'duration', 'campaign',\n",
       "                                                     'pdays', 'previous']),\n",
       "                                                   ('cat',\n",
       "                                                    Pipeline(steps=[('onehot',\n",
       "                                                                     OneHotEncoder(handle_unknown='ignore'))]),\n",
       "                                                    ['job', 'marital',\n",
       "                                                     'education', 'default',\n",
       "                                                     'housing', 'loan', 'contact',\n",
       "                                                     'month', 'poutcome'])])),\n",
       "                  ('clf', <Sequential name=sequential_1, built=True>)]),\n",
       "  'params': <keras_tuner.src.engine.hyperparameters.hyperparameters.HyperParameters at 0x2c495362db0>,\n",
       "  'auc_train': np.float64(0.9290672046309932),\n",
       "  'auc_test': np.float64(0.9503318777292575),\n",
       "  'alift': np.float64(7.48437037037037)}}"
      ]
     },
     "execution_count": 14,
     "metadata": {},
     "output_type": "execute_result"
    }
   ],
   "source": [
    "train_log_compare_models(\n",
    "                X_train=X_train,\n",
    "                y_train=y_train,\n",
    "                X_test=X_test,\n",
    "                y_test=y_test,\n",
    "                num_columns= num_columns,\n",
    "                cat_columns=cat_columns,\n",
    "                models_name=[\"RandomForest\", \"NeuralNetwork\"],\n",
    "                visualize = True,\n",
    "                )\n"
   ]
  },
  {
   "cell_type": "markdown",
   "metadata": {},
   "source": [
    "### Feature Selection"
   ]
  },
  {
   "cell_type": "code",
   "execution_count": 81,
   "metadata": {},
   "outputs": [
    {
     "data": {
      "text/plain": [
       "[<RegisteredModel: aliases={}, creation_timestamp=1751142514114, description=None, last_updated_timestamp=1751142514139, latest_versions=[<ModelVersion: aliases=[], creation_timestamp=1751142514139, current_stage='None', description=None, last_updated_timestamp=1751142514139, name='BankMarketing_SVC', run_id='3b0252d42e0e4f6fa182f01d707cd9c6', run_link=None, source=('file:///h:/Resume/Projects/DataScience/Banking Telemarketing Decision '\n",
       "  'Support '\n",
       "  'System/Project/notebooks/../src/models/mlruns/636029484244639439/3b0252d42e0e4f6fa182f01d707cd9c6/artifacts/svm_model'), status='READY', status_message=None, tags={}, user_id=None, version=1>], name='BankMarketing_SVC', tags={}>,\n",
       " <RegisteredModel: aliases={}, creation_timestamp=1751092804033, description=None, last_updated_timestamp=1751129527351, latest_versions=[<ModelVersion: aliases=[], creation_timestamp=1751129527351, current_stage='None', description=None, last_updated_timestamp=1751129527351, name='LogReg', run_id='f59082006454451497359fff541ba645', run_link=None, source=('file:///h:/Resume/Projects/DataScience/Banking Telemarketing Decision '\n",
       "  'Support '\n",
       "  'System/Project/notebooks/../src/models/mlruns/636029484244639439/f59082006454451497359fff541ba645/artifacts/logistic_regression_model'), status='READY', status_message=None, tags={}, user_id=None, version=3>], name='LogReg', tags={}>,\n",
       " <RegisteredModel: aliases={}, creation_timestamp=1751097243412, description=None, last_updated_timestamp=1751458220824, latest_versions=[<ModelVersion: aliases=[], creation_timestamp=1751458220824, current_stage='None', description=None, last_updated_timestamp=1751458220824, name='MLP', run_id='25cbc876b3544479aa65105369d9f7ff', run_link=None, source=('file:///h:/Resume/Projects/DataScience/Banking Telemarketing Decision '\n",
       "  'Support '\n",
       "  'System/Project/notebooks/../src/models/mlruns/955962306511703283/25cbc876b3544479aa65105369d9f7ff/artifacts/MLP'), status='READY', status_message=None, tags={}, user_id=None, version=2>], name='MLP', tags={}>,\n",
       " <RegisteredModel: aliases={}, creation_timestamp=1751096310836, description=None, last_updated_timestamp=1751457478797, latest_versions=[<ModelVersion: aliases=[], creation_timestamp=1751457478797, current_stage='None', description=None, last_updated_timestamp=1751457478797, name='Random_Forest', run_id='540e69bbb1ab4733b3d0b551f90e673b', run_link=None, source=('file:///h:/Resume/Projects/DataScience/Banking Telemarketing Decision '\n",
       "  'Support '\n",
       "  'System/Project/notebooks/../src/models/mlruns/636029484244639439/540e69bbb1ab4733b3d0b551f90e673b/artifacts/random_forest_model'), status='READY', status_message=None, tags={}, user_id=None, version=2>], name='Random_Forest', tags={}>]"
      ]
     },
     "execution_count": 81,
     "metadata": {},
     "output_type": "execute_result"
    }
   ],
   "source": [
    "\n",
    "model_repo = ModelRepository()\n",
    "\n",
    "model_repo.list_registered_models()"
   ]
  },
  {
   "cell_type": "code",
   "execution_count": 82,
   "metadata": {},
   "outputs": [],
   "source": [
    "RF_pretrained = model_repo.load_model(registered_name='Random_Forest')\n",
    "MLP_pretrained = model_repo.load_model(registered_name='MLP')\n"
   ]
  },
  {
   "cell_type": "code",
   "execution_count": 83,
   "metadata": {},
   "outputs": [],
   "source": [
    "RandomForestClassifier = RF_pretrained.named_steps['clf']"
   ]
  },
  {
   "cell_type": "code",
   "execution_count": 84,
   "metadata": {},
   "outputs": [],
   "source": [
    "MLP_Classifier = MLP_pretrained.named_steps['clf']"
   ]
  },
  {
   "cell_type": "code",
   "execution_count": 85,
   "metadata": {},
   "outputs": [],
   "source": [
    "\n",
    "original_features_name = X_train.columns.to_list()\n",
    "df_feature_importance= get_features_importance_df(RFpipeline=RF_pretrained, original_features_name=original_features_name)"
   ]
  },
  {
   "cell_type": "code",
   "execution_count": 86,
   "metadata": {},
   "outputs": [
    {
     "data": {
      "text/html": [
       "<div>\n",
       "<style scoped>\n",
       "    .dataframe tbody tr th:only-of-type {\n",
       "        vertical-align: middle;\n",
       "    }\n",
       "\n",
       "    .dataframe tbody tr th {\n",
       "        vertical-align: top;\n",
       "    }\n",
       "\n",
       "    .dataframe thead th {\n",
       "        text-align: right;\n",
       "    }\n",
       "</style>\n",
       "<table border=\"1\" class=\"dataframe\">\n",
       "  <thead>\n",
       "    <tr style=\"text-align: right;\">\n",
       "      <th></th>\n",
       "      <th>features</th>\n",
       "      <th>importance</th>\n",
       "    </tr>\n",
       "  </thead>\n",
       "  <tbody>\n",
       "    <tr>\n",
       "      <th>11</th>\n",
       "      <td>duration</td>\n",
       "      <td>0.43</td>\n",
       "    </tr>\n",
       "    <tr>\n",
       "      <th>10</th>\n",
       "      <td>month</td>\n",
       "      <td>0.11</td>\n",
       "    </tr>\n",
       "    <tr>\n",
       "      <th>15</th>\n",
       "      <td>poutcome</td>\n",
       "      <td>0.08</td>\n",
       "    </tr>\n",
       "    <tr>\n",
       "      <th>8</th>\n",
       "      <td>contact</td>\n",
       "      <td>0.06</td>\n",
       "    </tr>\n",
       "    <tr>\n",
       "      <th>0</th>\n",
       "      <td>age</td>\n",
       "      <td>0.05</td>\n",
       "    </tr>\n",
       "    <tr>\n",
       "      <th>5</th>\n",
       "      <td>balance</td>\n",
       "      <td>0.04</td>\n",
       "    </tr>\n",
       "    <tr>\n",
       "      <th>6</th>\n",
       "      <td>housing</td>\n",
       "      <td>0.04</td>\n",
       "    </tr>\n",
       "    <tr>\n",
       "      <th>9</th>\n",
       "      <td>day</td>\n",
       "      <td>0.04</td>\n",
       "    </tr>\n",
       "    <tr>\n",
       "      <th>13</th>\n",
       "      <td>pdays</td>\n",
       "      <td>0.03</td>\n",
       "    </tr>\n",
       "    <tr>\n",
       "      <th>2</th>\n",
       "      <td>marital</td>\n",
       "      <td>0.02</td>\n",
       "    </tr>\n",
       "    <tr>\n",
       "      <th>12</th>\n",
       "      <td>campaign</td>\n",
       "      <td>0.02</td>\n",
       "    </tr>\n",
       "    <tr>\n",
       "      <th>7</th>\n",
       "      <td>loan</td>\n",
       "      <td>0.02</td>\n",
       "    </tr>\n",
       "    <tr>\n",
       "      <th>14</th>\n",
       "      <td>previous</td>\n",
       "      <td>0.02</td>\n",
       "    </tr>\n",
       "    <tr>\n",
       "      <th>1</th>\n",
       "      <td>job</td>\n",
       "      <td>0.01</td>\n",
       "    </tr>\n",
       "    <tr>\n",
       "      <th>3</th>\n",
       "      <td>education</td>\n",
       "      <td>0.01</td>\n",
       "    </tr>\n",
       "    <tr>\n",
       "      <th>4</th>\n",
       "      <td>default</td>\n",
       "      <td>0.00</td>\n",
       "    </tr>\n",
       "  </tbody>\n",
       "</table>\n",
       "</div>"
      ],
      "text/plain": [
       "     features  importance\n",
       "11   duration        0.43\n",
       "10      month        0.11\n",
       "15   poutcome        0.08\n",
       "8     contact        0.06\n",
       "0         age        0.05\n",
       "5     balance        0.04\n",
       "6     housing        0.04\n",
       "9         day        0.04\n",
       "13      pdays        0.03\n",
       "2     marital        0.02\n",
       "12   campaign        0.02\n",
       "7        loan        0.02\n",
       "14   previous        0.02\n",
       "1         job        0.01\n",
       "3   education        0.01\n",
       "4     default        0.00"
      ]
     },
     "execution_count": 86,
     "metadata": {},
     "output_type": "execute_result"
    }
   ],
   "source": [
    "df_feature_importance.sort_values(by=\"importance\", ascending=False)"
   ]
  },
  {
   "cell_type": "markdown",
   "metadata": {},
   "source": [
    "## 🔍 Feature Importance Analysis\n",
    "\n",
    "This analysis evaluates the influence of features on the model's predictions (likely for bank term deposit subscription). The feature importance values range from 0 (no contribution) to 1 (highest contribution).\n",
    "\n",
    "---\n",
    "\n",
    "### 🏆 Top Influential Features\n",
    "\n",
    "| Feature      | Importance | Interpretation |\n",
    "|--------------|------------|----------------|\n",
    "| **duration** | 0.42       | 🔥 **Most important**. Call duration is highly predictive but can cause **data leakage** since it is only known *after* the contact. |\n",
    "| **month**    | 0.11       | Captures **seasonality** in customer behavior. Some months may see higher subscription rates. |\n",
    "| **poutcome** | 0.08       | Outcome of the previous campaign. Strong signal if the customer was previously contacted. |\n",
    "\n",
    "---\n",
    "\n",
    "### 📈 Moderately Important Features\n",
    "\n",
    "| Feature     | Importance | Interpretation |\n",
    "|-------------|------------|----------------|\n",
    "| **contact** | 0.06       | Type of communication (e.g., cellular, telephone). Reflects likelihood of response. |\n",
    "| **age**     | 0.05       | Certain age groups may be more receptive to financial products. |\n",
    "| **balance** | 0.04       | Yearly average balance — financial health indicator. |\n",
    "| **housing** | 0.04       | Presence of housing loan — long-term commitment indicator. |\n",
    "| **day**     | 0.04       | Day of month for last contact. Less informative alone but may interact with other time features\n"
   ]
  },
  {
   "cell_type": "markdown",
   "metadata": {},
   "source": [
    "## Knowledge Extraction\n",
    "This section focuses on generating human-understandable, both general and customized, decision rules.\n",
    "\n",
    "It is divided into two main parts:\n",
    "\n",
    "1. **Global Rule Extraction**\n",
    "\n",
    ">> In this part, rules are extracted from the trained model in the form of general IF-THEN statements. These rules aim to describe the overall decision logic of the model.\n",
    "\n",
    "2. **Instance-Based Rule Extraction**\n",
    "\n",
    ">> This interactive component generates personalized IF-THEN rules based on information available prior to initiating the call. It allows users to input a specific instance and receive an explanation tailored to that scenario.\n",
    "\n"
   ]
  },
  {
   "cell_type": "markdown",
   "metadata": {},
   "source": [
    "### Global Rule Extraction"
   ]
  },
  {
   "cell_type": "markdown",
   "metadata": {},
   "source": [
    "Random Forest is inside a pipeline that includes a ColumnTransformer with one-hot encoding and scaling, we must treat the pipeline as a black box for rule extraction.\n",
    "\n",
    "\n",
    "✅ Goal\n",
    "Extract human-readable IF-THEN rules that approximate your full pipeline's behavior (preprocessing + Random Forest), using original feature names."
   ]
  },
  {
   "cell_type": "code",
   "execution_count": 87,
   "metadata": {},
   "outputs": [],
   "source": [
    "def humanize_condition(feature_name, threshold, op, mapping_dict):\n",
    "    if feature_name in mapping_dict:\n",
    "        return mapping_dict[feature_name]\n",
    "    else:\n",
    "        cond = f\"{feature_name} {op} {threshold:.4f}\"\n",
    "        return cond\n"
   ]
  },
  {
   "cell_type": "code",
   "execution_count": 88,
   "metadata": {},
   "outputs": [],
   "source": [
    "from sklearn.tree import DecisionTreeClassifier, _tree\n",
    "def extract_rules_from_tree_with_mapping(tree_model, feature_names, mapping_dict, class_names=None):\n",
    "    tree_ = tree_model.tree_\n",
    "    feature_name = [\n",
    "        feature_names[i] if i != _tree.TREE_UNDEFINED else \"undefined!\"\n",
    "        for i in tree_.feature\n",
    "    ]\n",
    "\n",
    "    rules = []\n",
    "\n",
    "    def recurse(node, current_rule):\n",
    "        if tree_.feature[node] != _tree.TREE_UNDEFINED:\n",
    "            name = feature_name[node]\n",
    "            threshold = tree_.threshold[node]\n",
    "\n",
    "            # LEFT child\n",
    "            recurse(\n",
    "                tree_.children_left[node],\n",
    "                current_rule + [humanize_condition(name, threshold, \"<=\", mapping_dict)]\n",
    "            )\n",
    "\n",
    "            # RIGHT child\n",
    "            recurse(\n",
    "                tree_.children_right[node],\n",
    "                current_rule + [humanize_condition(name, threshold, \">\", mapping_dict)]\n",
    "            )\n",
    "\n",
    "        else:\n",
    "            value = tree_.value[node][0]\n",
    "            prediction = np.argmax(value)\n",
    "            support = int(np.sum(value))\n",
    "            rule = {\n",
    "                \"rule\": \"IF \" + \" AND \".join(current_rule),\n",
    "                \"predicted_class\": class_names[prediction] if class_names else prediction,\n",
    "                \"support\": support\n",
    "            }\n",
    "            rules.append(rule)\n",
    "\n",
    "    recurse(0, [])\n",
    "    return pd.DataFrame(rules).sort_values(by=\"support\", ascending=False).reset_index(drop=True)\n"
   ]
  },
  {
   "cell_type": "code",
   "execution_count": 89,
   "metadata": {},
   "outputs": [],
   "source": [
    "X_train_dummy_encoded = pd.get_dummies(X_train, drop_first=False)\n",
    "\n",
    "feature_mapping = {}  # Maps encoded feature names to human-readable rules\n",
    "\n",
    "for col in X_test.columns:\n",
    "\n",
    "    if X_test[col].dtype == \"object\":\n",
    "        unique_vals = X_test[col].unique()\n",
    "        for val in unique_vals:\n",
    "            encoded_col = f\"{col}_{val}\"\n",
    "            feature_mapping[encoded_col] = f\"{col} == '{val}'\""
   ]
  },
  {
   "cell_type": "code",
   "execution_count": 90,
   "metadata": {},
   "outputs": [],
   "source": [
    "y_train_pred = RF_pretrained.predict(X_train)"
   ]
  },
  {
   "cell_type": "code",
   "execution_count": 91,
   "metadata": {},
   "outputs": [
    {
     "data": {
      "text/html": [
       "<style>#sk-container-id-2 {\n",
       "  /* Definition of color scheme common for light and dark mode */\n",
       "  --sklearn-color-text: black;\n",
       "  --sklearn-color-line: gray;\n",
       "  /* Definition of color scheme for unfitted estimators */\n",
       "  --sklearn-color-unfitted-level-0: #fff5e6;\n",
       "  --sklearn-color-unfitted-level-1: #f6e4d2;\n",
       "  --sklearn-color-unfitted-level-2: #ffe0b3;\n",
       "  --sklearn-color-unfitted-level-3: chocolate;\n",
       "  /* Definition of color scheme for fitted estimators */\n",
       "  --sklearn-color-fitted-level-0: #f0f8ff;\n",
       "  --sklearn-color-fitted-level-1: #d4ebff;\n",
       "  --sklearn-color-fitted-level-2: #b3dbfd;\n",
       "  --sklearn-color-fitted-level-3: cornflowerblue;\n",
       "\n",
       "  /* Specific color for light theme */\n",
       "  --sklearn-color-text-on-default-background: var(--sg-text-color, var(--theme-code-foreground, var(--jp-content-font-color1, black)));\n",
       "  --sklearn-color-background: var(--sg-background-color, var(--theme-background, var(--jp-layout-color0, white)));\n",
       "  --sklearn-color-border-box: var(--sg-text-color, var(--theme-code-foreground, var(--jp-content-font-color1, black)));\n",
       "  --sklearn-color-icon: #696969;\n",
       "\n",
       "  @media (prefers-color-scheme: dark) {\n",
       "    /* Redefinition of color scheme for dark theme */\n",
       "    --sklearn-color-text-on-default-background: var(--sg-text-color, var(--theme-code-foreground, var(--jp-content-font-color1, white)));\n",
       "    --sklearn-color-background: var(--sg-background-color, var(--theme-background, var(--jp-layout-color0, #111)));\n",
       "    --sklearn-color-border-box: var(--sg-text-color, var(--theme-code-foreground, var(--jp-content-font-color1, white)));\n",
       "    --sklearn-color-icon: #878787;\n",
       "  }\n",
       "}\n",
       "\n",
       "#sk-container-id-2 {\n",
       "  color: var(--sklearn-color-text);\n",
       "}\n",
       "\n",
       "#sk-container-id-2 pre {\n",
       "  padding: 0;\n",
       "}\n",
       "\n",
       "#sk-container-id-2 input.sk-hidden--visually {\n",
       "  border: 0;\n",
       "  clip: rect(1px 1px 1px 1px);\n",
       "  clip: rect(1px, 1px, 1px, 1px);\n",
       "  height: 1px;\n",
       "  margin: -1px;\n",
       "  overflow: hidden;\n",
       "  padding: 0;\n",
       "  position: absolute;\n",
       "  width: 1px;\n",
       "}\n",
       "\n",
       "#sk-container-id-2 div.sk-dashed-wrapped {\n",
       "  border: 1px dashed var(--sklearn-color-line);\n",
       "  margin: 0 0.4em 0.5em 0.4em;\n",
       "  box-sizing: border-box;\n",
       "  padding-bottom: 0.4em;\n",
       "  background-color: var(--sklearn-color-background);\n",
       "}\n",
       "\n",
       "#sk-container-id-2 div.sk-container {\n",
       "  /* jupyter's `normalize.less` sets `[hidden] { display: none; }`\n",
       "     but bootstrap.min.css set `[hidden] { display: none !important; }`\n",
       "     so we also need the `!important` here to be able to override the\n",
       "     default hidden behavior on the sphinx rendered scikit-learn.org.\n",
       "     See: https://github.com/scikit-learn/scikit-learn/issues/21755 */\n",
       "  display: inline-block !important;\n",
       "  position: relative;\n",
       "}\n",
       "\n",
       "#sk-container-id-2 div.sk-text-repr-fallback {\n",
       "  display: none;\n",
       "}\n",
       "\n",
       "div.sk-parallel-item,\n",
       "div.sk-serial,\n",
       "div.sk-item {\n",
       "  /* draw centered vertical line to link estimators */\n",
       "  background-image: linear-gradient(var(--sklearn-color-text-on-default-background), var(--sklearn-color-text-on-default-background));\n",
       "  background-size: 2px 100%;\n",
       "  background-repeat: no-repeat;\n",
       "  background-position: center center;\n",
       "}\n",
       "\n",
       "/* Parallel-specific style estimator block */\n",
       "\n",
       "#sk-container-id-2 div.sk-parallel-item::after {\n",
       "  content: \"\";\n",
       "  width: 100%;\n",
       "  border-bottom: 2px solid var(--sklearn-color-text-on-default-background);\n",
       "  flex-grow: 1;\n",
       "}\n",
       "\n",
       "#sk-container-id-2 div.sk-parallel {\n",
       "  display: flex;\n",
       "  align-items: stretch;\n",
       "  justify-content: center;\n",
       "  background-color: var(--sklearn-color-background);\n",
       "  position: relative;\n",
       "}\n",
       "\n",
       "#sk-container-id-2 div.sk-parallel-item {\n",
       "  display: flex;\n",
       "  flex-direction: column;\n",
       "}\n",
       "\n",
       "#sk-container-id-2 div.sk-parallel-item:first-child::after {\n",
       "  align-self: flex-end;\n",
       "  width: 50%;\n",
       "}\n",
       "\n",
       "#sk-container-id-2 div.sk-parallel-item:last-child::after {\n",
       "  align-self: flex-start;\n",
       "  width: 50%;\n",
       "}\n",
       "\n",
       "#sk-container-id-2 div.sk-parallel-item:only-child::after {\n",
       "  width: 0;\n",
       "}\n",
       "\n",
       "/* Serial-specific style estimator block */\n",
       "\n",
       "#sk-container-id-2 div.sk-serial {\n",
       "  display: flex;\n",
       "  flex-direction: column;\n",
       "  align-items: center;\n",
       "  background-color: var(--sklearn-color-background);\n",
       "  padding-right: 1em;\n",
       "  padding-left: 1em;\n",
       "}\n",
       "\n",
       "\n",
       "/* Toggleable style: style used for estimator/Pipeline/ColumnTransformer box that is\n",
       "clickable and can be expanded/collapsed.\n",
       "- Pipeline and ColumnTransformer use this feature and define the default style\n",
       "- Estimators will overwrite some part of the style using the `sk-estimator` class\n",
       "*/\n",
       "\n",
       "/* Pipeline and ColumnTransformer style (default) */\n",
       "\n",
       "#sk-container-id-2 div.sk-toggleable {\n",
       "  /* Default theme specific background. It is overwritten whether we have a\n",
       "  specific estimator or a Pipeline/ColumnTransformer */\n",
       "  background-color: var(--sklearn-color-background);\n",
       "}\n",
       "\n",
       "/* Toggleable label */\n",
       "#sk-container-id-2 label.sk-toggleable__label {\n",
       "  cursor: pointer;\n",
       "  display: block;\n",
       "  width: 100%;\n",
       "  margin-bottom: 0;\n",
       "  padding: 0.5em;\n",
       "  box-sizing: border-box;\n",
       "  text-align: center;\n",
       "}\n",
       "\n",
       "#sk-container-id-2 label.sk-toggleable__label-arrow:before {\n",
       "  /* Arrow on the left of the label */\n",
       "  content: \"▸\";\n",
       "  float: left;\n",
       "  margin-right: 0.25em;\n",
       "  color: var(--sklearn-color-icon);\n",
       "}\n",
       "\n",
       "#sk-container-id-2 label.sk-toggleable__label-arrow:hover:before {\n",
       "  color: var(--sklearn-color-text);\n",
       "}\n",
       "\n",
       "/* Toggleable content - dropdown */\n",
       "\n",
       "#sk-container-id-2 div.sk-toggleable__content {\n",
       "  max-height: 0;\n",
       "  max-width: 0;\n",
       "  overflow: hidden;\n",
       "  text-align: left;\n",
       "  /* unfitted */\n",
       "  background-color: var(--sklearn-color-unfitted-level-0);\n",
       "}\n",
       "\n",
       "#sk-container-id-2 div.sk-toggleable__content.fitted {\n",
       "  /* fitted */\n",
       "  background-color: var(--sklearn-color-fitted-level-0);\n",
       "}\n",
       "\n",
       "#sk-container-id-2 div.sk-toggleable__content pre {\n",
       "  margin: 0.2em;\n",
       "  border-radius: 0.25em;\n",
       "  color: var(--sklearn-color-text);\n",
       "  /* unfitted */\n",
       "  background-color: var(--sklearn-color-unfitted-level-0);\n",
       "}\n",
       "\n",
       "#sk-container-id-2 div.sk-toggleable__content.fitted pre {\n",
       "  /* unfitted */\n",
       "  background-color: var(--sklearn-color-fitted-level-0);\n",
       "}\n",
       "\n",
       "#sk-container-id-2 input.sk-toggleable__control:checked~div.sk-toggleable__content {\n",
       "  /* Expand drop-down */\n",
       "  max-height: 200px;\n",
       "  max-width: 100%;\n",
       "  overflow: auto;\n",
       "}\n",
       "\n",
       "#sk-container-id-2 input.sk-toggleable__control:checked~label.sk-toggleable__label-arrow:before {\n",
       "  content: \"▾\";\n",
       "}\n",
       "\n",
       "/* Pipeline/ColumnTransformer-specific style */\n",
       "\n",
       "#sk-container-id-2 div.sk-label input.sk-toggleable__control:checked~label.sk-toggleable__label {\n",
       "  color: var(--sklearn-color-text);\n",
       "  background-color: var(--sklearn-color-unfitted-level-2);\n",
       "}\n",
       "\n",
       "#sk-container-id-2 div.sk-label.fitted input.sk-toggleable__control:checked~label.sk-toggleable__label {\n",
       "  background-color: var(--sklearn-color-fitted-level-2);\n",
       "}\n",
       "\n",
       "/* Estimator-specific style */\n",
       "\n",
       "/* Colorize estimator box */\n",
       "#sk-container-id-2 div.sk-estimator input.sk-toggleable__control:checked~label.sk-toggleable__label {\n",
       "  /* unfitted */\n",
       "  background-color: var(--sklearn-color-unfitted-level-2);\n",
       "}\n",
       "\n",
       "#sk-container-id-2 div.sk-estimator.fitted input.sk-toggleable__control:checked~label.sk-toggleable__label {\n",
       "  /* fitted */\n",
       "  background-color: var(--sklearn-color-fitted-level-2);\n",
       "}\n",
       "\n",
       "#sk-container-id-2 div.sk-label label.sk-toggleable__label,\n",
       "#sk-container-id-2 div.sk-label label {\n",
       "  /* The background is the default theme color */\n",
       "  color: var(--sklearn-color-text-on-default-background);\n",
       "}\n",
       "\n",
       "/* On hover, darken the color of the background */\n",
       "#sk-container-id-2 div.sk-label:hover label.sk-toggleable__label {\n",
       "  color: var(--sklearn-color-text);\n",
       "  background-color: var(--sklearn-color-unfitted-level-2);\n",
       "}\n",
       "\n",
       "/* Label box, darken color on hover, fitted */\n",
       "#sk-container-id-2 div.sk-label.fitted:hover label.sk-toggleable__label.fitted {\n",
       "  color: var(--sklearn-color-text);\n",
       "  background-color: var(--sklearn-color-fitted-level-2);\n",
       "}\n",
       "\n",
       "/* Estimator label */\n",
       "\n",
       "#sk-container-id-2 div.sk-label label {\n",
       "  font-family: monospace;\n",
       "  font-weight: bold;\n",
       "  display: inline-block;\n",
       "  line-height: 1.2em;\n",
       "}\n",
       "\n",
       "#sk-container-id-2 div.sk-label-container {\n",
       "  text-align: center;\n",
       "}\n",
       "\n",
       "/* Estimator-specific */\n",
       "#sk-container-id-2 div.sk-estimator {\n",
       "  font-family: monospace;\n",
       "  border: 1px dotted var(--sklearn-color-border-box);\n",
       "  border-radius: 0.25em;\n",
       "  box-sizing: border-box;\n",
       "  margin-bottom: 0.5em;\n",
       "  /* unfitted */\n",
       "  background-color: var(--sklearn-color-unfitted-level-0);\n",
       "}\n",
       "\n",
       "#sk-container-id-2 div.sk-estimator.fitted {\n",
       "  /* fitted */\n",
       "  background-color: var(--sklearn-color-fitted-level-0);\n",
       "}\n",
       "\n",
       "/* on hover */\n",
       "#sk-container-id-2 div.sk-estimator:hover {\n",
       "  /* unfitted */\n",
       "  background-color: var(--sklearn-color-unfitted-level-2);\n",
       "}\n",
       "\n",
       "#sk-container-id-2 div.sk-estimator.fitted:hover {\n",
       "  /* fitted */\n",
       "  background-color: var(--sklearn-color-fitted-level-2);\n",
       "}\n",
       "\n",
       "/* Specification for estimator info (e.g. \"i\" and \"?\") */\n",
       "\n",
       "/* Common style for \"i\" and \"?\" */\n",
       "\n",
       ".sk-estimator-doc-link,\n",
       "a:link.sk-estimator-doc-link,\n",
       "a:visited.sk-estimator-doc-link {\n",
       "  float: right;\n",
       "  font-size: smaller;\n",
       "  line-height: 1em;\n",
       "  font-family: monospace;\n",
       "  background-color: var(--sklearn-color-background);\n",
       "  border-radius: 1em;\n",
       "  height: 1em;\n",
       "  width: 1em;\n",
       "  text-decoration: none !important;\n",
       "  margin-left: 1ex;\n",
       "  /* unfitted */\n",
       "  border: var(--sklearn-color-unfitted-level-1) 1pt solid;\n",
       "  color: var(--sklearn-color-unfitted-level-1);\n",
       "}\n",
       "\n",
       ".sk-estimator-doc-link.fitted,\n",
       "a:link.sk-estimator-doc-link.fitted,\n",
       "a:visited.sk-estimator-doc-link.fitted {\n",
       "  /* fitted */\n",
       "  border: var(--sklearn-color-fitted-level-1) 1pt solid;\n",
       "  color: var(--sklearn-color-fitted-level-1);\n",
       "}\n",
       "\n",
       "/* On hover */\n",
       "div.sk-estimator:hover .sk-estimator-doc-link:hover,\n",
       ".sk-estimator-doc-link:hover,\n",
       "div.sk-label-container:hover .sk-estimator-doc-link:hover,\n",
       ".sk-estimator-doc-link:hover {\n",
       "  /* unfitted */\n",
       "  background-color: var(--sklearn-color-unfitted-level-3);\n",
       "  color: var(--sklearn-color-background);\n",
       "  text-decoration: none;\n",
       "}\n",
       "\n",
       "div.sk-estimator.fitted:hover .sk-estimator-doc-link.fitted:hover,\n",
       ".sk-estimator-doc-link.fitted:hover,\n",
       "div.sk-label-container:hover .sk-estimator-doc-link.fitted:hover,\n",
       ".sk-estimator-doc-link.fitted:hover {\n",
       "  /* fitted */\n",
       "  background-color: var(--sklearn-color-fitted-level-3);\n",
       "  color: var(--sklearn-color-background);\n",
       "  text-decoration: none;\n",
       "}\n",
       "\n",
       "/* Span, style for the box shown on hovering the info icon */\n",
       ".sk-estimator-doc-link span {\n",
       "  display: none;\n",
       "  z-index: 9999;\n",
       "  position: relative;\n",
       "  font-weight: normal;\n",
       "  right: .2ex;\n",
       "  padding: .5ex;\n",
       "  margin: .5ex;\n",
       "  width: min-content;\n",
       "  min-width: 20ex;\n",
       "  max-width: 50ex;\n",
       "  color: var(--sklearn-color-text);\n",
       "  box-shadow: 2pt 2pt 4pt #999;\n",
       "  /* unfitted */\n",
       "  background: var(--sklearn-color-unfitted-level-0);\n",
       "  border: .5pt solid var(--sklearn-color-unfitted-level-3);\n",
       "}\n",
       "\n",
       ".sk-estimator-doc-link.fitted span {\n",
       "  /* fitted */\n",
       "  background: var(--sklearn-color-fitted-level-0);\n",
       "  border: var(--sklearn-color-fitted-level-3);\n",
       "}\n",
       "\n",
       ".sk-estimator-doc-link:hover span {\n",
       "  display: block;\n",
       "}\n",
       "\n",
       "/* \"?\"-specific style due to the `<a>` HTML tag */\n",
       "\n",
       "#sk-container-id-2 a.estimator_doc_link {\n",
       "  float: right;\n",
       "  font-size: 1rem;\n",
       "  line-height: 1em;\n",
       "  font-family: monospace;\n",
       "  background-color: var(--sklearn-color-background);\n",
       "  border-radius: 1rem;\n",
       "  height: 1rem;\n",
       "  width: 1rem;\n",
       "  text-decoration: none;\n",
       "  /* unfitted */\n",
       "  color: var(--sklearn-color-unfitted-level-1);\n",
       "  border: var(--sklearn-color-unfitted-level-1) 1pt solid;\n",
       "}\n",
       "\n",
       "#sk-container-id-2 a.estimator_doc_link.fitted {\n",
       "  /* fitted */\n",
       "  border: var(--sklearn-color-fitted-level-1) 1pt solid;\n",
       "  color: var(--sklearn-color-fitted-level-1);\n",
       "}\n",
       "\n",
       "/* On hover */\n",
       "#sk-container-id-2 a.estimator_doc_link:hover {\n",
       "  /* unfitted */\n",
       "  background-color: var(--sklearn-color-unfitted-level-3);\n",
       "  color: var(--sklearn-color-background);\n",
       "  text-decoration: none;\n",
       "}\n",
       "\n",
       "#sk-container-id-2 a.estimator_doc_link.fitted:hover {\n",
       "  /* fitted */\n",
       "  background-color: var(--sklearn-color-fitted-level-3);\n",
       "}\n",
       "</style><div id=\"sk-container-id-2\" class=\"sk-top-container\"><div class=\"sk-text-repr-fallback\"><pre>DecisionTreeClassifier(max_depth=3, min_samples_leaf=50, random_state=42)</pre><b>In a Jupyter environment, please rerun this cell to show the HTML representation or trust the notebook. <br />On GitHub, the HTML representation is unable to render, please try loading this page with nbviewer.org.</b></div><div class=\"sk-container\" hidden><div class=\"sk-item\"><div class=\"sk-estimator fitted sk-toggleable\"><input class=\"sk-toggleable__control sk-hidden--visually\" id=\"sk-estimator-id-2\" type=\"checkbox\" checked><label for=\"sk-estimator-id-2\" class=\"sk-toggleable__label fitted sk-toggleable__label-arrow fitted\">&nbsp;&nbsp;DecisionTreeClassifier<a class=\"sk-estimator-doc-link fitted\" rel=\"noreferrer\" target=\"_blank\" href=\"https://scikit-learn.org/1.5/modules/generated/sklearn.tree.DecisionTreeClassifier.html\">?<span>Documentation for DecisionTreeClassifier</span></a><span class=\"sk-estimator-doc-link fitted\">i<span>Fitted</span></span></label><div class=\"sk-toggleable__content fitted\"><pre>DecisionTreeClassifier(max_depth=3, min_samples_leaf=50, random_state=42)</pre></div> </div></div></div></div>"
      ],
      "text/plain": [
       "DecisionTreeClassifier(max_depth=3, min_samples_leaf=50, random_state=42)"
      ]
     },
     "execution_count": 91,
     "metadata": {},
     "output_type": "execute_result"
    }
   ],
   "source": [
    "from sklearn.tree import DecisionTreeClassifier\n",
    "\n",
    "surrogate_model = DecisionTreeClassifier(max_depth=3, min_samples_leaf=50, random_state=42)\n",
    "surrogate_model.fit(X_train_dummy_encoded, y_train_pred)"
   ]
  },
  {
   "cell_type": "code",
   "execution_count": 92,
   "metadata": {},
   "outputs": [
    {
     "name": "stdout",
     "output_type": "stream",
     "text": [
      "Surrogate vs Pipeline Accuracy: 0.8979377680445296\n"
     ]
    }
   ],
   "source": [
    "from sklearn.metrics import accuracy_score\n",
    "\n",
    "surrogate_preds = surrogate_model.predict(X_train_dummy_encoded)\n",
    "print(\"Surrogate vs Pipeline Accuracy:\", accuracy_score(y_train_pred, surrogate_preds))"
   ]
  },
  {
   "cell_type": "code",
   "execution_count": 93,
   "metadata": {},
   "outputs": [],
   "source": [
    "rule_df = extract_rules_from_tree_with_mapping(\n",
    "    surrogate_model,\n",
    "    feature_names=X_train_dummy_encoded.columns.tolist(),\n",
    "    mapping_dict=feature_mapping,\n",
    "    class_names=[\"no\", \"yes\"]\n",
    ")\n"
   ]
  },
  {
   "cell_type": "code",
   "execution_count": 94,
   "metadata": {},
   "outputs": [
    {
     "name": "stdout",
     "output_type": "stream",
     "text": [
      "<class 'pandas.core.frame.DataFrame'>\n",
      "RangeIndex: 8 entries, 0 to 7\n",
      "Data columns (total 3 columns):\n",
      " #   Column           Non-Null Count  Dtype \n",
      "---  ------           --------------  ----- \n",
      " 0   rule             8 non-null      object\n",
      " 1   predicted_class  8 non-null      object\n",
      " 2   support          8 non-null      int64 \n",
      "dtypes: int64(1), object(2)\n",
      "memory usage: 324.0+ bytes\n"
     ]
    }
   ],
   "source": [
    "rule_df.info()"
   ]
  },
  {
   "cell_type": "code",
   "execution_count": 95,
   "metadata": {},
   "outputs": [
    {
     "data": {
      "text/html": [
       "<div>\n",
       "<style scoped>\n",
       "    .dataframe tbody tr th:only-of-type {\n",
       "        vertical-align: middle;\n",
       "    }\n",
       "\n",
       "    .dataframe tbody tr th {\n",
       "        vertical-align: top;\n",
       "    }\n",
       "\n",
       "    .dataframe thead th {\n",
       "        text-align: right;\n",
       "    }\n",
       "</style>\n",
       "<table border=\"1\" class=\"dataframe\">\n",
       "  <thead>\n",
       "    <tr style=\"text-align: right;\">\n",
       "      <th></th>\n",
       "      <th>rule</th>\n",
       "      <th>predicted_class</th>\n",
       "      <th>support</th>\n",
       "    </tr>\n",
       "  </thead>\n",
       "  <tbody>\n",
       "    <tr>\n",
       "      <th>3</th>\n",
       "      <td>IF duration &lt;= 493.5000 AND poutcome == 'succe...</td>\n",
       "      <td>yes</td>\n",
       "      <td>1</td>\n",
       "    </tr>\n",
       "    <tr>\n",
       "      <th>4</th>\n",
       "      <td>IF duration &gt; 493.5000 AND duration &lt;= 629.500...</td>\n",
       "      <td>yes</td>\n",
       "      <td>1</td>\n",
       "    </tr>\n",
       "    <tr>\n",
       "      <th>6</th>\n",
       "      <td>IF duration &gt; 493.5000 AND duration &gt; 629.5000...</td>\n",
       "      <td>yes</td>\n",
       "      <td>1</td>\n",
       "    </tr>\n",
       "    <tr>\n",
       "      <th>7</th>\n",
       "      <td>IF duration &gt; 493.5000 AND duration &gt; 629.5000...</td>\n",
       "      <td>yes</td>\n",
       "      <td>1</td>\n",
       "    </tr>\n",
       "  </tbody>\n",
       "</table>\n",
       "</div>"
      ],
      "text/plain": [
       "                                                rule predicted_class  support\n",
       "3  IF duration <= 493.5000 AND poutcome == 'succe...             yes        1\n",
       "4  IF duration > 493.5000 AND duration <= 629.500...             yes        1\n",
       "6  IF duration > 493.5000 AND duration > 629.5000...             yes        1\n",
       "7  IF duration > 493.5000 AND duration > 629.5000...             yes        1"
      ]
     },
     "execution_count": 95,
     "metadata": {},
     "output_type": "execute_result"
    }
   ],
   "source": [
    "d= rule_df.loc[rule_df[\"predicted_class\"]==\"yes\"]\n",
    "\n",
    "d"
   ]
  },
  {
   "cell_type": "code",
   "execution_count": 119,
   "metadata": {},
   "outputs": [
    {
     "name": "stdout",
     "output_type": "stream",
     "text": [
      "IF duration <= 493.5000 AND poutcome == 'success' AND duration > 116.5000\n"
     ]
    }
   ],
   "source": [
    "print(d.loc[3]['rule'])\n"
   ]
  },
  {
   "cell_type": "code",
   "execution_count": 96,
   "metadata": {},
   "outputs": [
    {
     "ename": "KeyError",
     "evalue": "8",
     "output_type": "error",
     "traceback": [
      "\u001b[1;31m---------------------------------------------------------------------------\u001b[0m",
      "\u001b[1;31mKeyError\u001b[0m                                  Traceback (most recent call last)",
      "File \u001b[1;32mc:\\Users\\mehri\\AppData\\Local\\Programs\\Python\\Python312\\Lib\\site-packages\\pandas\\core\\indexes\\base.py:3805\u001b[0m, in \u001b[0;36mIndex.get_loc\u001b[1;34m(self, key)\u001b[0m\n\u001b[0;32m   3804\u001b[0m \u001b[38;5;28;01mtry\u001b[39;00m:\n\u001b[1;32m-> 3805\u001b[0m     \u001b[38;5;28;01mreturn\u001b[39;00m \u001b[38;5;28;43mself\u001b[39;49m\u001b[38;5;241;43m.\u001b[39;49m\u001b[43m_engine\u001b[49m\u001b[38;5;241;43m.\u001b[39;49m\u001b[43mget_loc\u001b[49m\u001b[43m(\u001b[49m\u001b[43mcasted_key\u001b[49m\u001b[43m)\u001b[49m\n\u001b[0;32m   3806\u001b[0m \u001b[38;5;28;01mexcept\u001b[39;00m \u001b[38;5;167;01mKeyError\u001b[39;00m \u001b[38;5;28;01mas\u001b[39;00m err:\n",
      "File \u001b[1;32mindex.pyx:167\u001b[0m, in \u001b[0;36mpandas._libs.index.IndexEngine.get_loc\u001b[1;34m()\u001b[0m\n",
      "File \u001b[1;32mindex.pyx:196\u001b[0m, in \u001b[0;36mpandas._libs.index.IndexEngine.get_loc\u001b[1;34m()\u001b[0m\n",
      "File \u001b[1;32mpandas\\\\_libs\\\\hashtable_class_helper.pxi:2606\u001b[0m, in \u001b[0;36mpandas._libs.hashtable.Int64HashTable.get_item\u001b[1;34m()\u001b[0m\n",
      "File \u001b[1;32mpandas\\\\_libs\\\\hashtable_class_helper.pxi:2630\u001b[0m, in \u001b[0;36mpandas._libs.hashtable.Int64HashTable.get_item\u001b[1;34m()\u001b[0m\n",
      "\u001b[1;31mKeyError\u001b[0m: 8",
      "\nThe above exception was the direct cause of the following exception:\n",
      "\u001b[1;31mKeyError\u001b[0m                                  Traceback (most recent call last)",
      "Cell \u001b[1;32mIn[96], line 1\u001b[0m\n\u001b[1;32m----> 1\u001b[0m \u001b[38;5;28mprint\u001b[39m(\u001b[43md\u001b[49m\u001b[38;5;241;43m.\u001b[39;49m\u001b[43mloc\u001b[49m\u001b[43m[\u001b[49m\u001b[38;5;241;43m8\u001b[39;49m\u001b[43m]\u001b[49m[\u001b[38;5;124m'\u001b[39m\u001b[38;5;124mrule\u001b[39m\u001b[38;5;124m'\u001b[39m])\n",
      "File \u001b[1;32mc:\\Users\\mehri\\AppData\\Local\\Programs\\Python\\Python312\\Lib\\site-packages\\pandas\\core\\indexing.py:1191\u001b[0m, in \u001b[0;36m_LocationIndexer.__getitem__\u001b[1;34m(self, key)\u001b[0m\n\u001b[0;32m   1189\u001b[0m maybe_callable \u001b[38;5;241m=\u001b[39m com\u001b[38;5;241m.\u001b[39mapply_if_callable(key, \u001b[38;5;28mself\u001b[39m\u001b[38;5;241m.\u001b[39mobj)\n\u001b[0;32m   1190\u001b[0m maybe_callable \u001b[38;5;241m=\u001b[39m \u001b[38;5;28mself\u001b[39m\u001b[38;5;241m.\u001b[39m_check_deprecated_callable_usage(key, maybe_callable)\n\u001b[1;32m-> 1191\u001b[0m \u001b[38;5;28;01mreturn\u001b[39;00m \u001b[38;5;28;43mself\u001b[39;49m\u001b[38;5;241;43m.\u001b[39;49m\u001b[43m_getitem_axis\u001b[49m\u001b[43m(\u001b[49m\u001b[43mmaybe_callable\u001b[49m\u001b[43m,\u001b[49m\u001b[43m \u001b[49m\u001b[43maxis\u001b[49m\u001b[38;5;241;43m=\u001b[39;49m\u001b[43maxis\u001b[49m\u001b[43m)\u001b[49m\n",
      "File \u001b[1;32mc:\\Users\\mehri\\AppData\\Local\\Programs\\Python\\Python312\\Lib\\site-packages\\pandas\\core\\indexing.py:1431\u001b[0m, in \u001b[0;36m_LocIndexer._getitem_axis\u001b[1;34m(self, key, axis)\u001b[0m\n\u001b[0;32m   1429\u001b[0m \u001b[38;5;66;03m# fall thru to straight lookup\u001b[39;00m\n\u001b[0;32m   1430\u001b[0m \u001b[38;5;28mself\u001b[39m\u001b[38;5;241m.\u001b[39m_validate_key(key, axis)\n\u001b[1;32m-> 1431\u001b[0m \u001b[38;5;28;01mreturn\u001b[39;00m \u001b[38;5;28;43mself\u001b[39;49m\u001b[38;5;241;43m.\u001b[39;49m\u001b[43m_get_label\u001b[49m\u001b[43m(\u001b[49m\u001b[43mkey\u001b[49m\u001b[43m,\u001b[49m\u001b[43m \u001b[49m\u001b[43maxis\u001b[49m\u001b[38;5;241;43m=\u001b[39;49m\u001b[43maxis\u001b[49m\u001b[43m)\u001b[49m\n",
      "File \u001b[1;32mc:\\Users\\mehri\\AppData\\Local\\Programs\\Python\\Python312\\Lib\\site-packages\\pandas\\core\\indexing.py:1381\u001b[0m, in \u001b[0;36m_LocIndexer._get_label\u001b[1;34m(self, label, axis)\u001b[0m\n\u001b[0;32m   1379\u001b[0m \u001b[38;5;28;01mdef\u001b[39;00m \u001b[38;5;21m_get_label\u001b[39m(\u001b[38;5;28mself\u001b[39m, label, axis: AxisInt):\n\u001b[0;32m   1380\u001b[0m     \u001b[38;5;66;03m# GH#5567 this will fail if the label is not present in the axis.\u001b[39;00m\n\u001b[1;32m-> 1381\u001b[0m     \u001b[38;5;28;01mreturn\u001b[39;00m \u001b[38;5;28;43mself\u001b[39;49m\u001b[38;5;241;43m.\u001b[39;49m\u001b[43mobj\u001b[49m\u001b[38;5;241;43m.\u001b[39;49m\u001b[43mxs\u001b[49m\u001b[43m(\u001b[49m\u001b[43mlabel\u001b[49m\u001b[43m,\u001b[49m\u001b[43m \u001b[49m\u001b[43maxis\u001b[49m\u001b[38;5;241;43m=\u001b[39;49m\u001b[43maxis\u001b[49m\u001b[43m)\u001b[49m\n",
      "File \u001b[1;32mc:\\Users\\mehri\\AppData\\Local\\Programs\\Python\\Python312\\Lib\\site-packages\\pandas\\core\\generic.py:4301\u001b[0m, in \u001b[0;36mNDFrame.xs\u001b[1;34m(self, key, axis, level, drop_level)\u001b[0m\n\u001b[0;32m   4299\u001b[0m             new_index \u001b[38;5;241m=\u001b[39m index[loc]\n\u001b[0;32m   4300\u001b[0m \u001b[38;5;28;01melse\u001b[39;00m:\n\u001b[1;32m-> 4301\u001b[0m     loc \u001b[38;5;241m=\u001b[39m \u001b[43mindex\u001b[49m\u001b[38;5;241;43m.\u001b[39;49m\u001b[43mget_loc\u001b[49m\u001b[43m(\u001b[49m\u001b[43mkey\u001b[49m\u001b[43m)\u001b[49m\n\u001b[0;32m   4303\u001b[0m     \u001b[38;5;28;01mif\u001b[39;00m \u001b[38;5;28misinstance\u001b[39m(loc, np\u001b[38;5;241m.\u001b[39mndarray):\n\u001b[0;32m   4304\u001b[0m         \u001b[38;5;28;01mif\u001b[39;00m loc\u001b[38;5;241m.\u001b[39mdtype \u001b[38;5;241m==\u001b[39m np\u001b[38;5;241m.\u001b[39mbool_:\n",
      "File \u001b[1;32mc:\\Users\\mehri\\AppData\\Local\\Programs\\Python\\Python312\\Lib\\site-packages\\pandas\\core\\indexes\\base.py:3812\u001b[0m, in \u001b[0;36mIndex.get_loc\u001b[1;34m(self, key)\u001b[0m\n\u001b[0;32m   3807\u001b[0m     \u001b[38;5;28;01mif\u001b[39;00m \u001b[38;5;28misinstance\u001b[39m(casted_key, \u001b[38;5;28mslice\u001b[39m) \u001b[38;5;129;01mor\u001b[39;00m (\n\u001b[0;32m   3808\u001b[0m         \u001b[38;5;28misinstance\u001b[39m(casted_key, abc\u001b[38;5;241m.\u001b[39mIterable)\n\u001b[0;32m   3809\u001b[0m         \u001b[38;5;129;01mand\u001b[39;00m \u001b[38;5;28many\u001b[39m(\u001b[38;5;28misinstance\u001b[39m(x, \u001b[38;5;28mslice\u001b[39m) \u001b[38;5;28;01mfor\u001b[39;00m x \u001b[38;5;129;01min\u001b[39;00m casted_key)\n\u001b[0;32m   3810\u001b[0m     ):\n\u001b[0;32m   3811\u001b[0m         \u001b[38;5;28;01mraise\u001b[39;00m InvalidIndexError(key)\n\u001b[1;32m-> 3812\u001b[0m     \u001b[38;5;28;01mraise\u001b[39;00m \u001b[38;5;167;01mKeyError\u001b[39;00m(key) \u001b[38;5;28;01mfrom\u001b[39;00m \u001b[38;5;21;01merr\u001b[39;00m\n\u001b[0;32m   3813\u001b[0m \u001b[38;5;28;01mexcept\u001b[39;00m \u001b[38;5;167;01mTypeError\u001b[39;00m:\n\u001b[0;32m   3814\u001b[0m     \u001b[38;5;66;03m# If we have a listlike key, _check_indexing_error will raise\u001b[39;00m\n\u001b[0;32m   3815\u001b[0m     \u001b[38;5;66;03m#  InvalidIndexError. Otherwise we fall through and re-raise\u001b[39;00m\n\u001b[0;32m   3816\u001b[0m     \u001b[38;5;66;03m#  the TypeError.\u001b[39;00m\n\u001b[0;32m   3817\u001b[0m     \u001b[38;5;28mself\u001b[39m\u001b[38;5;241m.\u001b[39m_check_indexing_error(key)\n",
      "\u001b[1;31mKeyError\u001b[0m: 8"
     ]
    }
   ],
   "source": [
    "print(d.loc[8]['rule'])\n"
   ]
  },
  {
   "cell_type": "code",
   "execution_count": 97,
   "metadata": {},
   "outputs": [],
   "source": [
    "\n",
    "from sklearn.compose import ColumnTransformer\n",
    "\n",
    "\n",
    "\n",
    "def extract_surrogate_rules(pipeline, X: pd.DataFrame, y_pred_pipeline: np.ndarray, \n",
    "                            feature_names: list, max_depth: int = 3) -> pd.DataFrame:\n",
    "    \"\"\"\n",
    "    Extract surrogate decision tree rules from a scikit-learn pipeline with preprocessing and a RandomForestClassifier.\n",
    "\n",
    "    Args:\n",
    "        pipeline (Pipeline): Fitted pipeline including preprocessing and classifier.\n",
    "        X (pd.DataFrame): Original input data (before preprocessing).\n",
    "        y_pred_pipeline (np.ndarray): Labels predicted by the pipeline for each X.\n",
    "        feature_names (list): List of original feature names.\n",
    "        max_depth (int): Maximum depth for the surrogate decision tree.\n",
    "\n",
    "    Returns:\n",
    "        pd.DataFrame: A dataframe with columns: \"rule\", \"support\", \"confidence\"\n",
    "    \"\"\"\n",
    "    # Step 1: Extract preprocessing step and transform X\n",
    "    preprocessor = pipeline.named_steps['preprocessor'] if 'preprocessor' in pipeline.named_steps else pipeline.steps[0][1]\n",
    "    \n",
    "    if isinstance(preprocessor, ColumnTransformer):\n",
    "        transformed_X = preprocessor.transform(X)\n",
    "        try:\n",
    "            transformed_feature_names = preprocessor.get_feature_names_out(feature_names)\n",
    "        except:\n",
    "            transformed_feature_names = [f\"f{i}\" for i in range(transformed_X.shape[1])]\n",
    "    else:\n",
    "        transformed_X = preprocessor.transform(X)\n",
    "        transformed_feature_names = feature_names\n",
    "\n",
    "    # Step 2: Fit surrogate decision tree\n",
    "    surrogate = DecisionTreeClassifier(max_depth=max_depth)\n",
    "    surrogate.fit(transformed_X, y_pred_pipeline)\n",
    "\n",
    "    # Step 3: Extract rules from surrogate\n",
    "    tree = surrogate.tree_\n",
    "    features = [\n",
    "        transformed_feature_names[i] if i != _tree.TREE_UNDEFINED else \"undefined!\"\n",
    "        for i in tree.feature\n",
    "    ]\n",
    "\n",
    "    rules = []\n",
    "\n",
    "    def recurse(node, rule_conditions):\n",
    "        if tree.feature[node] != _tree.TREE_UNDEFINED:\n",
    "            name = features[node]\n",
    "            threshold = tree.threshold[node]\n",
    "            # Left\n",
    "            recurse(tree.children_left[node], rule_conditions + [f\"{name} <= {threshold:.3f}\"])\n",
    "            # Right\n",
    "            recurse(tree.children_right[node], rule_conditions + [f\"{name} > {threshold:.3f}\"])\n",
    "        else:\n",
    "            samples = tree.n_node_samples[node]\n",
    "            value = tree.value[node][0]\n",
    "            predicted_class = np.argmax(value)\n",
    "            confidence = value[predicted_class] / np.sum(value)\n",
    "            support = samples / X.shape[0]\n",
    "            rule = \"IF \" + \" AND \".join(rule_conditions) + f\" THEN class={predicted_class}\"\n",
    "            rules.append({\n",
    "                \"rule\": rule,\n",
    "                \"support\": round(support, 3),\n",
    "                \"confidence\": round(confidence, 3)\n",
    "            })\n",
    "\n",
    "    recurse(0, [])\n",
    "\n",
    "    return pd.DataFrame(rules)\n"
   ]
  },
  {
   "cell_type": "code",
   "execution_count": 98,
   "metadata": {},
   "outputs": [
    {
     "name": "stdout",
     "output_type": "stream",
     "text": [
      "                                                 rule  support  confidence\n",
      "0   IF num__duration <= 1.001 AND cat__poutcome_su...    0.237       0.922\n",
      "1   IF num__duration <= 1.001 AND cat__poutcome_su...    0.136       0.623\n",
      "2   IF num__duration <= 1.001 AND cat__poutcome_su...    0.478       0.975\n",
      "3   IF num__duration <= 1.001 AND cat__poutcome_su...    0.002       0.708\n",
      "4   IF num__duration <= 1.001 AND cat__poutcome_su...    0.001       0.938\n",
      "5   IF num__duration <= 1.001 AND cat__poutcome_su...    0.002       0.610\n",
      "6   IF num__duration <= 1.001 AND cat__poutcome_su...    0.002       0.806\n",
      "7   IF num__duration <= 1.001 AND cat__poutcome_su...    0.021       0.990\n",
      "8   IF num__duration > 1.001 AND num__duration <= ...    0.028       0.807\n",
      "9   IF num__duration > 1.001 AND num__duration <= ...    0.006       0.602\n",
      "10  IF num__duration > 1.001 AND num__duration <= ...    0.004       0.637\n",
      "11  IF num__duration > 1.001 AND num__duration <= ...    0.008       0.859\n",
      "12  IF num__duration > 1.001 AND num__duration > 1...    0.045       0.990\n",
      "13  IF num__duration > 1.001 AND num__duration > 1...    0.009       0.905\n",
      "14  IF num__duration > 1.001 AND num__duration > 1...    0.011       0.644\n",
      "15  IF num__duration > 1.001 AND num__duration > 1...    0.009       0.951\n"
     ]
    }
   ],
   "source": [
    "y_pred = RF_pretrained.predict(X_train)\n",
    "\n",
    "rules_df = extract_surrogate_rules(\n",
    "    pipeline=RF_pretrained,\n",
    "    X=X_train,\n",
    "    y_pred_pipeline=y_pred,\n",
    "    feature_names=X_train.columns.tolist(),\n",
    "    max_depth=4\n",
    ")\n",
    "\n",
    "print(rules_df)"
   ]
  },
  {
   "cell_type": "code",
   "execution_count": null,
   "metadata": {},
   "outputs": [],
   "source": []
  },
  {
   "cell_type": "code",
   "execution_count": 136,
   "metadata": {},
   "outputs": [],
   "source": [
    "y_pred = RF_pretrained.predict(X_train)\n",
    "\n",
    "rules_df = extract_surrogate_rules(\n",
    "    pipeline=RF_pretrained,\n",
    "    X=X_train,\n",
    "    y_pred_pipeline=y_pred,\n",
    "    feature_names=X_train.columns.tolist(),\n",
    "    max_depth=4)\n",
    "\n"
   ]
  },
  {
   "cell_type": "code",
   "execution_count": 138,
   "metadata": {},
   "outputs": [
    {
     "name": "stdout",
     "output_type": "stream",
     "text": [
      "                                                 rule  support  confidence\n",
      "0   IF duration <= 1.001 AND poutcome != success A...    0.237       0.922\n",
      "1   IF duration <= 1.001 AND poutcome != success A...    0.136       0.623\n",
      "2   IF duration <= 1.001 AND poutcome != success A...    0.478       0.975\n",
      "3   IF duration <= 1.001 AND poutcome != success A...    0.002       0.708\n",
      "4   IF duration <= 1.001 AND poutcome == success A...    0.001       0.938\n",
      "5   IF duration <= 1.001 AND poutcome == success A...    0.002       0.610\n",
      "6   IF duration <= 1.001 AND poutcome == success A...    0.002       0.806\n",
      "7   IF duration <= 1.001 AND poutcome == success A...    0.021       0.990\n",
      "8   IF duration > 1.001 AND duration <= 1.572 AND ...    0.028       0.807\n",
      "9   IF duration > 1.001 AND duration <= 1.572 AND ...    0.006       0.602\n",
      "10  IF duration > 1.001 AND duration <= 1.572 AND ...    0.004       0.637\n",
      "11  IF duration > 1.001 AND duration <= 1.572 AND ...    0.008       0.859\n",
      "12  IF duration > 1.001 AND duration > 1.572 AND c...    0.045       0.990\n",
      "13  IF duration > 1.001 AND duration > 1.572 AND c...    0.009       0.905\n",
      "14  IF duration > 1.001 AND duration > 1.572 AND c...    0.011       0.644\n",
      "15  IF duration > 1.001 AND duration > 1.572 AND c...    0.009       0.951\n"
     ]
    }
   ],
   "source": [
    "print(rules_df)"
   ]
  },
  {
   "cell_type": "code",
   "execution_count": null,
   "metadata": {},
   "outputs": [],
   "source": []
  }
 ],
 "metadata": {
  "kernelspec": {
   "display_name": "Python_ML (.env)",
   "language": "python",
   "name": "machinelearningenvironment"
  },
  "language_info": {
   "codemirror_mode": {
    "name": "ipython",
    "version": 3
   },
   "file_extension": ".py",
   "mimetype": "text/x-python",
   "name": "python",
   "nbconvert_exporter": "python",
   "pygments_lexer": "ipython3",
   "version": "3.12.5"
  }
 },
 "nbformat": 4,
 "nbformat_minor": 2
}
